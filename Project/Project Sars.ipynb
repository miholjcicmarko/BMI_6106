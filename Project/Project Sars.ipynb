{
 "cells": [
  {
   "cell_type": "code",
   "execution_count": 38,
   "metadata": {},
   "outputs": [],
   "source": [
    "library(tidyverse)\n",
    "library(\"ggplot2\")\n",
    "library(\"dplyr\")\n",
    "library(\"reshape2\")\n",
    "library(\"knitr\")\n",
    "\n",
    "dfC = read.csv(\"CumulativeCases.csv\", header = T)\n",
    "dfD = read.csv(\"TotalDeaths.csv\", header = T)\n",
    "dfW = read.csv(\"WHOselect.csv\", header = T)\n",
    "\n",
    "dfFCC = read.csv(\"FinalDayCC.csv\", header = T)\n",
    "dfFD = read.csv(\"FinalDayTD.csv\", header = T) \n",
    "\n",
    "dfCoronaFinC = read.csv(\"FinDayCoronaC.csv\", header = T)\n",
    "dfCoronaFinD = read.csv(\"FinDayCoronaD.csv\", header = T)\n",
    "\n",
    "sarsCorona = read.csv(\"SarsCoronaTDandCC.csv\", header = T)\n"
   ]
  },
  {
   "cell_type": "code",
   "execution_count": 48,
   "metadata": {},
   "outputs": [
    {
     "data": {
      "text/html": [
       "<table>\n",
       "<caption>A data.frame: 7 × 29</caption>\n",
       "<thead>\n",
       "\t<tr><th scope=col>X</th><th scope=col>Member.State</th><th scope=col>Total.population..2002.</th><th scope=col>Annual.Growth.Rate.....1992.2002</th><th scope=col>Dependency.ratio.1992</th><th scope=col>Dependency.ratio.2002</th><th scope=col>Percentage.of.population.aged.60...1992.</th><th scope=col>Percentage.of.population.aged.60...2002.</th><th scope=col>Total.Fertility.Rate.1992</th><th scope=col>Total.Fertility.Rate.2002</th><th scope=col>⋯</th><th scope=col>PROBABILITY.OF.DYING.UNDER.AGE.OF.5.MALES.2002.Lower.Bound.Uncertainty.Interval..per.1000.</th><th scope=col>PROBABILITY.OF.DYING.UNDER.AGE.OF.5.FEMALES.2002..per.1000.</th><th scope=col>PROBABILITY.OF.DYING.UNDER.AGE.OF.5.FEMALES.2002.Upper.Bound.Uncertainty.Interval..per.1000.</th><th scope=col>PROBABILITY.OF.DYING.UNDER.AGE.OF.5.FEMALES.2002.Lower.Bound.Uncertainty.Interval..per.1000.</th><th scope=col>PROBABILITY.OF.DYING.AGE.15.59.MALES.2002..per.1000.</th><th scope=col>PROBABILITY.OF.DYING.AGE.15.59.MALES.2002.Upper.Bound.Uncertainty.Interval..per.1000.</th><th scope=col>PROBABILITY.OF.DYING.AGE.15.59.MALES.2002.Lower.Bound.Uncertainty.Interval..per.1000.</th><th scope=col>PROBABILITY.OF.DYING.AGE.15.59.FEMALES.2002..per.1000.</th><th scope=col>PROBABILITY.OF.DYING.AGE.15.59.FEMALES.2002.Upper.Bound.Uncertainty.Interval..per.1000.</th><th scope=col>PROBABILITY.OF.DYING.AGE.15.59.FEMALES.2002.Lower.Bound.Uncertainty.Interval..per.1000.</th></tr>\n",
       "\t<tr><th scope=col>&lt;int&gt;</th><th scope=col>&lt;fct&gt;</th><th scope=col>&lt;dbl&gt;</th><th scope=col>&lt;dbl&gt;</th><th scope=col>&lt;int&gt;</th><th scope=col>&lt;int&gt;</th><th scope=col>&lt;dbl&gt;</th><th scope=col>&lt;dbl&gt;</th><th scope=col>&lt;dbl&gt;</th><th scope=col>&lt;dbl&gt;</th><th scope=col>⋯</th><th scope=col>&lt;int&gt;</th><th scope=col>&lt;int&gt;</th><th scope=col>&lt;int&gt;</th><th scope=col>&lt;int&gt;</th><th scope=col>&lt;int&gt;</th><th scope=col>&lt;int&gt;</th><th scope=col>&lt;int&gt;</th><th scope=col>&lt;int&gt;</th><th scope=col>&lt;int&gt;</th><th scope=col>&lt;int&gt;</th></tr>\n",
       "</thead>\n",
       "<tbody>\n",
       "\t<tr><td> 30</td><td>Canada                  </td><td>  31271.069</td><td>1.0</td><td>47</td><td>45</td><td>15.8</td><td>17.1</td><td>1.7</td><td>1.5</td><td>⋯</td><td> 6</td><td> 5</td><td> 5</td><td> 5</td><td> 95</td><td> 93</td><td> 97</td><td> 58</td><td> 57</td><td> 60</td></tr>\n",
       "\t<tr><td> 35</td><td>China                   </td><td>1302307.069</td><td>0.9</td><td>49</td><td>44</td><td> 8.6</td><td>10.0</td><td>2.0</td><td>1.8</td><td>⋯</td><td>33</td><td>41</td><td>38</td><td>44</td><td>165</td><td>154</td><td>175</td><td>104</td><td> 93</td><td>112</td></tr>\n",
       "\t<tr><td> 65</td><td>Germany                 </td><td>  82414.408</td><td>0.2</td><td>46</td><td>48</td><td>20.5</td><td>24.0</td><td>1.3</td><td>1.3</td><td>⋯</td><td> 6</td><td> 4</td><td> 4</td><td> 4</td><td>118</td><td>114</td><td>123</td><td> 60</td><td> 59</td><td> 62</td></tr>\n",
       "\t<tr><td> 83</td><td>Italy                   </td><td>  57482.385</td><td>0.1</td><td>45</td><td>49</td><td>21.7</td><td>24.5</td><td>1.3</td><td>1.2</td><td>⋯</td><td> 6</td><td> 5</td><td> 4</td><td> 5</td><td> 96</td><td> 92</td><td>100</td><td> 49</td><td> 46</td><td> 51</td></tr>\n",
       "\t<tr><td>153</td><td>Singapore               </td><td>   4183.273</td><td>2.8</td><td>38</td><td>40</td><td> 8.7</td><td>11.1</td><td>1.8</td><td>1.4</td><td>⋯</td><td> 4</td><td> 3</td><td> 3</td><td> 3</td><td> 90</td><td> 80</td><td>101</td><td> 53</td><td> 49</td><td> 56</td></tr>\n",
       "\t<tr><td>183</td><td>United States of America</td><td> 291037.954</td><td>1.1</td><td>52</td><td>51</td><td>16.4</td><td>16.2</td><td>2.0</td><td>2.1</td><td>⋯</td><td> 9</td><td> 7</td><td> 7</td><td> 7</td><td>140</td><td>134</td><td>148</td><td> 83</td><td> 81</td><td> 84</td></tr>\n",
       "\t<tr><td>188</td><td>Vietnam                 </td><td>  80278.208</td><td>1.5</td><td>76</td><td>59</td><td> 7.3</td><td> 7.4</td><td>3.4</td><td>2.3</td><td>⋯</td><td>46</td><td>33</td><td>28</td><td>37</td><td>200</td><td>184</td><td>215</td><td>129</td><td>117</td><td>140</td></tr>\n",
       "</tbody>\n",
       "</table>\n"
      ],
      "text/latex": [
       "A data.frame: 7 × 29\n",
       "\\begin{tabular}{lllllllllllllllllllll}\n",
       " X & Member.State & Total.population..2002. & Annual.Growth.Rate.....1992.2002 & Dependency.ratio.1992 & Dependency.ratio.2002 & Percentage.of.population.aged.60...1992. & Percentage.of.population.aged.60...2002. & Total.Fertility.Rate.1992 & Total.Fertility.Rate.2002 & ⋯ & PROBABILITY.OF.DYING.UNDER.AGE.OF.5.MALES.2002.Lower.Bound.Uncertainty.Interval..per.1000. & PROBABILITY.OF.DYING.UNDER.AGE.OF.5.FEMALES.2002..per.1000. & PROBABILITY.OF.DYING.UNDER.AGE.OF.5.FEMALES.2002.Upper.Bound.Uncertainty.Interval..per.1000. & PROBABILITY.OF.DYING.UNDER.AGE.OF.5.FEMALES.2002.Lower.Bound.Uncertainty.Interval..per.1000. & PROBABILITY.OF.DYING.AGE.15.59.MALES.2002..per.1000. & PROBABILITY.OF.DYING.AGE.15.59.MALES.2002.Upper.Bound.Uncertainty.Interval..per.1000. & PROBABILITY.OF.DYING.AGE.15.59.MALES.2002.Lower.Bound.Uncertainty.Interval..per.1000. & PROBABILITY.OF.DYING.AGE.15.59.FEMALES.2002..per.1000. & PROBABILITY.OF.DYING.AGE.15.59.FEMALES.2002.Upper.Bound.Uncertainty.Interval..per.1000. & PROBABILITY.OF.DYING.AGE.15.59.FEMALES.2002.Lower.Bound.Uncertainty.Interval..per.1000.\\\\\n",
       " <int> & <fct> & <dbl> & <dbl> & <int> & <int> & <dbl> & <dbl> & <dbl> & <dbl> & ⋯ & <int> & <int> & <int> & <int> & <int> & <int> & <int> & <int> & <int> & <int>\\\\\n",
       "\\hline\n",
       "\t  30 & Canada                   &   31271.069 & 1.0 & 47 & 45 & 15.8 & 17.1 & 1.7 & 1.5 & ⋯ &  6 &  5 &  5 &  5 &  95 &  93 &  97 &  58 &  57 &  60\\\\\n",
       "\t  35 & China                    & 1302307.069 & 0.9 & 49 & 44 &  8.6 & 10.0 & 2.0 & 1.8 & ⋯ & 33 & 41 & 38 & 44 & 165 & 154 & 175 & 104 &  93 & 112\\\\\n",
       "\t  65 & Germany                  &   82414.408 & 0.2 & 46 & 48 & 20.5 & 24.0 & 1.3 & 1.3 & ⋯ &  6 &  4 &  4 &  4 & 118 & 114 & 123 &  60 &  59 &  62\\\\\n",
       "\t  83 & Italy                    &   57482.385 & 0.1 & 45 & 49 & 21.7 & 24.5 & 1.3 & 1.2 & ⋯ &  6 &  5 &  4 &  5 &  96 &  92 & 100 &  49 &  46 &  51\\\\\n",
       "\t 153 & Singapore                &    4183.273 & 2.8 & 38 & 40 &  8.7 & 11.1 & 1.8 & 1.4 & ⋯ &  4 &  3 &  3 &  3 &  90 &  80 & 101 &  53 &  49 &  56\\\\\n",
       "\t 183 & United States of America &  291037.954 & 1.1 & 52 & 51 & 16.4 & 16.2 & 2.0 & 2.1 & ⋯ &  9 &  7 &  7 &  7 & 140 & 134 & 148 &  83 &  81 &  84\\\\\n",
       "\t 188 & Vietnam                  &   80278.208 & 1.5 & 76 & 59 &  7.3 &  7.4 & 3.4 & 2.3 & ⋯ & 46 & 33 & 28 & 37 & 200 & 184 & 215 & 129 & 117 & 140\\\\\n",
       "\\end{tabular}\n"
      ],
      "text/markdown": [
       "\n",
       "A data.frame: 7 × 29\n",
       "\n",
       "| X &lt;int&gt; | Member.State &lt;fct&gt; | Total.population..2002. &lt;dbl&gt; | Annual.Growth.Rate.....1992.2002 &lt;dbl&gt; | Dependency.ratio.1992 &lt;int&gt; | Dependency.ratio.2002 &lt;int&gt; | Percentage.of.population.aged.60...1992. &lt;dbl&gt; | Percentage.of.population.aged.60...2002. &lt;dbl&gt; | Total.Fertility.Rate.1992 &lt;dbl&gt; | Total.Fertility.Rate.2002 &lt;dbl&gt; | ⋯ ⋯ | PROBABILITY.OF.DYING.UNDER.AGE.OF.5.MALES.2002.Lower.Bound.Uncertainty.Interval..per.1000. &lt;int&gt; | PROBABILITY.OF.DYING.UNDER.AGE.OF.5.FEMALES.2002..per.1000. &lt;int&gt; | PROBABILITY.OF.DYING.UNDER.AGE.OF.5.FEMALES.2002.Upper.Bound.Uncertainty.Interval..per.1000. &lt;int&gt; | PROBABILITY.OF.DYING.UNDER.AGE.OF.5.FEMALES.2002.Lower.Bound.Uncertainty.Interval..per.1000. &lt;int&gt; | PROBABILITY.OF.DYING.AGE.15.59.MALES.2002..per.1000. &lt;int&gt; | PROBABILITY.OF.DYING.AGE.15.59.MALES.2002.Upper.Bound.Uncertainty.Interval..per.1000. &lt;int&gt; | PROBABILITY.OF.DYING.AGE.15.59.MALES.2002.Lower.Bound.Uncertainty.Interval..per.1000. &lt;int&gt; | PROBABILITY.OF.DYING.AGE.15.59.FEMALES.2002..per.1000. &lt;int&gt; | PROBABILITY.OF.DYING.AGE.15.59.FEMALES.2002.Upper.Bound.Uncertainty.Interval..per.1000. &lt;int&gt; | PROBABILITY.OF.DYING.AGE.15.59.FEMALES.2002.Lower.Bound.Uncertainty.Interval..per.1000. &lt;int&gt; |\n",
       "|---|---|---|---|---|---|---|---|---|---|---|---|---|---|---|---|---|---|---|---|---|\n",
       "|  30 | Canada                   |   31271.069 | 1.0 | 47 | 45 | 15.8 | 17.1 | 1.7 | 1.5 | ⋯ |  6 |  5 |  5 |  5 |  95 |  93 |  97 |  58 |  57 |  60 |\n",
       "|  35 | China                    | 1302307.069 | 0.9 | 49 | 44 |  8.6 | 10.0 | 2.0 | 1.8 | ⋯ | 33 | 41 | 38 | 44 | 165 | 154 | 175 | 104 |  93 | 112 |\n",
       "|  65 | Germany                  |   82414.408 | 0.2 | 46 | 48 | 20.5 | 24.0 | 1.3 | 1.3 | ⋯ |  6 |  4 |  4 |  4 | 118 | 114 | 123 |  60 |  59 |  62 |\n",
       "|  83 | Italy                    |   57482.385 | 0.1 | 45 | 49 | 21.7 | 24.5 | 1.3 | 1.2 | ⋯ |  6 |  5 |  4 |  5 |  96 |  92 | 100 |  49 |  46 |  51 |\n",
       "| 153 | Singapore                |    4183.273 | 2.8 | 38 | 40 |  8.7 | 11.1 | 1.8 | 1.4 | ⋯ |  4 |  3 |  3 |  3 |  90 |  80 | 101 |  53 |  49 |  56 |\n",
       "| 183 | United States of America |  291037.954 | 1.1 | 52 | 51 | 16.4 | 16.2 | 2.0 | 2.1 | ⋯ |  9 |  7 |  7 |  7 | 140 | 134 | 148 |  83 |  81 |  84 |\n",
       "| 188 | Vietnam                  |   80278.208 | 1.5 | 76 | 59 |  7.3 |  7.4 | 3.4 | 2.3 | ⋯ | 46 | 33 | 28 | 37 | 200 | 184 | 215 | 129 | 117 | 140 |\n",
       "\n"
      ],
      "text/plain": [
       "  X   Member.State             Total.population..2002.\n",
       "1  30 Canada                     31271.069            \n",
       "2  35 China                    1302307.069            \n",
       "3  65 Germany                    82414.408            \n",
       "4  83 Italy                      57482.385            \n",
       "5 153 Singapore                   4183.273            \n",
       "6 183 United States of America  291037.954            \n",
       "7 188 Vietnam                    80278.208            \n",
       "  Annual.Growth.Rate.....1992.2002 Dependency.ratio.1992 Dependency.ratio.2002\n",
       "1 1.0                              47                    45                   \n",
       "2 0.9                              49                    44                   \n",
       "3 0.2                              46                    48                   \n",
       "4 0.1                              45                    49                   \n",
       "5 2.8                              38                    40                   \n",
       "6 1.1                              52                    51                   \n",
       "7 1.5                              76                    59                   \n",
       "  Percentage.of.population.aged.60...1992.\n",
       "1 15.8                                    \n",
       "2  8.6                                    \n",
       "3 20.5                                    \n",
       "4 21.7                                    \n",
       "5  8.7                                    \n",
       "6 16.4                                    \n",
       "7  7.3                                    \n",
       "  Percentage.of.population.aged.60...2002. Total.Fertility.Rate.1992\n",
       "1 17.1                                     1.7                      \n",
       "2 10.0                                     2.0                      \n",
       "3 24.0                                     1.3                      \n",
       "4 24.5                                     1.3                      \n",
       "5 11.1                                     1.8                      \n",
       "6 16.2                                     2.0                      \n",
       "7  7.4                                     3.4                      \n",
       "  Total.Fertility.Rate.2002 ⋯\n",
       "1 1.5                       ⋯\n",
       "2 1.8                       ⋯\n",
       "3 1.3                       ⋯\n",
       "4 1.2                       ⋯\n",
       "5 1.4                       ⋯\n",
       "6 2.1                       ⋯\n",
       "7 2.3                       ⋯\n",
       "  PROBABILITY.OF.DYING.UNDER.AGE.OF.5.MALES.2002.Lower.Bound.Uncertainty.Interval..per.1000.\n",
       "1  6                                                                                        \n",
       "2 33                                                                                        \n",
       "3  6                                                                                        \n",
       "4  6                                                                                        \n",
       "5  4                                                                                        \n",
       "6  9                                                                                        \n",
       "7 46                                                                                        \n",
       "  PROBABILITY.OF.DYING.UNDER.AGE.OF.5.FEMALES.2002..per.1000.\n",
       "1  5                                                         \n",
       "2 41                                                         \n",
       "3  4                                                         \n",
       "4  5                                                         \n",
       "5  3                                                         \n",
       "6  7                                                         \n",
       "7 33                                                         \n",
       "  PROBABILITY.OF.DYING.UNDER.AGE.OF.5.FEMALES.2002.Upper.Bound.Uncertainty.Interval..per.1000.\n",
       "1  5                                                                                          \n",
       "2 38                                                                                          \n",
       "3  4                                                                                          \n",
       "4  4                                                                                          \n",
       "5  3                                                                                          \n",
       "6  7                                                                                          \n",
       "7 28                                                                                          \n",
       "  PROBABILITY.OF.DYING.UNDER.AGE.OF.5.FEMALES.2002.Lower.Bound.Uncertainty.Interval..per.1000.\n",
       "1  5                                                                                          \n",
       "2 44                                                                                          \n",
       "3  4                                                                                          \n",
       "4  5                                                                                          \n",
       "5  3                                                                                          \n",
       "6  7                                                                                          \n",
       "7 37                                                                                          \n",
       "  PROBABILITY.OF.DYING.AGE.15.59.MALES.2002..per.1000.\n",
       "1  95                                                 \n",
       "2 165                                                 \n",
       "3 118                                                 \n",
       "4  96                                                 \n",
       "5  90                                                 \n",
       "6 140                                                 \n",
       "7 200                                                 \n",
       "  PROBABILITY.OF.DYING.AGE.15.59.MALES.2002.Upper.Bound.Uncertainty.Interval..per.1000.\n",
       "1  93                                                                                  \n",
       "2 154                                                                                  \n",
       "3 114                                                                                  \n",
       "4  92                                                                                  \n",
       "5  80                                                                                  \n",
       "6 134                                                                                  \n",
       "7 184                                                                                  \n",
       "  PROBABILITY.OF.DYING.AGE.15.59.MALES.2002.Lower.Bound.Uncertainty.Interval..per.1000.\n",
       "1  97                                                                                  \n",
       "2 175                                                                                  \n",
       "3 123                                                                                  \n",
       "4 100                                                                                  \n",
       "5 101                                                                                  \n",
       "6 148                                                                                  \n",
       "7 215                                                                                  \n",
       "  PROBABILITY.OF.DYING.AGE.15.59.FEMALES.2002..per.1000.\n",
       "1  58                                                   \n",
       "2 104                                                   \n",
       "3  60                                                   \n",
       "4  49                                                   \n",
       "5  53                                                   \n",
       "6  83                                                   \n",
       "7 129                                                   \n",
       "  PROBABILITY.OF.DYING.AGE.15.59.FEMALES.2002.Upper.Bound.Uncertainty.Interval..per.1000.\n",
       "1  57                                                                                    \n",
       "2  93                                                                                    \n",
       "3  59                                                                                    \n",
       "4  46                                                                                    \n",
       "5  49                                                                                    \n",
       "6  81                                                                                    \n",
       "7 117                                                                                    \n",
       "  PROBABILITY.OF.DYING.AGE.15.59.FEMALES.2002.Lower.Bound.Uncertainty.Interval..per.1000.\n",
       "1  60                                                                                    \n",
       "2 112                                                                                    \n",
       "3  62                                                                                    \n",
       "4  51                                                                                    \n",
       "5  56                                                                                    \n",
       "6  84                                                                                    \n",
       "7 140                                                                                    "
      ]
     },
     "metadata": {},
     "output_type": "display_data"
    }
   ],
   "source": [
    "dfW"
   ]
  },
  {
   "cell_type": "code",
   "execution_count": 41,
   "metadata": {},
   "outputs": [
    {
     "data": {
      "image/png": "[encoded data removed]",
      "text/plain": [
       "plot without title"
      ]
     },
     "metadata": {
      "image/png": {
       "height": 420,
       "width": 420
      },
      "text/plain": {
       "height": 420,
       "width": 420
      }
     },
     "output_type": "display_data"
    }
   ],
   "source": []
  },
  {
   "cell_type": "code",
   "execution_count": null,
   "metadata": {},
   "outputs": [],
   "source": []
  },
  {
   "cell_type": "code",
   "execution_count": 45,
   "metadata": {},
   "outputs": [
    {
     "data": {
      "text/html": [
       "<style>\n",
       ".list-inline {list-style: none; margin:0; padding: 0}\n",
       ".list-inline>li {display: inline-block}\n",
       ".list-inline>li:not(:last-child)::after {content: \"\\00b7\"; padding: 0 .5ex}\n",
       "</style>\n",
       "<ol class=list-inline><li>252</li><li>10</li><li>9</li><li>206</li><li>220</li><li>63</li><li>7084</li><li>6280</li><li>82122</li><li>62095</li><li>97689</li><li>844</li><li>140886</li><li>188</li></ol>\n"
      ],
      "text/latex": [
       "\\begin{enumerate*}\n",
       "\\item 252\n",
       "\\item 10\n",
       "\\item 9\n",
       "\\item 206\n",
       "\\item 220\n",
       "\\item 63\n",
       "\\item 7084\n",
       "\\item 6280\n",
       "\\item 82122\n",
       "\\item 62095\n",
       "\\item 97689\n",
       "\\item 844\n",
       "\\item 140886\n",
       "\\item 188\n",
       "\\end{enumerate*}\n"
      ],
      "text/markdown": [
       "1. 252\n",
       "2. 10\n",
       "3. 9\n",
       "4. 206\n",
       "5. 220\n",
       "6. 63\n",
       "7. 7084\n",
       "8. 6280\n",
       "9. 82122\n",
       "10. 62095\n",
       "11. 97689\n",
       "12. 844\n",
       "13. 140886\n",
       "14. 188\n",
       "\n",
       "\n"
      ],
      "text/plain": [
       " [1]    252     10      9    206    220     63   7084   6280  82122  62095\n",
       "[11]  97689    844 140886    188"
      ]
     },
     "metadata": {},
     "output_type": "display_data"
    }
   ],
   "source": [
    "sarsA = c(\"Canada 2003\", \"Germany 2003\", \"Italy 2003\", \"Singapore 2003\", \"US 2003\", \"Vietnam 2003\", \"China 2003\")\n",
    "\n",
    "\n",
    "sars = sarsCorona$Cumulative.Cases\n",
    "sars"
   ]
  },
  {
   "cell_type": "code",
   "execution_count": null,
   "metadata": {},
   "outputs": [],
   "source": []
  },
  {
   "cell_type": "code",
   "execution_count": null,
   "metadata": {},
   "outputs": [],
   "source": []
  }
 ],
 "metadata": {
  "kernelspec": {
   "display_name": "R",
   "language": "R",
   "name": "ir"
  },
  "language_info": {
   "codemirror_mode": "r",
   "file_extension": ".r",
   "mimetype": "text/x-r-source",
   "name": "R",
   "pygments_lexer": "r",
   "version": "3.6.2"
  }
 },
 "nbformat": 4,
 "nbformat_minor": 4
}
