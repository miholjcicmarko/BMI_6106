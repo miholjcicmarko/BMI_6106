{
 "cells": [
  {
   "cell_type": "code",
   "execution_count": null,
   "metadata": {},
   "outputs": [],
   "source": [
    "import pandas as pd"
   ]
  },
  {
   "cell_type": "code",
   "execution_count": null,
   "metadata": {},
   "outputs": [],
   "source": [
    "wreport = pd.read_csv('World Health Report 2003.csv')\n",
    "\n",
    "sars = pd.read_csv(\"sars_2003_complete_dataset_clean.csv\")\n",
    "\n",
    "tsCon = pd.read_csv(\"time_series_covid_19_confirmed.csv\")\n",
    "tsRec = pd.read_csv(\"time_series_covid_19_recovered.csv\")\n",
    "tsD = pd.read_csv(\"time_series_covid_19_deaths.csv\")"
   ]
  },
  {
   "cell_type": "code",
   "execution_count": null,
   "metadata": {},
   "outputs": [],
   "source": [
    "tsCon = tsCon.drop(['Province/State', 'Lat', 'Long'], axis = 1)\n",
    "tsRec = tsRec.drop(['Province/State', 'Lat', 'Long'], axis = 1)\n",
    "tsD = tsD.drop(['Province/State', 'Lat', 'Long'], axis = 1)"
   ]
  },
  {
   "cell_type": "code",
   "execution_count": null,
   "metadata": {},
   "outputs": [],
   "source": [
    "sars = sars.set_index('Date')\n",
    "sars[\"Country\"] = sars[\"Country\"].replace(\"Hong Kong SAR, China\", \"China\")\n",
    "sars[\"Country\"] = sars[\"Country\"].replace(\"Macao SAR, China\", \"China\")\n",
    "sars[\"Country\"] = sars[\"Country\"].replace(\"Viet Nam\", \"Vietnam\")"
   ]
  },
  {
   "cell_type": "code",
   "execution_count": null,
   "metadata": {},
   "outputs": [],
   "source": [
    "#Find the top five countries with most amount of cases\n",
    "sar = sars.loc[\"2003-07-11\"]\n",
    "sar = sar.sort_values(\"Cumulative number of case(s)\", ascending=False)\n",
    "sar.head(10)"
   ]
  },
  {
   "cell_type": "code",
   "execution_count": null,
   "metadata": {},
   "outputs": [],
   "source": [
    "countries = [\"Singapore\", \"Canada\", \"United States\", \"Vietnam\", \"Italy\", \"Germany\"]\n",
    "df = sars[sars[\"Country\"].isin(countries)]"
   ]
  },
  {
   "cell_type": "code",
   "execution_count": null,
   "metadata": {},
   "outputs": [],
   "source": [
    "from datetime import datetime\n",
    "dataC = sars[sars[\"Country\"] == \"China\"].groupby(\"Date\").count() \n",
    "\n",
    "dindex = pd.DataFrame(list(dataC.index.values))\n",
    "\n",
    "d = sars[sars[\"Country\"] == \"China\"].groupby(\"Date\").sum()\n",
    "dChina = list(d[\"Cumulative number of case(s)\"].values)\n",
    "\n",
    "dfChina = pd.DataFrame({\"China\": dChina})\n",
    "dataChina = pd.concat([dindex,dfChina], axis=1, sort = False)\n",
    "dataChina = dataChina.rename(columns={0: \"Date\"})\n",
    "dataChina = dataChina.set_index('Date')\n",
    "\n",
    "d = sars[sars[\"Country\"] == \"China\"].groupby(\"Date\").sum()\n",
    "dChina = list(d[\"Number of deaths\"].values)\n",
    "\n",
    "dfChina = pd.DataFrame({\"China\": dChina})\n",
    "dataChinaD = pd.concat([dindex,dfChina], axis=1, sort = False)\n",
    "dataChinaD = dataChinaD.rename(columns={0: \"Date\"})\n",
    "dataChinaD = dataChinaD.set_index('Date')"
   ]
  },
  {
   "cell_type": "code",
   "execution_count": null,
   "metadata": {
    "scrolled": true
   },
   "outputs": [],
   "source": [
    "dfC = df.pivot_table(index='Date',\n",
    "                     columns= 'Country',\n",
    "                     values= 'Cumulative number of case(s)')\n",
    "dfC = pd.concat([dfC,dataChina], axis=1, sort = False)"
   ]
  },
  {
   "cell_type": "code",
   "execution_count": null,
   "metadata": {},
   "outputs": [],
   "source": [
    "dfD = df.pivot_table(index='Date',\n",
    "                     columns= 'Country',\n",
    "                     values= 'Number of deaths')\n",
    "dfD = pd.concat([dfD,dataChinaD], axis=1, sort = False)"
   ]
  },
  {
   "cell_type": "code",
   "execution_count": null,
   "metadata": {},
   "outputs": [],
   "source": [
    "dfC[[\"China\", \"Singapore\", \"Canada\", \"United States\", \"Vietnam\", \"Italy\", \"Germany\"]]= dfC[[\"China\", \"Singapore\", \"Canada\", \"United States\", \"Vietnam\", \"Italy\", \"Germany\"]].interpolate()\n",
    "dfC=dfC.fillna(0)\n",
    "dfC = dfC.apply(lambda x: x.sort_values().values)\n",
    "dfC[\"Canada\"].astype(\"int64\")\n",
    "dfC = dfC.astype(\"int64\")\n",
    "dfC"
   ]
  },
  {
   "cell_type": "code",
   "execution_count": null,
   "metadata": {},
   "outputs": [],
   "source": [
    "dfFinC = pd.DataFrame(dfC.loc[\"2003-07-11\"]).T\n",
    "dfFinC"
   ]
  },
  {
   "cell_type": "code",
   "execution_count": null,
   "metadata": {},
   "outputs": [],
   "source": [
    "dfC.to_csv('/Users/markomiholjcic/Documents/GitHub/BMI6106/Project copy/CumulativeCases.csv')"
   ]
  },
  {
   "cell_type": "code",
   "execution_count": null,
   "metadata": {},
   "outputs": [],
   "source": [
    "dfD[[\"China\", \"Singapore\", \"Canada\", \"United States\", \"Vietnam\", \"Italy\", \"Germany\"]]= dfD[[\"China\", \"Singapore\", \"Canada\", \"United States\", \"Vietnam\", \"Italy\", \"Germany\"]].interpolate()\n",
    "dfD=dfD.fillna(0)\n",
    "dfD = dfD.apply(lambda x: x.sort_values().values)\n",
    "dfD[\"Canada\"].astype(\"int64\")\n",
    "dfD = dfD.astype(\"int64\")"
   ]
  },
  {
   "cell_type": "code",
   "execution_count": null,
   "metadata": {},
   "outputs": [],
   "source": [
    "dfFinD = pd.DataFrame(dfD.loc[\"2003-07-11\"]).T\n",
    "dfFinD"
   ]
  },
  {
   "cell_type": "code",
   "execution_count": null,
   "metadata": {},
   "outputs": [],
   "source": [
    "dfD.to_csv('/Users/markomiholjcic/Documents/GitHub/BMI6106/Project copy/TotalDeaths.csv')"
   ]
  },
  {
   "cell_type": "code",
   "execution_count": null,
   "metadata": {},
   "outputs": [],
   "source": [
    "import matplotlib.pyplot as plt\n",
    "import matplotlib.dates as mdates\n",
    "import matplotlib.ticker as plticker\n",
    "%matplotlib inline\n",
    "plt.style.use('ggplot')\n",
    "plt.rcParams['figure.figsize'] = (20, 20)\n",
    "\n",
    "countries = [\"China\", \"Singapore\", \"Canada\", \"United States\", \"Vietnam\", \"Italy\", \"Germany\"]\n",
    "\n",
    "fig, axs = plt.subplots(7, 1)\n",
    "for i in range(7):\n",
    "    axs[i].plot(pd.DataFrame(dfC[countries[i]]))\n",
    "    axs[i].set_title(countries[i])\n",
    "    \n",
    "for ax in axs.flat:\n",
    "    ax.set(xlabel='Date')\n",
    "    ax.tick_params(labelrotation=90, axis = 'x')\n",
    "    ax.set_ylabel('Cumulative number of case(s)', fontsize=13)\n",
    "       \n",
    "for ax in axs.flat:\n",
    "    ax.label_outer()\n",
    "    \n",
    "loc = plticker.MultipleLocator(base=5.0)\n",
    "ax.xaxis.set_major_locator(loc)"
   ]
  },
  {
   "cell_type": "code",
   "execution_count": null,
   "metadata": {},
   "outputs": [],
   "source": [
    "plt.style.use('ggplot')\n",
    "plt.rcParams['figure.figsize'] = (20, 20)\n",
    "\n",
    "countries = [\"China\", \"Singapore\", \"Canada\", \"United States\", \"Vietnam\", \"Italy\", \"Germany\"]\n",
    "\n",
    "fig, axs = plt.subplots(7, 1)\n",
    "for i in range(7):\n",
    "    axs[i].plot(pd.DataFrame(dfD[countries[i]]))\n",
    "    axs[i].set_title(countries[i])\n",
    "    \n",
    "for ax in axs.flat:\n",
    "    ax.set(xlabel='Date')\n",
    "    ax.tick_params(labelrotation=90, axis = 'x')\n",
    "    ax.set_ylabel('Total Deaths', fontsize=13)\n",
    "       \n",
    "for ax in axs.flat:\n",
    "    ax.label_outer()\n",
    "    \n",
    "loc = plticker.MultipleLocator(base=5.0)\n",
    "ax.xaxis.set_major_locator(loc)"
   ]
  },
  {
   "cell_type": "code",
   "execution_count": null,
   "metadata": {},
   "outputs": [],
   "source": [
    "countries = [\"China\", \"Singapore\", \"Canada\", \"US\", \"Vietnam\", \"Italy\", \"Germany\"]\n",
    "dfCoronaC = tsCon.loc[tsCon[\"Country/Region\"].isin(countries)]\n",
    "dfCoronaC = dfCoronaC.groupby(\"Country/Region\").sum()"
   ]
  },
  {
   "cell_type": "code",
   "execution_count": null,
   "metadata": {},
   "outputs": [],
   "source": [
    "dfFinCoronaC = pd.DataFrame(dfCoronaC[\"3/29/20\"]).T\n",
    "dfFinCoronaC"
   ]
  },
  {
   "cell_type": "code",
   "execution_count": null,
   "metadata": {},
   "outputs": [],
   "source": [
    "countries = [\"China\", \"Singapore\", \"Canada\", \"US\", \"Vietnam\", \"Italy\", \"Germany\"]\n",
    "dfCoronaR = tsRec.loc[tsRec[\"Country/Region\"].isin(countries)]\n",
    "dfCoronaR = dfCoronaR.groupby(\"Country/Region\").sum()\n",
    "dfCoronaR"
   ]
  },
  {
   "cell_type": "code",
   "execution_count": null,
   "metadata": {},
   "outputs": [],
   "source": [
    "dfCoronaR.to_csv(\"/Users/markomiholjcic/Documents/GitHub/BMI6106/Project copy/RecoveredCases2020.csv\")"
   ]
  },
  {
   "cell_type": "code",
   "execution_count": null,
   "metadata": {},
   "outputs": [],
   "source": [
    "countries = [\"China\", \"Singapore\", \"Canada\", \"US\", \"Vietnam\", \"Italy\", \"Germany\"]\n",
    "dfCoronaD = tsD.loc[tsD[\"Country/Region\"].isin(countries)]\n",
    "dfCoronaD = dfCoronaD.groupby(\"Country/Region\").sum()\n",
    "dfCoronaD"
   ]
  },
  {
   "cell_type": "code",
   "execution_count": null,
   "metadata": {},
   "outputs": [],
   "source": [
    "dfCoronaD.to_csv(\"/Users/markomiholjcic/Documents/GitHub/BMI6106/Project copy/TotalDeaths2020.csv\")"
   ]
  },
  {
   "cell_type": "code",
   "execution_count": null,
   "metadata": {},
   "outputs": [],
   "source": [
    "dfFinCoronaD = pd.DataFrame(dfCoronaD[\"3/29/20\"]).T\n",
    "dfFinCoronaD"
   ]
  },
  {
   "cell_type": "code",
   "execution_count": null,
   "metadata": {},
   "outputs": [],
   "source": [
    "plt.style.use('ggplot')\n",
    "plt.rcParams['figure.figsize'] = (20, 20)\n",
    "\n",
    "countries = [\"China\", \"Singapore\", \"Canada\", \"US\", \"Vietnam\", \"Italy\", \"Germany\"]\n",
    "\n",
    "fig, axs = plt.subplots(7, 1)\n",
    "for i in range(7):\n",
    "    axs[i].plot(pd.DataFrame(dfCoronaC.loc[countries[i]]))\n",
    "    axs[i].set_title(countries[i])\n",
    "    \n",
    "for ax in axs.flat:\n",
    "    ax.set(xlabel='Date')\n",
    "    ax.tick_params(labelrotation=90, axis = 'x')\n",
    "    ax.set_ylabel('Cumulative number of case(s)', fontsize=10)\n",
    "       \n",
    "for ax in axs.flat:\n",
    "    ax.label_outer()\n",
    "    \n",
    "loc = plticker.MultipleLocator(base=5.0)\n",
    "ax.xaxis.set_major_locator(loc)"
   ]
  },
  {
   "cell_type": "code",
   "execution_count": null,
   "metadata": {},
   "outputs": [],
   "source": [
    "plt.style.use('ggplot')\n",
    "plt.rcParams['figure.figsize'] = (20, 20)\n",
    "\n",
    "countries = [\"China\", \"Singapore\", \"Canada\", \"US\", \"Vietnam\", \"Italy\", \"Germany\"]\n",
    "\n",
    "fig, axs = plt.subplots(7, 1)\n",
    "for i in range(7):\n",
    "    axs[i].plot(pd.DataFrame(dfCoronaD.loc[countries[i]]))\n",
    "    axs[i].set_title(countries[i])\n",
    "    \n",
    "for ax in axs.flat:\n",
    "    ax.set(xlabel='Date')\n",
    "    ax.tick_params(labelrotation=90, axis = 'x')\n",
    "    ax.set_ylabel('Total Death', fontsize=10)\n",
    "       \n",
    "for ax in axs.flat:\n",
    "    ax.label_outer()\n",
    "    \n",
    "loc = plticker.MultipleLocator(base=5.0)\n",
    "ax.xaxis.set_major_locator(loc)"
   ]
  },
  {
   "cell_type": "code",
   "execution_count": null,
   "metadata": {},
   "outputs": [],
   "source": [
    "countries = [\"China\", \"Singapore\", \"Canada\", \"United States of America\", \"Vietnam\", \"Italy\", \"Germany\"]\n",
    "wreport[\"Member State\"] = wreport[\"Member State\"].replace(\"Viet Nam\", \"Vietnam\")\n",
    "\n",
    "wreport = wreport[wreport[\"Member State\"].isin(countries)]\n",
    "wreport"
   ]
  },
  {
   "cell_type": "code",
   "execution_count": null,
   "metadata": {},
   "outputs": [],
   "source": [
    "wreport.to_csv(\"/Users/markomiholjcic/Documents/GitHub/BMI6106/Project copy/WHOselect.csv\")"
   ]
  },
  {
   "cell_type": "code",
   "execution_count": null,
   "metadata": {},
   "outputs": [],
   "source": [
    "dfD = dfD.rename(columns = {\"United States\": \"US\"})\n",
    "dfC = dfC.rename(columns = {\"United States\": \"US\"})"
   ]
  },
  {
   "cell_type": "code",
   "execution_count": null,
   "metadata": {},
   "outputs": [],
   "source": [
    "d = dfD.loc[\"2003-07-11\"]\n",
    "dc = dfCoronaD[\"3/29/20\"]\n",
    "d = d.rename(index = {\"Canada\" : \"Canada 2003\", \"China\": \"China 2003\", \"Germany\": \"Germany 2003\",\n",
    "                       \"Italy\": \"Italy 2003\", \"Singapore\": \"Singapore 2003\", \"US\": \"US 2003\", \n",
    "                       \"Vietnam\": \"Vietnam 2003\"})\n",
    "dc = dc.rename(index = {\"Canada\" : \"Canada 2020\", \"China\": \"China 2020\", \"Germany\": \"Germany 2020\",\n",
    "                       \"Italy\": \"Italy 2020\", \"Singapore\": \"Singapore 2020\", \"US\": \"US 2020\", \n",
    "                       \"Vietnam\": \"Vietnam 2020\"})\n",
    "\n",
    "dfSCD = pd.DataFrame(pd.concat([d, dc], axis = 0)).T\n",
    "dfSCD = dfSCD.rename(index = {0: \"Total Deaths\"})\n",
    "dfSCD"
   ]
  },
  {
   "cell_type": "code",
   "execution_count": null,
   "metadata": {},
   "outputs": [],
   "source": [
    "dfSCD.to_csv(\"/Users/markomiholjcic/Documents/GitHub/BMI6106/Project copy/TotalDeathsLD.csv\")"
   ]
  },
  {
   "cell_type": "code",
   "execution_count": null,
   "metadata": {},
   "outputs": [],
   "source": [
    "d = dfC.loc[\"2003-07-11\"]\n",
    "dc = dfCoronaC[\"3/29/20\"]\n",
    "\n",
    "d = d.rename(index = {\"Canada\" : \"Canada 2003\", \"China\": \"China 2003\", \"Germany\": \"Germany 2003\",\n",
    "                       \"Italy\": \"Italy 2003\", \"Singapore\": \"Singapore 2003\", \"US\": \"US 2003\", \n",
    "                       \"Vietnam\": \"Vietnam 2003\"})\n",
    "dc = dc.rename(index = {\"Canada\" : \"Canada 2020\", \"China\": \"China 2020\", \"Germany\": \"Germany 2020\",\n",
    "                       \"Italy\": \"Italy 2020\", \"Singapore\": \"Singapore 2020\", \"US\": \"US 2020\", \n",
    "                       \"Vietnam\": \"Vietnam 2020\"})\n",
    "\n",
    "dfSCC = pd.DataFrame(pd.concat([d,dc], axis = 0)).T\n",
    "dfSCC = dfSCC.rename(index = {0: \"Cumulative Cases\"})\n",
    "dfSCC"
   ]
  },
  {
   "cell_type": "code",
   "execution_count": null,
   "metadata": {},
   "outputs": [],
   "source": [
    "dfSCC.to_csv(\"/Users/markomiholjcic/Documents/GitHub/BMI6106/Project copy/Cumulative.csv\")"
   ]
  },
  {
   "cell_type": "code",
   "execution_count": null,
   "metadata": {},
   "outputs": [],
   "source": [
    "table = pd.concat([dfSCC, dfSCD], axis = 0)\n",
    "table = table.T\n",
    "table"
   ]
  },
  {
   "cell_type": "code",
   "execution_count": null,
   "metadata": {},
   "outputs": [],
   "source": [
    "table.to_csv(\"/Users/markomiholjcic/Documents/GitHub/BMI6106/Project copy/SarsCoronaTDandCC.csv\")"
   ]
  },
  {
   "cell_type": "code",
   "execution_count": null,
   "metadata": {},
   "outputs": [],
   "source": []
  },
  {
   "cell_type": "code",
   "execution_count": null,
   "metadata": {},
   "outputs": [],
   "source": []
  },
  {
   "cell_type": "code",
   "execution_count": null,
   "metadata": {},
   "outputs": [],
   "source": []
  },
  {
   "cell_type": "code",
   "execution_count": null,
   "metadata": {},
   "outputs": [],
   "source": []
  },
  {
   "cell_type": "code",
   "execution_count": null,
   "metadata": {},
   "outputs": [],
   "source": []
  },
  {
   "cell_type": "code",
   "execution_count": null,
   "metadata": {},
   "outputs": [],
   "source": []
  }
 ],
 "metadata": {
  "kernelspec": {
   "display_name": "Python 3",
   "language": "python",
   "name": "python3"
  },
  "language_info": {
   "codemirror_mode": {
    "name": "ipython",
    "version": 3
   },
   "file_extension": ".py",
   "mimetype": "text/x-python",
   "name": "python",
   "nbconvert_exporter": "python",
   "pygments_lexer": "ipython3",
   "version": "3.7.5"
  }
 },
 "nbformat": 4,
 "nbformat_minor": 4
}
