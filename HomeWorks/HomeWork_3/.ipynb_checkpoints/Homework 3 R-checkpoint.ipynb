{
 "cells": [
  {
   "cell_type": "code",
   "execution_count": 1,
   "metadata": {},
   "outputs": [
    {
     "name": "stdout",
     "output_type": "stream",
     "text": [
      "'data.frame':\t197 obs. of  26 variables:\n",
      " $ id            : int  0 4 5 13 16 17 19 23 25 31 ...\n",
      " $ age           : num  48 51 60 68 47 47 62 21 61 73 ...\n",
      " $ bp            : num  80 80 90 70 70 80 60 70 60 90 ...\n",
      " $ sg            : num  1.02 1.01 1.01 1.02 1.01 ...\n",
      " $ al            : num  1 2 3 0 2 0 1 0 0 3 ...\n",
      " $ su            : num  0 0 0 0 0 0 0 0 0 0 ...\n",
      " $ rbc           : Factor w/ 2 levels \"abnormal\",\"normal\": 2 2 2 2 2 2 2 2 2 2 ...\n",
      " $ pc            : Factor w/ 2 levels \"abnormal\",\"normal\": 2 2 2 2 2 2 1 2 2 1 ...\n",
      " $ pcc           : Factor w/ 2 levels \"notpresent\",\"present\": 1 1 1 1 1 1 2 1 1 2 ...\n",
      " $ ba            : Factor w/ 2 levels \"notpresent\",\"present\": 1 1 1 1 1 1 1 1 1 1 ...\n",
      " $ bgr           : num  121 106 74 98 99 114 100 99 108 107 ...\n",
      " $ bu            : num  36 26 25 86 46 87 31 46 75 33 ...\n",
      " $ sc            : num  1.2 1.4 1.1 4.6 2.2 5.2 1.6 1.2 1.9 1.5 ...\n",
      " $ sod           : num  135 135 142 135 138 139 135 135 141 141 ...\n",
      " $ pot           : num  3.5 3.5 3.2 3.4 4.1 3.7 3.5 3.5 5.2 4.6 ...\n",
      " $ hemo          : num  15.4 11.6 12.2 9.8 12.6 12.1 10.3 15 9.9 10.1 ...\n",
      " $ pcv           : int  44 35 39 41 41 41 30 41 29 30 ...\n",
      " $ wc            : int  7800 7300 7800 9800 9800 9800 5300 9800 8400 7800 ...\n",
      " $ rc            : num  5.2 4.6 4.4 5.2 5.2 5.2 3.7 5.2 3.7 4 ...\n",
      " $ htn           : Factor w/ 3 levels \"\",\"no\",\"yes\": 3 2 3 3 2 3 3 2 3 2 ...\n",
      " $ dm            : Factor w/ 2 levels \"no\",\"yes\": 2 1 2 2 1 1 1 1 2 1 ...\n",
      " $ cad           : Factor w/ 2 levels \"no\",\"yes\": 1 1 1 2 1 1 2 1 1 1 ...\n",
      " $ appet         : Factor w/ 2 levels \"good\",\"poor\": 1 1 1 2 1 2 1 2 1 2 ...\n",
      " $ pe            : Factor w/ 2 levels \"no\",\"yes\": 1 1 2 2 1 1 1 1 1 1 ...\n",
      " $ ane           : Factor w/ 2 levels \"no\",\"yes\": 1 1 1 1 1 1 1 2 2 1 ...\n",
      " $ classification: int  1 1 1 1 1 1 1 1 1 1 ...\n"
     ]
    }
   ],
   "source": [
    "df = read.csv(\"data.csv\", header = T)\n",
    "str(df)"
   ]
  },
  {
   "cell_type": "code",
   "execution_count": 3,
   "metadata": {},
   "outputs": [
    {
     "data": {
      "text/html": [
       "<table>\n",
       "<caption>A data.frame: 197 × 26</caption>\n",
       "<thead>\n",
       "\t<tr><th scope=col>id</th><th scope=col>age</th><th scope=col>bp</th><th scope=col>sg</th><th scope=col>al</th><th scope=col>su</th><th scope=col>rbc</th><th scope=col>pc</th><th scope=col>pcc</th><th scope=col>ba</th><th scope=col>⋯</th><th scope=col>pcv</th><th scope=col>wc</th><th scope=col>rc</th><th scope=col>htn</th><th scope=col>dm</th><th scope=col>cad</th><th scope=col>appet</th><th scope=col>pe</th><th scope=col>ane</th><th scope=col>classification</th></tr>\n",
       "\t<tr><th scope=col>&lt;int&gt;</th><th scope=col>&lt;dbl&gt;</th><th scope=col>&lt;dbl&gt;</th><th scope=col>&lt;dbl&gt;</th><th scope=col>&lt;dbl&gt;</th><th scope=col>&lt;dbl&gt;</th><th scope=col>&lt;fct&gt;</th><th scope=col>&lt;fct&gt;</th><th scope=col>&lt;fct&gt;</th><th scope=col>&lt;fct&gt;</th><th scope=col>⋯</th><th scope=col>&lt;int&gt;</th><th scope=col>&lt;int&gt;</th><th scope=col>&lt;dbl&gt;</th><th scope=col>&lt;fct&gt;</th><th scope=col>&lt;fct&gt;</th><th scope=col>&lt;fct&gt;</th><th scope=col>&lt;fct&gt;</th><th scope=col>&lt;fct&gt;</th><th scope=col>&lt;fct&gt;</th><th scope=col>&lt;int&gt;</th></tr>\n",
       "</thead>\n",
       "<tbody>\n",
       "\t<tr><td>  0</td><td>48</td><td>80</td><td>1.020</td><td>1</td><td>0</td><td>normal  </td><td>normal  </td><td>notpresent</td><td>notpresent</td><td>⋯</td><td>44</td><td> 7800</td><td>5.2</td><td>yes</td><td>yes</td><td>no </td><td>good</td><td>no </td><td>no </td><td>1</td></tr>\n",
       "\t<tr><td>  4</td><td>51</td><td>80</td><td>1.010</td><td>2</td><td>0</td><td>normal  </td><td>normal  </td><td>notpresent</td><td>notpresent</td><td>⋯</td><td>35</td><td> 7300</td><td>4.6</td><td>no </td><td>no </td><td>no </td><td>good</td><td>no </td><td>no </td><td>1</td></tr>\n",
       "\t<tr><td>  5</td><td>60</td><td>90</td><td>1.015</td><td>3</td><td>0</td><td>normal  </td><td>normal  </td><td>notpresent</td><td>notpresent</td><td>⋯</td><td>39</td><td> 7800</td><td>4.4</td><td>yes</td><td>yes</td><td>no </td><td>good</td><td>yes</td><td>no </td><td>1</td></tr>\n",
       "\t<tr><td> 13</td><td>68</td><td>70</td><td>1.020</td><td>0</td><td>0</td><td>normal  </td><td>normal  </td><td>notpresent</td><td>notpresent</td><td>⋯</td><td>41</td><td> 9800</td><td>5.2</td><td>yes</td><td>yes</td><td>yes</td><td>poor</td><td>yes</td><td>no </td><td>1</td></tr>\n",
       "\t<tr><td> 16</td><td>47</td><td>70</td><td>1.015</td><td>2</td><td>0</td><td>normal  </td><td>normal  </td><td>notpresent</td><td>notpresent</td><td>⋯</td><td>41</td><td> 9800</td><td>5.2</td><td>no </td><td>no </td><td>no </td><td>good</td><td>no </td><td>no </td><td>1</td></tr>\n",
       "\t<tr><td> 17</td><td>47</td><td>80</td><td>1.020</td><td>0</td><td>0</td><td>normal  </td><td>normal  </td><td>notpresent</td><td>notpresent</td><td>⋯</td><td>41</td><td> 9800</td><td>5.2</td><td>yes</td><td>no </td><td>no </td><td>poor</td><td>no </td><td>no </td><td>1</td></tr>\n",
       "\t<tr><td> 19</td><td>62</td><td>60</td><td>1.015</td><td>1</td><td>0</td><td>normal  </td><td>abnormal</td><td>present   </td><td>notpresent</td><td>⋯</td><td>30</td><td> 5300</td><td>3.7</td><td>yes</td><td>no </td><td>yes</td><td>good</td><td>no </td><td>no </td><td>1</td></tr>\n",
       "\t<tr><td> 23</td><td>21</td><td>70</td><td>1.010</td><td>0</td><td>0</td><td>normal  </td><td>normal  </td><td>notpresent</td><td>notpresent</td><td>⋯</td><td>41</td><td> 9800</td><td>5.2</td><td>no </td><td>no </td><td>no </td><td>poor</td><td>no </td><td>yes</td><td>1</td></tr>\n",
       "\t<tr><td> 25</td><td>61</td><td>60</td><td>1.025</td><td>0</td><td>0</td><td>normal  </td><td>normal  </td><td>notpresent</td><td>notpresent</td><td>⋯</td><td>29</td><td> 8400</td><td>3.7</td><td>yes</td><td>yes</td><td>no </td><td>good</td><td>no </td><td>yes</td><td>1</td></tr>\n",
       "\t<tr><td> 31</td><td>73</td><td>90</td><td>1.015</td><td>3</td><td>0</td><td>normal  </td><td>abnormal</td><td>present   </td><td>notpresent</td><td>⋯</td><td>30</td><td> 7800</td><td>4.0</td><td>no </td><td>no </td><td>no </td><td>poor</td><td>no </td><td>no </td><td>1</td></tr>\n",
       "\t<tr><td> 36</td><td>76</td><td>70</td><td>1.015</td><td>1</td><td>0</td><td>normal  </td><td>normal  </td><td>notpresent</td><td>notpresent</td><td>⋯</td><td>32</td><td> 9800</td><td>5.2</td><td>yes</td><td>no </td><td>no </td><td>good</td><td>no </td><td>no </td><td>1</td></tr>\n",
       "\t<tr><td> 38</td><td>69</td><td>80</td><td>1.020</td><td>3</td><td>0</td><td>abnormal</td><td>normal  </td><td>notpresent</td><td>notpresent</td><td>⋯</td><td>41</td><td> 9800</td><td>5.2</td><td>yes</td><td>no </td><td>no </td><td>good</td><td>no </td><td>no </td><td>1</td></tr>\n",
       "\t<tr><td> 40</td><td>46</td><td>90</td><td>1.010</td><td>2</td><td>0</td><td>normal  </td><td>abnormal</td><td>notpresent</td><td>notpresent</td><td>⋯</td><td>32</td><td> 9100</td><td>4.1</td><td>yes</td><td>no </td><td>no </td><td>good</td><td>no </td><td>no </td><td>1</td></tr>\n",
       "\t<tr><td> 41</td><td>45</td><td>70</td><td>1.010</td><td>0</td><td>0</td><td>normal  </td><td>normal  </td><td>notpresent</td><td>notpresent</td><td>⋯</td><td>41</td><td> 9800</td><td>5.2</td><td>no </td><td>no </td><td>no </td><td>good</td><td>yes</td><td>no </td><td>1</td></tr>\n",
       "\t<tr><td> 46</td><td>48</td><td>70</td><td>1.015</td><td>0</td><td>0</td><td>normal  </td><td>normal  </td><td>notpresent</td><td>notpresent</td><td>⋯</td><td>37</td><td> 6400</td><td>4.7</td><td>no </td><td>yes</td><td>no </td><td>good</td><td>no </td><td>no </td><td>1</td></tr>\n",
       "\t<tr><td> 47</td><td>11</td><td>80</td><td>1.010</td><td>3</td><td>0</td><td>normal  </td><td>normal  </td><td>notpresent</td><td>notpresent</td><td>⋯</td><td>45</td><td> 8600</td><td>5.2</td><td>no </td><td>no </td><td>no </td><td>good</td><td>no </td><td>no </td><td>1</td></tr>\n",
       "\t<tr><td> 52</td><td>53</td><td>90</td><td>1.015</td><td>0</td><td>0</td><td>normal  </td><td>normal  </td><td>notpresent</td><td>notpresent</td><td>⋯</td><td>34</td><td> 4300</td><td>3.7</td><td>no </td><td>no </td><td>no </td><td>poor</td><td>no </td><td>yes</td><td>1</td></tr>\n",
       "\t<tr><td> 62</td><td>15</td><td>60</td><td>1.020</td><td>3</td><td>0</td><td>normal  </td><td>normal  </td><td>notpresent</td><td>notpresent</td><td>⋯</td><td>33</td><td> 7700</td><td>3.8</td><td>yes</td><td>yes</td><td>no </td><td>good</td><td>no </td><td>no </td><td>1</td></tr>\n",
       "\t<tr><td> 65</td><td>44</td><td>90</td><td>1.010</td><td>1</td><td>0</td><td>normal  </td><td>normal  </td><td>notpresent</td><td>notpresent</td><td>⋯</td><td>48</td><td> 9800</td><td>5.2</td><td>no </td><td>no </td><td>no </td><td>good</td><td>no </td><td>no </td><td>1</td></tr>\n",
       "\t<tr><td> 68</td><td>65</td><td>70</td><td>1.010</td><td>2</td><td>0</td><td>normal  </td><td>normal  </td><td>present   </td><td>notpresent</td><td>⋯</td><td>37</td><td> 9800</td><td>5.2</td><td>no </td><td>no </td><td>no </td><td>good</td><td>no </td><td>no </td><td>1</td></tr>\n",
       "\t<tr><td> 77</td><td>67</td><td>70</td><td>1.010</td><td>1</td><td>0</td><td>normal  </td><td>normal  </td><td>notpresent</td><td>notpresent</td><td>⋯</td><td>34</td><td> 7100</td><td>3.7</td><td>yes</td><td>yes</td><td>no </td><td>good</td><td>yes</td><td>no </td><td>1</td></tr>\n",
       "\t<tr><td> 80</td><td>74</td><td>80</td><td>1.010</td><td>0</td><td>0</td><td>normal  </td><td>normal  </td><td>notpresent</td><td>notpresent</td><td>⋯</td><td>31</td><td> 9400</td><td>3.8</td><td>yes</td><td>yes</td><td>no </td><td>good</td><td>no </td><td>no </td><td>1</td></tr>\n",
       "\t<tr><td> 82</td><td>38</td><td>70</td><td>1.020</td><td>0</td><td>0</td><td>normal  </td><td>normal  </td><td>notpresent</td><td>notpresent</td><td>⋯</td><td>41</td><td> 9800</td><td>5.2</td><td>yes</td><td>no </td><td>no </td><td>poor</td><td>yes</td><td>no </td><td>1</td></tr>\n",
       "\t<tr><td> 83</td><td>48</td><td>70</td><td>1.015</td><td>1</td><td>0</td><td>normal  </td><td>normal  </td><td>notpresent</td><td>notpresent</td><td>⋯</td><td>41</td><td> 9800</td><td>5.2</td><td>yes</td><td>yes</td><td>no </td><td>good</td><td>no </td><td>no </td><td>1</td></tr>\n",
       "\t<tr><td> 85</td><td>70</td><td>70</td><td>1.015</td><td>2</td><td>0</td><td>normal  </td><td>normal  </td><td>notpresent</td><td>notpresent</td><td>⋯</td><td>41</td><td> 9800</td><td>5.2</td><td>no </td><td>yes</td><td>no </td><td>poor</td><td>yes</td><td>no </td><td>1</td></tr>\n",
       "\t<tr><td> 89</td><td>50</td><td>70</td><td>1.020</td><td>0</td><td>0</td><td>normal  </td><td>normal  </td><td>notpresent</td><td>notpresent</td><td>⋯</td><td>41</td><td> 9800</td><td>5.2</td><td>no </td><td>no </td><td>no </td><td>poor</td><td>no </td><td>no </td><td>1</td></tr>\n",
       "\t<tr><td> 94</td><td>65</td><td>70</td><td>1.010</td><td>0</td><td>0</td><td>normal  </td><td>normal  </td><td>notpresent</td><td>notpresent</td><td>⋯</td><td>36</td><td>11900</td><td>3.9</td><td>no </td><td>yes</td><td>no </td><td>good</td><td>no </td><td>no </td><td>1</td></tr>\n",
       "\t<tr><td> 95</td><td>62</td><td>90</td><td>1.015</td><td>1</td><td>0</td><td>normal  </td><td>normal  </td><td>notpresent</td><td>notpresent</td><td>⋯</td><td>41</td><td> 9800</td><td>5.2</td><td>yes</td><td>no </td><td>no </td><td>good</td><td>yes</td><td>yes</td><td>1</td></tr>\n",
       "\t<tr><td> 97</td><td>65</td><td>60</td><td>1.015</td><td>1</td><td>0</td><td>normal  </td><td>normal  </td><td>notpresent</td><td>notpresent</td><td>⋯</td><td>32</td><td> 9100</td><td>4.0</td><td>yes</td><td>yes</td><td>no </td><td>poor</td><td>yes</td><td>no </td><td>1</td></tr>\n",
       "\t<tr><td>101</td><td>71</td><td>90</td><td>1.015</td><td>2</td><td>0</td><td>normal  </td><td>abnormal</td><td>present   </td><td>present   </td><td>⋯</td><td>33</td><td>10700</td><td>3.9</td><td>no </td><td>no </td><td>no </td><td>good</td><td>no </td><td>no </td><td>1</td></tr>\n",
       "\t<tr><td>⋮</td><td>⋮</td><td>⋮</td><td>⋮</td><td>⋮</td><td>⋮</td><td>⋮</td><td>⋮</td><td>⋮</td><td>⋮</td><td>⋱</td><td>⋮</td><td>⋮</td><td>⋮</td><td>⋮</td><td>⋮</td><td>⋮</td><td>⋮</td><td>⋮</td><td>⋮</td><td>⋮</td></tr>\n",
       "\t<tr><td>363</td><td>67</td><td>80</td><td>1.025</td><td>0</td><td>0</td><td>normal</td><td>normal</td><td>notpresent</td><td>notpresent</td><td>⋯</td><td>44</td><td> 5900</td><td>5.2</td><td>no</td><td>no</td><td>no</td><td>good</td><td>no</td><td>no</td><td>0</td></tr>\n",
       "\t<tr><td>364</td><td>73</td><td>80</td><td>1.025</td><td>0</td><td>0</td><td>normal</td><td>normal</td><td>notpresent</td><td>notpresent</td><td>⋯</td><td>45</td><td> 9300</td><td>4.7</td><td>no</td><td>no</td><td>no</td><td>good</td><td>no</td><td>no</td><td>0</td></tr>\n",
       "\t<tr><td>366</td><td>60</td><td>80</td><td>1.025</td><td>0</td><td>0</td><td>normal</td><td>normal</td><td>notpresent</td><td>notpresent</td><td>⋯</td><td>46</td><td>10500</td><td>5.3</td><td>no</td><td>no</td><td>no</td><td>good</td><td>no</td><td>no</td><td>0</td></tr>\n",
       "\t<tr><td>367</td><td>68</td><td>60</td><td>1.025</td><td>0</td><td>0</td><td>normal</td><td>normal</td><td>notpresent</td><td>notpresent</td><td>⋯</td><td>50</td><td> 6700</td><td>6.1</td><td>no</td><td>no</td><td>no</td><td>good</td><td>no</td><td>no</td><td>0</td></tr>\n",
       "\t<tr><td>368</td><td>30</td><td>80</td><td>1.025</td><td>0</td><td>0</td><td>normal</td><td>normal</td><td>notpresent</td><td>notpresent</td><td>⋯</td><td>45</td><td> 9400</td><td>5.9</td><td>no</td><td>no</td><td>no</td><td>good</td><td>no</td><td>no</td><td>0</td></tr>\n",
       "\t<tr><td>369</td><td>75</td><td>70</td><td>1.020</td><td>0</td><td>0</td><td>normal</td><td>normal</td><td>notpresent</td><td>notpresent</td><td>⋯</td><td>46</td><td>10300</td><td>4.8</td><td>no</td><td>no</td><td>no</td><td>good</td><td>no</td><td>no</td><td>0</td></tr>\n",
       "\t<tr><td>370</td><td>69</td><td>70</td><td>1.020</td><td>0</td><td>0</td><td>normal</td><td>normal</td><td>notpresent</td><td>notpresent</td><td>⋯</td><td>50</td><td> 9300</td><td>5.4</td><td>no</td><td>no</td><td>no</td><td>good</td><td>no</td><td>no</td><td>0</td></tr>\n",
       "\t<tr><td>371</td><td>28</td><td>60</td><td>1.025</td><td>0</td><td>0</td><td>normal</td><td>normal</td><td>notpresent</td><td>notpresent</td><td>⋯</td><td>51</td><td> 6500</td><td>5.0</td><td>no</td><td>no</td><td>no</td><td>good</td><td>no</td><td>no</td><td>0</td></tr>\n",
       "\t<tr><td>372</td><td>72</td><td>60</td><td>1.020</td><td>0</td><td>0</td><td>normal</td><td>normal</td><td>notpresent</td><td>notpresent</td><td>⋯</td><td>52</td><td>10500</td><td>5.5</td><td>no</td><td>no</td><td>no</td><td>good</td><td>no</td><td>no</td><td>0</td></tr>\n",
       "\t<tr><td>373</td><td>61</td><td>70</td><td>1.025</td><td>0</td><td>0</td><td>normal</td><td>normal</td><td>notpresent</td><td>notpresent</td><td>⋯</td><td>47</td><td> 9200</td><td>4.9</td><td>no</td><td>no</td><td>no</td><td>good</td><td>no</td><td>no</td><td>0</td></tr>\n",
       "\t<tr><td>375</td><td>70</td><td>80</td><td>1.020</td><td>0</td><td>0</td><td>normal</td><td>normal</td><td>notpresent</td><td>notpresent</td><td>⋯</td><td>48</td><td> 9700</td><td>5.6</td><td>no</td><td>no</td><td>no</td><td>good</td><td>no</td><td>no</td><td>0</td></tr>\n",
       "\t<tr><td>376</td><td>58</td><td>70</td><td>1.025</td><td>0</td><td>0</td><td>normal</td><td>normal</td><td>notpresent</td><td>notpresent</td><td>⋯</td><td>53</td><td> 9100</td><td>5.2</td><td>no</td><td>no</td><td>no</td><td>good</td><td>no</td><td>no</td><td>0</td></tr>\n",
       "\t<tr><td>377</td><td>64</td><td>70</td><td>1.020</td><td>0</td><td>0</td><td>normal</td><td>normal</td><td>notpresent</td><td>notpresent</td><td>⋯</td><td>49</td><td> 6400</td><td>4.8</td><td>no</td><td>no</td><td>no</td><td>good</td><td>no</td><td>no</td><td>0</td></tr>\n",
       "\t<tr><td>378</td><td>71</td><td>60</td><td>1.025</td><td>0</td><td>0</td><td>normal</td><td>normal</td><td>notpresent</td><td>notpresent</td><td>⋯</td><td>42</td><td> 7700</td><td>5.5</td><td>no</td><td>no</td><td>no</td><td>good</td><td>no</td><td>no</td><td>0</td></tr>\n",
       "\t<tr><td>379</td><td>62</td><td>80</td><td>1.025</td><td>0</td><td>0</td><td>normal</td><td>normal</td><td>notpresent</td><td>notpresent</td><td>⋯</td><td>50</td><td> 5400</td><td>5.7</td><td>no</td><td>no</td><td>no</td><td>good</td><td>no</td><td>no</td><td>0</td></tr>\n",
       "\t<tr><td>380</td><td>59</td><td>60</td><td>1.020</td><td>0</td><td>0</td><td>normal</td><td>normal</td><td>notpresent</td><td>notpresent</td><td>⋯</td><td>54</td><td> 6500</td><td>4.9</td><td>no</td><td>no</td><td>no</td><td>good</td><td>no</td><td>no</td><td>0</td></tr>\n",
       "\t<tr><td>381</td><td>71</td><td>70</td><td>1.025</td><td>0</td><td>0</td><td>normal</td><td>normal</td><td>notpresent</td><td>notpresent</td><td>⋯</td><td>40</td><td> 5800</td><td>5.9</td><td>no</td><td>no</td><td>no</td><td>good</td><td>no</td><td>no</td><td>0</td></tr>\n",
       "\t<tr><td>383</td><td>80</td><td>80</td><td>1.025</td><td>0</td><td>0</td><td>normal</td><td>normal</td><td>notpresent</td><td>notpresent</td><td>⋯</td><td>49</td><td> 5100</td><td>5.0</td><td>no</td><td>no</td><td>no</td><td>good</td><td>no</td><td>no</td><td>0</td></tr>\n",
       "\t<tr><td>384</td><td>57</td><td>60</td><td>1.020</td><td>0</td><td>0</td><td>normal</td><td>normal</td><td>notpresent</td><td>notpresent</td><td>⋯</td><td>42</td><td>11000</td><td>4.5</td><td>no</td><td>no</td><td>no</td><td>good</td><td>no</td><td>no</td><td>0</td></tr>\n",
       "\t<tr><td>385</td><td>63</td><td>70</td><td>1.020</td><td>0</td><td>0</td><td>normal</td><td>normal</td><td>notpresent</td><td>notpresent</td><td>⋯</td><td>52</td><td> 8000</td><td>5.1</td><td>no</td><td>no</td><td>no</td><td>good</td><td>no</td><td>no</td><td>0</td></tr>\n",
       "\t<tr><td>387</td><td>15</td><td>80</td><td>1.025</td><td>0</td><td>0</td><td>normal</td><td>normal</td><td>notpresent</td><td>notpresent</td><td>⋯</td><td>50</td><td> 6200</td><td>5.2</td><td>no</td><td>no</td><td>no</td><td>good</td><td>no</td><td>no</td><td>0</td></tr>\n",
       "\t<tr><td>389</td><td>41</td><td>80</td><td>1.025</td><td>0</td><td>0</td><td>normal</td><td>normal</td><td>notpresent</td><td>notpresent</td><td>⋯</td><td>52</td><td> 7200</td><td>5.8</td><td>no</td><td>no</td><td>no</td><td>good</td><td>no</td><td>no</td><td>0</td></tr>\n",
       "\t<tr><td>390</td><td>52</td><td>80</td><td>1.025</td><td>0</td><td>0</td><td>normal</td><td>normal</td><td>notpresent</td><td>notpresent</td><td>⋯</td><td>52</td><td> 6300</td><td>5.3</td><td>no</td><td>no</td><td>no</td><td>good</td><td>no</td><td>no</td><td>0</td></tr>\n",
       "\t<tr><td>392</td><td>57</td><td>80</td><td>1.020</td><td>0</td><td>0</td><td>normal</td><td>normal</td><td>notpresent</td><td>notpresent</td><td>⋯</td><td>46</td><td> 6600</td><td>5.5</td><td>no</td><td>no</td><td>no</td><td>good</td><td>no</td><td>no</td><td>0</td></tr>\n",
       "\t<tr><td>393</td><td>43</td><td>60</td><td>1.025</td><td>0</td><td>0</td><td>normal</td><td>normal</td><td>notpresent</td><td>notpresent</td><td>⋯</td><td>54</td><td> 7400</td><td>5.4</td><td>no</td><td>no</td><td>no</td><td>good</td><td>no</td><td>no</td><td>0</td></tr>\n",
       "\t<tr><td>394</td><td>50</td><td>80</td><td>1.020</td><td>0</td><td>0</td><td>normal</td><td>normal</td><td>notpresent</td><td>notpresent</td><td>⋯</td><td>45</td><td> 9500</td><td>4.6</td><td>no</td><td>no</td><td>no</td><td>good</td><td>no</td><td>no</td><td>0</td></tr>\n",
       "\t<tr><td>396</td><td>42</td><td>70</td><td>1.025</td><td>0</td><td>0</td><td>normal</td><td>normal</td><td>notpresent</td><td>notpresent</td><td>⋯</td><td>54</td><td> 7800</td><td>6.2</td><td>no</td><td>no</td><td>no</td><td>good</td><td>no</td><td>no</td><td>0</td></tr>\n",
       "\t<tr><td>397</td><td>12</td><td>80</td><td>1.020</td><td>0</td><td>0</td><td>normal</td><td>normal</td><td>notpresent</td><td>notpresent</td><td>⋯</td><td>49</td><td> 6600</td><td>5.4</td><td>no</td><td>no</td><td>no</td><td>good</td><td>no</td><td>no</td><td>0</td></tr>\n",
       "\t<tr><td>398</td><td>17</td><td>60</td><td>1.025</td><td>0</td><td>0</td><td>normal</td><td>normal</td><td>notpresent</td><td>notpresent</td><td>⋯</td><td>51</td><td> 7200</td><td>5.9</td><td>no</td><td>no</td><td>no</td><td>good</td><td>no</td><td>no</td><td>0</td></tr>\n",
       "\t<tr><td>399</td><td>58</td><td>80</td><td>1.025</td><td>0</td><td>0</td><td>normal</td><td>normal</td><td>notpresent</td><td>notpresent</td><td>⋯</td><td>53</td><td> 6800</td><td>6.1</td><td>no</td><td>no</td><td>no</td><td>good</td><td>no</td><td>no</td><td>0</td></tr>\n",
       "</tbody>\n",
       "</table>\n"
      ],
      "text/latex": [
       "A data.frame: 197 × 26\n",
       "\\begin{tabular}{lllllllllllllllllllll}\n",
       " id & age & bp & sg & al & su & rbc & pc & pcc & ba & ⋯ & pcv & wc & rc & htn & dm & cad & appet & pe & ane & classification\\\\\n",
       " <int> & <dbl> & <dbl> & <dbl> & <dbl> & <dbl> & <fct> & <fct> & <fct> & <fct> & ⋯ & <int> & <int> & <dbl> & <fct> & <fct> & <fct> & <fct> & <fct> & <fct> & <int>\\\\\n",
       "\\hline\n",
       "\t   0 & 48 & 80 & 1.020 & 1 & 0 & normal   & normal   & notpresent & notpresent & ⋯ & 44 &  7800 & 5.2 & yes & yes & no  & good & no  & no  & 1\\\\\n",
       "\t   4 & 51 & 80 & 1.010 & 2 & 0 & normal   & normal   & notpresent & notpresent & ⋯ & 35 &  7300 & 4.6 & no  & no  & no  & good & no  & no  & 1\\\\\n",
       "\t   5 & 60 & 90 & 1.015 & 3 & 0 & normal   & normal   & notpresent & notpresent & ⋯ & 39 &  7800 & 4.4 & yes & yes & no  & good & yes & no  & 1\\\\\n",
       "\t  13 & 68 & 70 & 1.020 & 0 & 0 & normal   & normal   & notpresent & notpresent & ⋯ & 41 &  9800 & 5.2 & yes & yes & yes & poor & yes & no  & 1\\\\\n",
       "\t  16 & 47 & 70 & 1.015 & 2 & 0 & normal   & normal   & notpresent & notpresent & ⋯ & 41 &  9800 & 5.2 & no  & no  & no  & good & no  & no  & 1\\\\\n",
       "\t  17 & 47 & 80 & 1.020 & 0 & 0 & normal   & normal   & notpresent & notpresent & ⋯ & 41 &  9800 & 5.2 & yes & no  & no  & poor & no  & no  & 1\\\\\n",
       "\t  19 & 62 & 60 & 1.015 & 1 & 0 & normal   & abnormal & present    & notpresent & ⋯ & 30 &  5300 & 3.7 & yes & no  & yes & good & no  & no  & 1\\\\\n",
       "\t  23 & 21 & 70 & 1.010 & 0 & 0 & normal   & normal   & notpresent & notpresent & ⋯ & 41 &  9800 & 5.2 & no  & no  & no  & poor & no  & yes & 1\\\\\n",
       "\t  25 & 61 & 60 & 1.025 & 0 & 0 & normal   & normal   & notpresent & notpresent & ⋯ & 29 &  8400 & 3.7 & yes & yes & no  & good & no  & yes & 1\\\\\n",
       "\t  31 & 73 & 90 & 1.015 & 3 & 0 & normal   & abnormal & present    & notpresent & ⋯ & 30 &  7800 & 4.0 & no  & no  & no  & poor & no  & no  & 1\\\\\n",
       "\t  36 & 76 & 70 & 1.015 & 1 & 0 & normal   & normal   & notpresent & notpresent & ⋯ & 32 &  9800 & 5.2 & yes & no  & no  & good & no  & no  & 1\\\\\n",
       "\t  38 & 69 & 80 & 1.020 & 3 & 0 & abnormal & normal   & notpresent & notpresent & ⋯ & 41 &  9800 & 5.2 & yes & no  & no  & good & no  & no  & 1\\\\\n",
       "\t  40 & 46 & 90 & 1.010 & 2 & 0 & normal   & abnormal & notpresent & notpresent & ⋯ & 32 &  9100 & 4.1 & yes & no  & no  & good & no  & no  & 1\\\\\n",
       "\t  41 & 45 & 70 & 1.010 & 0 & 0 & normal   & normal   & notpresent & notpresent & ⋯ & 41 &  9800 & 5.2 & no  & no  & no  & good & yes & no  & 1\\\\\n",
       "\t  46 & 48 & 70 & 1.015 & 0 & 0 & normal   & normal   & notpresent & notpresent & ⋯ & 37 &  6400 & 4.7 & no  & yes & no  & good & no  & no  & 1\\\\\n",
       "\t  47 & 11 & 80 & 1.010 & 3 & 0 & normal   & normal   & notpresent & notpresent & ⋯ & 45 &  8600 & 5.2 & no  & no  & no  & good & no  & no  & 1\\\\\n",
       "\t  52 & 53 & 90 & 1.015 & 0 & 0 & normal   & normal   & notpresent & notpresent & ⋯ & 34 &  4300 & 3.7 & no  & no  & no  & poor & no  & yes & 1\\\\\n",
       "\t  62 & 15 & 60 & 1.020 & 3 & 0 & normal   & normal   & notpresent & notpresent & ⋯ & 33 &  7700 & 3.8 & yes & yes & no  & good & no  & no  & 1\\\\\n",
       "\t  65 & 44 & 90 & 1.010 & 1 & 0 & normal   & normal   & notpresent & notpresent & ⋯ & 48 &  9800 & 5.2 & no  & no  & no  & good & no  & no  & 1\\\\\n",
       "\t  68 & 65 & 70 & 1.010 & 2 & 0 & normal   & normal   & present    & notpresent & ⋯ & 37 &  9800 & 5.2 & no  & no  & no  & good & no  & no  & 1\\\\\n",
       "\t  77 & 67 & 70 & 1.010 & 1 & 0 & normal   & normal   & notpresent & notpresent & ⋯ & 34 &  7100 & 3.7 & yes & yes & no  & good & yes & no  & 1\\\\\n",
       "\t  80 & 74 & 80 & 1.010 & 0 & 0 & normal   & normal   & notpresent & notpresent & ⋯ & 31 &  9400 & 3.8 & yes & yes & no  & good & no  & no  & 1\\\\\n",
       "\t  82 & 38 & 70 & 1.020 & 0 & 0 & normal   & normal   & notpresent & notpresent & ⋯ & 41 &  9800 & 5.2 & yes & no  & no  & poor & yes & no  & 1\\\\\n",
       "\t  83 & 48 & 70 & 1.015 & 1 & 0 & normal   & normal   & notpresent & notpresent & ⋯ & 41 &  9800 & 5.2 & yes & yes & no  & good & no  & no  & 1\\\\\n",
       "\t  85 & 70 & 70 & 1.015 & 2 & 0 & normal   & normal   & notpresent & notpresent & ⋯ & 41 &  9800 & 5.2 & no  & yes & no  & poor & yes & no  & 1\\\\\n",
       "\t  89 & 50 & 70 & 1.020 & 0 & 0 & normal   & normal   & notpresent & notpresent & ⋯ & 41 &  9800 & 5.2 & no  & no  & no  & poor & no  & no  & 1\\\\\n",
       "\t  94 & 65 & 70 & 1.010 & 0 & 0 & normal   & normal   & notpresent & notpresent & ⋯ & 36 & 11900 & 3.9 & no  & yes & no  & good & no  & no  & 1\\\\\n",
       "\t  95 & 62 & 90 & 1.015 & 1 & 0 & normal   & normal   & notpresent & notpresent & ⋯ & 41 &  9800 & 5.2 & yes & no  & no  & good & yes & yes & 1\\\\\n",
       "\t  97 & 65 & 60 & 1.015 & 1 & 0 & normal   & normal   & notpresent & notpresent & ⋯ & 32 &  9100 & 4.0 & yes & yes & no  & poor & yes & no  & 1\\\\\n",
       "\t 101 & 71 & 90 & 1.015 & 2 & 0 & normal   & abnormal & present    & present    & ⋯ & 33 & 10700 & 3.9 & no  & no  & no  & good & no  & no  & 1\\\\\n",
       "\t ⋮ & ⋮ & ⋮ & ⋮ & ⋮ & ⋮ & ⋮ & ⋮ & ⋮ & ⋮ & ⋱ & ⋮ & ⋮ & ⋮ & ⋮ & ⋮ & ⋮ & ⋮ & ⋮ & ⋮ & ⋮\\\\\n",
       "\t 363 & 67 & 80 & 1.025 & 0 & 0 & normal & normal & notpresent & notpresent & ⋯ & 44 &  5900 & 5.2 & no & no & no & good & no & no & 0\\\\\n",
       "\t 364 & 73 & 80 & 1.025 & 0 & 0 & normal & normal & notpresent & notpresent & ⋯ & 45 &  9300 & 4.7 & no & no & no & good & no & no & 0\\\\\n",
       "\t 366 & 60 & 80 & 1.025 & 0 & 0 & normal & normal & notpresent & notpresent & ⋯ & 46 & 10500 & 5.3 & no & no & no & good & no & no & 0\\\\\n",
       "\t 367 & 68 & 60 & 1.025 & 0 & 0 & normal & normal & notpresent & notpresent & ⋯ & 50 &  6700 & 6.1 & no & no & no & good & no & no & 0\\\\\n",
       "\t 368 & 30 & 80 & 1.025 & 0 & 0 & normal & normal & notpresent & notpresent & ⋯ & 45 &  9400 & 5.9 & no & no & no & good & no & no & 0\\\\\n",
       "\t 369 & 75 & 70 & 1.020 & 0 & 0 & normal & normal & notpresent & notpresent & ⋯ & 46 & 10300 & 4.8 & no & no & no & good & no & no & 0\\\\\n",
       "\t 370 & 69 & 70 & 1.020 & 0 & 0 & normal & normal & notpresent & notpresent & ⋯ & 50 &  9300 & 5.4 & no & no & no & good & no & no & 0\\\\\n",
       "\t 371 & 28 & 60 & 1.025 & 0 & 0 & normal & normal & notpresent & notpresent & ⋯ & 51 &  6500 & 5.0 & no & no & no & good & no & no & 0\\\\\n",
       "\t 372 & 72 & 60 & 1.020 & 0 & 0 & normal & normal & notpresent & notpresent & ⋯ & 52 & 10500 & 5.5 & no & no & no & good & no & no & 0\\\\\n",
       "\t 373 & 61 & 70 & 1.025 & 0 & 0 & normal & normal & notpresent & notpresent & ⋯ & 47 &  9200 & 4.9 & no & no & no & good & no & no & 0\\\\\n",
       "\t 375 & 70 & 80 & 1.020 & 0 & 0 & normal & normal & notpresent & notpresent & ⋯ & 48 &  9700 & 5.6 & no & no & no & good & no & no & 0\\\\\n",
       "\t 376 & 58 & 70 & 1.025 & 0 & 0 & normal & normal & notpresent & notpresent & ⋯ & 53 &  9100 & 5.2 & no & no & no & good & no & no & 0\\\\\n",
       "\t 377 & 64 & 70 & 1.020 & 0 & 0 & normal & normal & notpresent & notpresent & ⋯ & 49 &  6400 & 4.8 & no & no & no & good & no & no & 0\\\\\n",
       "\t 378 & 71 & 60 & 1.025 & 0 & 0 & normal & normal & notpresent & notpresent & ⋯ & 42 &  7700 & 5.5 & no & no & no & good & no & no & 0\\\\\n",
       "\t 379 & 62 & 80 & 1.025 & 0 & 0 & normal & normal & notpresent & notpresent & ⋯ & 50 &  5400 & 5.7 & no & no & no & good & no & no & 0\\\\\n",
       "\t 380 & 59 & 60 & 1.020 & 0 & 0 & normal & normal & notpresent & notpresent & ⋯ & 54 &  6500 & 4.9 & no & no & no & good & no & no & 0\\\\\n",
       "\t 381 & 71 & 70 & 1.025 & 0 & 0 & normal & normal & notpresent & notpresent & ⋯ & 40 &  5800 & 5.9 & no & no & no & good & no & no & 0\\\\\n",
       "\t 383 & 80 & 80 & 1.025 & 0 & 0 & normal & normal & notpresent & notpresent & ⋯ & 49 &  5100 & 5.0 & no & no & no & good & no & no & 0\\\\\n",
       "\t 384 & 57 & 60 & 1.020 & 0 & 0 & normal & normal & notpresent & notpresent & ⋯ & 42 & 11000 & 4.5 & no & no & no & good & no & no & 0\\\\\n",
       "\t 385 & 63 & 70 & 1.020 & 0 & 0 & normal & normal & notpresent & notpresent & ⋯ & 52 &  8000 & 5.1 & no & no & no & good & no & no & 0\\\\\n",
       "\t 387 & 15 & 80 & 1.025 & 0 & 0 & normal & normal & notpresent & notpresent & ⋯ & 50 &  6200 & 5.2 & no & no & no & good & no & no & 0\\\\\n",
       "\t 389 & 41 & 80 & 1.025 & 0 & 0 & normal & normal & notpresent & notpresent & ⋯ & 52 &  7200 & 5.8 & no & no & no & good & no & no & 0\\\\\n",
       "\t 390 & 52 & 80 & 1.025 & 0 & 0 & normal & normal & notpresent & notpresent & ⋯ & 52 &  6300 & 5.3 & no & no & no & good & no & no & 0\\\\\n",
       "\t 392 & 57 & 80 & 1.020 & 0 & 0 & normal & normal & notpresent & notpresent & ⋯ & 46 &  6600 & 5.5 & no & no & no & good & no & no & 0\\\\\n",
       "\t 393 & 43 & 60 & 1.025 & 0 & 0 & normal & normal & notpresent & notpresent & ⋯ & 54 &  7400 & 5.4 & no & no & no & good & no & no & 0\\\\\n",
       "\t 394 & 50 & 80 & 1.020 & 0 & 0 & normal & normal & notpresent & notpresent & ⋯ & 45 &  9500 & 4.6 & no & no & no & good & no & no & 0\\\\\n",
       "\t 396 & 42 & 70 & 1.025 & 0 & 0 & normal & normal & notpresent & notpresent & ⋯ & 54 &  7800 & 6.2 & no & no & no & good & no & no & 0\\\\\n",
       "\t 397 & 12 & 80 & 1.020 & 0 & 0 & normal & normal & notpresent & notpresent & ⋯ & 49 &  6600 & 5.4 & no & no & no & good & no & no & 0\\\\\n",
       "\t 398 & 17 & 60 & 1.025 & 0 & 0 & normal & normal & notpresent & notpresent & ⋯ & 51 &  7200 & 5.9 & no & no & no & good & no & no & 0\\\\\n",
       "\t 399 & 58 & 80 & 1.025 & 0 & 0 & normal & normal & notpresent & notpresent & ⋯ & 53 &  6800 & 6.1 & no & no & no & good & no & no & 0\\\\\n",
       "\\end{tabular}\n"
      ],
      "text/markdown": [
       "\n",
       "A data.frame: 197 × 26\n",
       "\n",
       "| id &lt;int&gt; | age &lt;dbl&gt; | bp &lt;dbl&gt; | sg &lt;dbl&gt; | al &lt;dbl&gt; | su &lt;dbl&gt; | rbc &lt;fct&gt; | pc &lt;fct&gt; | pcc &lt;fct&gt; | ba &lt;fct&gt; | ⋯ ⋯ | pcv &lt;int&gt; | wc &lt;int&gt; | rc &lt;dbl&gt; | htn &lt;fct&gt; | dm &lt;fct&gt; | cad &lt;fct&gt; | appet &lt;fct&gt; | pe &lt;fct&gt; | ane &lt;fct&gt; | classification &lt;int&gt; |\n",
       "|---|---|---|---|---|---|---|---|---|---|---|---|---|---|---|---|---|---|---|---|---|\n",
       "|   0 | 48 | 80 | 1.020 | 1 | 0 | normal   | normal   | notpresent | notpresent | ⋯ | 44 |  7800 | 5.2 | yes | yes | no  | good | no  | no  | 1 |\n",
       "|   4 | 51 | 80 | 1.010 | 2 | 0 | normal   | normal   | notpresent | notpresent | ⋯ | 35 |  7300 | 4.6 | no  | no  | no  | good | no  | no  | 1 |\n",
       "|   5 | 60 | 90 | 1.015 | 3 | 0 | normal   | normal   | notpresent | notpresent | ⋯ | 39 |  7800 | 4.4 | yes | yes | no  | good | yes | no  | 1 |\n",
       "|  13 | 68 | 70 | 1.020 | 0 | 0 | normal   | normal   | notpresent | notpresent | ⋯ | 41 |  9800 | 5.2 | yes | yes | yes | poor | yes | no  | 1 |\n",
       "|  16 | 47 | 70 | 1.015 | 2 | 0 | normal   | normal   | notpresent | notpresent | ⋯ | 41 |  9800 | 5.2 | no  | no  | no  | good | no  | no  | 1 |\n",
       "|  17 | 47 | 80 | 1.020 | 0 | 0 | normal   | normal   | notpresent | notpresent | ⋯ | 41 |  9800 | 5.2 | yes | no  | no  | poor | no  | no  | 1 |\n",
       "|  19 | 62 | 60 | 1.015 | 1 | 0 | normal   | abnormal | present    | notpresent | ⋯ | 30 |  5300 | 3.7 | yes | no  | yes | good | no  | no  | 1 |\n",
       "|  23 | 21 | 70 | 1.010 | 0 | 0 | normal   | normal   | notpresent | notpresent | ⋯ | 41 |  9800 | 5.2 | no  | no  | no  | poor | no  | yes | 1 |\n",
       "|  25 | 61 | 60 | 1.025 | 0 | 0 | normal   | normal   | notpresent | notpresent | ⋯ | 29 |  8400 | 3.7 | yes | yes | no  | good | no  | yes | 1 |\n",
       "|  31 | 73 | 90 | 1.015 | 3 | 0 | normal   | abnormal | present    | notpresent | ⋯ | 30 |  7800 | 4.0 | no  | no  | no  | poor | no  | no  | 1 |\n",
       "|  36 | 76 | 70 | 1.015 | 1 | 0 | normal   | normal   | notpresent | notpresent | ⋯ | 32 |  9800 | 5.2 | yes | no  | no  | good | no  | no  | 1 |\n",
       "|  38 | 69 | 80 | 1.020 | 3 | 0 | abnormal | normal   | notpresent | notpresent | ⋯ | 41 |  9800 | 5.2 | yes | no  | no  | good | no  | no  | 1 |\n",
       "|  40 | 46 | 90 | 1.010 | 2 | 0 | normal   | abnormal | notpresent | notpresent | ⋯ | 32 |  9100 | 4.1 | yes | no  | no  | good | no  | no  | 1 |\n",
       "|  41 | 45 | 70 | 1.010 | 0 | 0 | normal   | normal   | notpresent | notpresent | ⋯ | 41 |  9800 | 5.2 | no  | no  | no  | good | yes | no  | 1 |\n",
       "|  46 | 48 | 70 | 1.015 | 0 | 0 | normal   | normal   | notpresent | notpresent | ⋯ | 37 |  6400 | 4.7 | no  | yes | no  | good | no  | no  | 1 |\n",
       "|  47 | 11 | 80 | 1.010 | 3 | 0 | normal   | normal   | notpresent | notpresent | ⋯ | 45 |  8600 | 5.2 | no  | no  | no  | good | no  | no  | 1 |\n",
       "|  52 | 53 | 90 | 1.015 | 0 | 0 | normal   | normal   | notpresent | notpresent | ⋯ | 34 |  4300 | 3.7 | no  | no  | no  | poor | no  | yes | 1 |\n",
       "|  62 | 15 | 60 | 1.020 | 3 | 0 | normal   | normal   | notpresent | notpresent | ⋯ | 33 |  7700 | 3.8 | yes | yes | no  | good | no  | no  | 1 |\n",
       "|  65 | 44 | 90 | 1.010 | 1 | 0 | normal   | normal   | notpresent | notpresent | ⋯ | 48 |  9800 | 5.2 | no  | no  | no  | good | no  | no  | 1 |\n",
       "|  68 | 65 | 70 | 1.010 | 2 | 0 | normal   | normal   | present    | notpresent | ⋯ | 37 |  9800 | 5.2 | no  | no  | no  | good | no  | no  | 1 |\n",
       "|  77 | 67 | 70 | 1.010 | 1 | 0 | normal   | normal   | notpresent | notpresent | ⋯ | 34 |  7100 | 3.7 | yes | yes | no  | good | yes | no  | 1 |\n",
       "|  80 | 74 | 80 | 1.010 | 0 | 0 | normal   | normal   | notpresent | notpresent | ⋯ | 31 |  9400 | 3.8 | yes | yes | no  | good | no  | no  | 1 |\n",
       "|  82 | 38 | 70 | 1.020 | 0 | 0 | normal   | normal   | notpresent | notpresent | ⋯ | 41 |  9800 | 5.2 | yes | no  | no  | poor | yes | no  | 1 |\n",
       "|  83 | 48 | 70 | 1.015 | 1 | 0 | normal   | normal   | notpresent | notpresent | ⋯ | 41 |  9800 | 5.2 | yes | yes | no  | good | no  | no  | 1 |\n",
       "|  85 | 70 | 70 | 1.015 | 2 | 0 | normal   | normal   | notpresent | notpresent | ⋯ | 41 |  9800 | 5.2 | no  | yes | no  | poor | yes | no  | 1 |\n",
       "|  89 | 50 | 70 | 1.020 | 0 | 0 | normal   | normal   | notpresent | notpresent | ⋯ | 41 |  9800 | 5.2 | no  | no  | no  | poor | no  | no  | 1 |\n",
       "|  94 | 65 | 70 | 1.010 | 0 | 0 | normal   | normal   | notpresent | notpresent | ⋯ | 36 | 11900 | 3.9 | no  | yes | no  | good | no  | no  | 1 |\n",
       "|  95 | 62 | 90 | 1.015 | 1 | 0 | normal   | normal   | notpresent | notpresent | ⋯ | 41 |  9800 | 5.2 | yes | no  | no  | good | yes | yes | 1 |\n",
       "|  97 | 65 | 60 | 1.015 | 1 | 0 | normal   | normal   | notpresent | notpresent | ⋯ | 32 |  9100 | 4.0 | yes | yes | no  | poor | yes | no  | 1 |\n",
       "| 101 | 71 | 90 | 1.015 | 2 | 0 | normal   | abnormal | present    | present    | ⋯ | 33 | 10700 | 3.9 | no  | no  | no  | good | no  | no  | 1 |\n",
       "| ⋮ | ⋮ | ⋮ | ⋮ | ⋮ | ⋮ | ⋮ | ⋮ | ⋮ | ⋮ | ⋱ | ⋮ | ⋮ | ⋮ | ⋮ | ⋮ | ⋮ | ⋮ | ⋮ | ⋮ | ⋮ |\n",
       "| 363 | 67 | 80 | 1.025 | 0 | 0 | normal | normal | notpresent | notpresent | ⋯ | 44 |  5900 | 5.2 | no | no | no | good | no | no | 0 |\n",
       "| 364 | 73 | 80 | 1.025 | 0 | 0 | normal | normal | notpresent | notpresent | ⋯ | 45 |  9300 | 4.7 | no | no | no | good | no | no | 0 |\n",
       "| 366 | 60 | 80 | 1.025 | 0 | 0 | normal | normal | notpresent | notpresent | ⋯ | 46 | 10500 | 5.3 | no | no | no | good | no | no | 0 |\n",
       "| 367 | 68 | 60 | 1.025 | 0 | 0 | normal | normal | notpresent | notpresent | ⋯ | 50 |  6700 | 6.1 | no | no | no | good | no | no | 0 |\n",
       "| 368 | 30 | 80 | 1.025 | 0 | 0 | normal | normal | notpresent | notpresent | ⋯ | 45 |  9400 | 5.9 | no | no | no | good | no | no | 0 |\n",
       "| 369 | 75 | 70 | 1.020 | 0 | 0 | normal | normal | notpresent | notpresent | ⋯ | 46 | 10300 | 4.8 | no | no | no | good | no | no | 0 |\n",
       "| 370 | 69 | 70 | 1.020 | 0 | 0 | normal | normal | notpresent | notpresent | ⋯ | 50 |  9300 | 5.4 | no | no | no | good | no | no | 0 |\n",
       "| 371 | 28 | 60 | 1.025 | 0 | 0 | normal | normal | notpresent | notpresent | ⋯ | 51 |  6500 | 5.0 | no | no | no | good | no | no | 0 |\n",
       "| 372 | 72 | 60 | 1.020 | 0 | 0 | normal | normal | notpresent | notpresent | ⋯ | 52 | 10500 | 5.5 | no | no | no | good | no | no | 0 |\n",
       "| 373 | 61 | 70 | 1.025 | 0 | 0 | normal | normal | notpresent | notpresent | ⋯ | 47 |  9200 | 4.9 | no | no | no | good | no | no | 0 |\n",
       "| 375 | 70 | 80 | 1.020 | 0 | 0 | normal | normal | notpresent | notpresent | ⋯ | 48 |  9700 | 5.6 | no | no | no | good | no | no | 0 |\n",
       "| 376 | 58 | 70 | 1.025 | 0 | 0 | normal | normal | notpresent | notpresent | ⋯ | 53 |  9100 | 5.2 | no | no | no | good | no | no | 0 |\n",
       "| 377 | 64 | 70 | 1.020 | 0 | 0 | normal | normal | notpresent | notpresent | ⋯ | 49 |  6400 | 4.8 | no | no | no | good | no | no | 0 |\n",
       "| 378 | 71 | 60 | 1.025 | 0 | 0 | normal | normal | notpresent | notpresent | ⋯ | 42 |  7700 | 5.5 | no | no | no | good | no | no | 0 |\n",
       "| 379 | 62 | 80 | 1.025 | 0 | 0 | normal | normal | notpresent | notpresent | ⋯ | 50 |  5400 | 5.7 | no | no | no | good | no | no | 0 |\n",
       "| 380 | 59 | 60 | 1.020 | 0 | 0 | normal | normal | notpresent | notpresent | ⋯ | 54 |  6500 | 4.9 | no | no | no | good | no | no | 0 |\n",
       "| 381 | 71 | 70 | 1.025 | 0 | 0 | normal | normal | notpresent | notpresent | ⋯ | 40 |  5800 | 5.9 | no | no | no | good | no | no | 0 |\n",
       "| 383 | 80 | 80 | 1.025 | 0 | 0 | normal | normal | notpresent | notpresent | ⋯ | 49 |  5100 | 5.0 | no | no | no | good | no | no | 0 |\n",
       "| 384 | 57 | 60 | 1.020 | 0 | 0 | normal | normal | notpresent | notpresent | ⋯ | 42 | 11000 | 4.5 | no | no | no | good | no | no | 0 |\n",
       "| 385 | 63 | 70 | 1.020 | 0 | 0 | normal | normal | notpresent | notpresent | ⋯ | 52 |  8000 | 5.1 | no | no | no | good | no | no | 0 |\n",
       "| 387 | 15 | 80 | 1.025 | 0 | 0 | normal | normal | notpresent | notpresent | ⋯ | 50 |  6200 | 5.2 | no | no | no | good | no | no | 0 |\n",
       "| 389 | 41 | 80 | 1.025 | 0 | 0 | normal | normal | notpresent | notpresent | ⋯ | 52 |  7200 | 5.8 | no | no | no | good | no | no | 0 |\n",
       "| 390 | 52 | 80 | 1.025 | 0 | 0 | normal | normal | notpresent | notpresent | ⋯ | 52 |  6300 | 5.3 | no | no | no | good | no | no | 0 |\n",
       "| 392 | 57 | 80 | 1.020 | 0 | 0 | normal | normal | notpresent | notpresent | ⋯ | 46 |  6600 | 5.5 | no | no | no | good | no | no | 0 |\n",
       "| 393 | 43 | 60 | 1.025 | 0 | 0 | normal | normal | notpresent | notpresent | ⋯ | 54 |  7400 | 5.4 | no | no | no | good | no | no | 0 |\n",
       "| 394 | 50 | 80 | 1.020 | 0 | 0 | normal | normal | notpresent | notpresent | ⋯ | 45 |  9500 | 4.6 | no | no | no | good | no | no | 0 |\n",
       "| 396 | 42 | 70 | 1.025 | 0 | 0 | normal | normal | notpresent | notpresent | ⋯ | 54 |  7800 | 6.2 | no | no | no | good | no | no | 0 |\n",
       "| 397 | 12 | 80 | 1.020 | 0 | 0 | normal | normal | notpresent | notpresent | ⋯ | 49 |  6600 | 5.4 | no | no | no | good | no | no | 0 |\n",
       "| 398 | 17 | 60 | 1.025 | 0 | 0 | normal | normal | notpresent | notpresent | ⋯ | 51 |  7200 | 5.9 | no | no | no | good | no | no | 0 |\n",
       "| 399 | 58 | 80 | 1.025 | 0 | 0 | normal | normal | notpresent | notpresent | ⋯ | 53 |  6800 | 6.1 | no | no | no | good | no | no | 0 |\n",
       "\n"
      ],
      "text/plain": [
       "    id  age bp sg    al su rbc      pc       pcc        ba         ⋯ pcv wc   \n",
       "1     0 48  80 1.020 1  0  normal   normal   notpresent notpresent ⋯ 44   7800\n",
       "2     4 51  80 1.010 2  0  normal   normal   notpresent notpresent ⋯ 35   7300\n",
       "3     5 60  90 1.015 3  0  normal   normal   notpresent notpresent ⋯ 39   7800\n",
       "4    13 68  70 1.020 0  0  normal   normal   notpresent notpresent ⋯ 41   9800\n",
       "5    16 47  70 1.015 2  0  normal   normal   notpresent notpresent ⋯ 41   9800\n",
       "6    17 47  80 1.020 0  0  normal   normal   notpresent notpresent ⋯ 41   9800\n",
       "7    19 62  60 1.015 1  0  normal   abnormal present    notpresent ⋯ 30   5300\n",
       "8    23 21  70 1.010 0  0  normal   normal   notpresent notpresent ⋯ 41   9800\n",
       "9    25 61  60 1.025 0  0  normal   normal   notpresent notpresent ⋯ 29   8400\n",
       "10   31 73  90 1.015 3  0  normal   abnormal present    notpresent ⋯ 30   7800\n",
       "11   36 76  70 1.015 1  0  normal   normal   notpresent notpresent ⋯ 32   9800\n",
       "12   38 69  80 1.020 3  0  abnormal normal   notpresent notpresent ⋯ 41   9800\n",
       "13   40 46  90 1.010 2  0  normal   abnormal notpresent notpresent ⋯ 32   9100\n",
       "14   41 45  70 1.010 0  0  normal   normal   notpresent notpresent ⋯ 41   9800\n",
       "15   46 48  70 1.015 0  0  normal   normal   notpresent notpresent ⋯ 37   6400\n",
       "16   47 11  80 1.010 3  0  normal   normal   notpresent notpresent ⋯ 45   8600\n",
       "17   52 53  90 1.015 0  0  normal   normal   notpresent notpresent ⋯ 34   4300\n",
       "18   62 15  60 1.020 3  0  normal   normal   notpresent notpresent ⋯ 33   7700\n",
       "19   65 44  90 1.010 1  0  normal   normal   notpresent notpresent ⋯ 48   9800\n",
       "20   68 65  70 1.010 2  0  normal   normal   present    notpresent ⋯ 37   9800\n",
       "21   77 67  70 1.010 1  0  normal   normal   notpresent notpresent ⋯ 34   7100\n",
       "22   80 74  80 1.010 0  0  normal   normal   notpresent notpresent ⋯ 31   9400\n",
       "23   82 38  70 1.020 0  0  normal   normal   notpresent notpresent ⋯ 41   9800\n",
       "24   83 48  70 1.015 1  0  normal   normal   notpresent notpresent ⋯ 41   9800\n",
       "25   85 70  70 1.015 2  0  normal   normal   notpresent notpresent ⋯ 41   9800\n",
       "26   89 50  70 1.020 0  0  normal   normal   notpresent notpresent ⋯ 41   9800\n",
       "27   94 65  70 1.010 0  0  normal   normal   notpresent notpresent ⋯ 36  11900\n",
       "28   95 62  90 1.015 1  0  normal   normal   notpresent notpresent ⋯ 41   9800\n",
       "29   97 65  60 1.015 1  0  normal   normal   notpresent notpresent ⋯ 32   9100\n",
       "30  101 71  90 1.015 2  0  normal   abnormal present    present    ⋯ 33  10700\n",
       "⋮   ⋮   ⋮   ⋮  ⋮     ⋮  ⋮  ⋮        ⋮        ⋮          ⋮          ⋱ ⋮   ⋮    \n",
       "168 363 67  80 1.025 0  0  normal   normal   notpresent notpresent ⋯ 44   5900\n",
       "169 364 73  80 1.025 0  0  normal   normal   notpresent notpresent ⋯ 45   9300\n",
       "170 366 60  80 1.025 0  0  normal   normal   notpresent notpresent ⋯ 46  10500\n",
       "171 367 68  60 1.025 0  0  normal   normal   notpresent notpresent ⋯ 50   6700\n",
       "172 368 30  80 1.025 0  0  normal   normal   notpresent notpresent ⋯ 45   9400\n",
       "173 369 75  70 1.020 0  0  normal   normal   notpresent notpresent ⋯ 46  10300\n",
       "174 370 69  70 1.020 0  0  normal   normal   notpresent notpresent ⋯ 50   9300\n",
       "175 371 28  60 1.025 0  0  normal   normal   notpresent notpresent ⋯ 51   6500\n",
       "176 372 72  60 1.020 0  0  normal   normal   notpresent notpresent ⋯ 52  10500\n",
       "177 373 61  70 1.025 0  0  normal   normal   notpresent notpresent ⋯ 47   9200\n",
       "178 375 70  80 1.020 0  0  normal   normal   notpresent notpresent ⋯ 48   9700\n",
       "179 376 58  70 1.025 0  0  normal   normal   notpresent notpresent ⋯ 53   9100\n",
       "180 377 64  70 1.020 0  0  normal   normal   notpresent notpresent ⋯ 49   6400\n",
       "181 378 71  60 1.025 0  0  normal   normal   notpresent notpresent ⋯ 42   7700\n",
       "182 379 62  80 1.025 0  0  normal   normal   notpresent notpresent ⋯ 50   5400\n",
       "183 380 59  60 1.020 0  0  normal   normal   notpresent notpresent ⋯ 54   6500\n",
       "184 381 71  70 1.025 0  0  normal   normal   notpresent notpresent ⋯ 40   5800\n",
       "185 383 80  80 1.025 0  0  normal   normal   notpresent notpresent ⋯ 49   5100\n",
       "186 384 57  60 1.020 0  0  normal   normal   notpresent notpresent ⋯ 42  11000\n",
       "187 385 63  70 1.020 0  0  normal   normal   notpresent notpresent ⋯ 52   8000\n",
       "188 387 15  80 1.025 0  0  normal   normal   notpresent notpresent ⋯ 50   6200\n",
       "189 389 41  80 1.025 0  0  normal   normal   notpresent notpresent ⋯ 52   7200\n",
       "190 390 52  80 1.025 0  0  normal   normal   notpresent notpresent ⋯ 52   6300\n",
       "191 392 57  80 1.020 0  0  normal   normal   notpresent notpresent ⋯ 46   6600\n",
       "192 393 43  60 1.025 0  0  normal   normal   notpresent notpresent ⋯ 54   7400\n",
       "193 394 50  80 1.020 0  0  normal   normal   notpresent notpresent ⋯ 45   9500\n",
       "194 396 42  70 1.025 0  0  normal   normal   notpresent notpresent ⋯ 54   7800\n",
       "195 397 12  80 1.020 0  0  normal   normal   notpresent notpresent ⋯ 49   6600\n",
       "196 398 17  60 1.025 0  0  normal   normal   notpresent notpresent ⋯ 51   7200\n",
       "197 399 58  80 1.025 0  0  normal   normal   notpresent notpresent ⋯ 53   6800\n",
       "    rc  htn dm  cad appet pe  ane classification\n",
       "1   5.2 yes yes no  good  no  no  1             \n",
       "2   4.6 no  no  no  good  no  no  1             \n",
       "3   4.4 yes yes no  good  yes no  1             \n",
       "4   5.2 yes yes yes poor  yes no  1             \n",
       "5   5.2 no  no  no  good  no  no  1             \n",
       "6   5.2 yes no  no  poor  no  no  1             \n",
       "7   3.7 yes no  yes good  no  no  1             \n",
       "8   5.2 no  no  no  poor  no  yes 1             \n",
       "9   3.7 yes yes no  good  no  yes 1             \n",
       "10  4.0 no  no  no  poor  no  no  1             \n",
       "11  5.2 yes no  no  good  no  no  1             \n",
       "12  5.2 yes no  no  good  no  no  1             \n",
       "13  4.1 yes no  no  good  no  no  1             \n",
       "14  5.2 no  no  no  good  yes no  1             \n",
       "15  4.7 no  yes no  good  no  no  1             \n",
       "16  5.2 no  no  no  good  no  no  1             \n",
       "17  3.7 no  no  no  poor  no  yes 1             \n",
       "18  3.8 yes yes no  good  no  no  1             \n",
       "19  5.2 no  no  no  good  no  no  1             \n",
       "20  5.2 no  no  no  good  no  no  1             \n",
       "21  3.7 yes yes no  good  yes no  1             \n",
       "22  3.8 yes yes no  good  no  no  1             \n",
       "23  5.2 yes no  no  poor  yes no  1             \n",
       "24  5.2 yes yes no  good  no  no  1             \n",
       "25  5.2 no  yes no  poor  yes no  1             \n",
       "26  5.2 no  no  no  poor  no  no  1             \n",
       "27  3.9 no  yes no  good  no  no  1             \n",
       "28  5.2 yes no  no  good  yes yes 1             \n",
       "29  4.0 yes yes no  poor  yes no  1             \n",
       "30  3.9 no  no  no  good  no  no  1             \n",
       "⋮   ⋮   ⋮   ⋮   ⋮   ⋮     ⋮   ⋮   ⋮             \n",
       "168 5.2 no  no  no  good  no  no  0             \n",
       "169 4.7 no  no  no  good  no  no  0             \n",
       "170 5.3 no  no  no  good  no  no  0             \n",
       "171 6.1 no  no  no  good  no  no  0             \n",
       "172 5.9 no  no  no  good  no  no  0             \n",
       "173 4.8 no  no  no  good  no  no  0             \n",
       "174 5.4 no  no  no  good  no  no  0             \n",
       "175 5.0 no  no  no  good  no  no  0             \n",
       "176 5.5 no  no  no  good  no  no  0             \n",
       "177 4.9 no  no  no  good  no  no  0             \n",
       "178 5.6 no  no  no  good  no  no  0             \n",
       "179 5.2 no  no  no  good  no  no  0             \n",
       "180 4.8 no  no  no  good  no  no  0             \n",
       "181 5.5 no  no  no  good  no  no  0             \n",
       "182 5.7 no  no  no  good  no  no  0             \n",
       "183 4.9 no  no  no  good  no  no  0             \n",
       "184 5.9 no  no  no  good  no  no  0             \n",
       "185 5.0 no  no  no  good  no  no  0             \n",
       "186 4.5 no  no  no  good  no  no  0             \n",
       "187 5.1 no  no  no  good  no  no  0             \n",
       "188 5.2 no  no  no  good  no  no  0             \n",
       "189 5.8 no  no  no  good  no  no  0             \n",
       "190 5.3 no  no  no  good  no  no  0             \n",
       "191 5.5 no  no  no  good  no  no  0             \n",
       "192 5.4 no  no  no  good  no  no  0             \n",
       "193 4.6 no  no  no  good  no  no  0             \n",
       "194 6.2 no  no  no  good  no  no  0             \n",
       "195 5.4 no  no  no  good  no  no  0             \n",
       "196 5.9 no  no  no  good  no  no  0             \n",
       "197 6.1 no  no  no  good  no  no  0             "
      ]
     },
     "metadata": {},
     "output_type": "display_data"
    }
   ],
   "source": [
    "df"
   ]
  },
  {
   "cell_type": "code",
   "execution_count": 2,
   "metadata": {},
   "outputs": [
    {
     "data": {
      "text/html": [
       "<table>\n",
       "<caption>A matrix: 2 × 2 of type int</caption>\n",
       "<thead>\n",
       "\t<tr><th></th><th scope=col>Present</th><th scope=col>Not Present</th></tr>\n",
       "</thead>\n",
       "<tbody>\n",
       "\t<tr><th scope=row>abnormal</th><td>1</td><td>  7</td></tr>\n",
       "\t<tr><th scope=row>normal</th><td>2</td><td>187</td></tr>\n",
       "</tbody>\n",
       "</table>\n"
      ],
      "text/latex": [
       "A matrix: 2 × 2 of type int\n",
       "\\begin{tabular}{r|ll}\n",
       "  & Present & Not Present\\\\\n",
       "\\hline\n",
       "\tabnormal & 1 &   7\\\\\n",
       "\tnormal & 2 & 187\\\\\n",
       "\\end{tabular}\n"
      ],
      "text/markdown": [
       "\n",
       "A matrix: 2 × 2 of type int\n",
       "\n",
       "| <!--/--> | Present | Not Present |\n",
       "|---|---|---|\n",
       "| abnormal | 1 |   7 |\n",
       "| normal | 2 | 187 |\n",
       "\n"
      ],
      "text/plain": [
       "         Present Not Present\n",
       "abnormal 1         7        \n",
       "normal   2       187        "
      ]
     },
     "metadata": {},
     "output_type": "display_data"
    }
   ],
   "source": [
    "rbc_vs_ba = table(df$rbc, df$ba)\n",
    "rbc_vs_ba2 = cbind(rbc_vs_ba[,2],rbc_vs_ba[,1])\n",
    "colnames(rbc_vs_ba2) = c(\"Present\",\"Not Present\")\n",
    "rbc_vs_ba2"
   ]
  },
  {
   "cell_type": "code",
   "execution_count": 3,
   "metadata": {},
   "outputs": [
    {
     "data": {
      "text/html": [
       "11.8125"
      ],
      "text/latex": [
       "11.8125"
      ],
      "text/markdown": [
       "11.8125"
      ],
      "text/plain": [
       "[1] 11.8125"
      ]
     },
     "metadata": {},
     "output_type": "display_data"
    }
   ],
   "source": [
    "p1_abnormal_yes = 1/(7+1)\n",
    "p2_normal_yes = 2/(187+2)\n",
    "RR1 = p1_abnormal_yes/p2_normal_yes\n",
    "RR1"
   ]
  },
  {
   "cell_type": "code",
   "execution_count": 4,
   "metadata": {},
   "outputs": [
    {
     "data": {
      "text/html": [
       "13.3571428571429"
      ],
      "text/latex": [
       "13.3571428571429"
      ],
      "text/markdown": [
       "13.3571428571429"
      ],
      "text/plain": [
       "[1] 13.35714"
      ]
     },
     "metadata": {},
     "output_type": "display_data"
    }
   ],
   "source": [
    "q1_abnormal_yes = 1 - p1_abnormal_yes\n",
    "q2_normal_yes = 1 - p2_normal_yes\n",
    "OR1 = (p1_abnormal_yes*q2_normal_yes) / (p2_normal_yes*q1_abnormal_yes)\n",
    "OR1"
   ]
  },
  {
   "cell_type": "code",
   "execution_count": 5,
   "metadata": {},
   "outputs": [
    {
     "data": {
      "text/html": [
       "<table>\n",
       "<caption>A matrix: 2 × 2 of type int</caption>\n",
       "<thead>\n",
       "\t<tr><th></th><th scope=col>Yes</th><th scope=col>No</th></tr>\n",
       "</thead>\n",
       "<tbody>\n",
       "\t<tr><th scope=row>abnormal</th><td>  8</td><td>0</td></tr>\n",
       "\t<tr><th scope=row>normal</th><td>160</td><td>2</td></tr>\n",
       "</tbody>\n",
       "</table>\n"
      ],
      "text/latex": [
       "A matrix: 2 × 2 of type int\n",
       "\\begin{tabular}{r|ll}\n",
       "  & Yes & No\\\\\n",
       "\\hline\n",
       "\tabnormal &   8 & 0\\\\\n",
       "\tnormal & 160 & 2\\\\\n",
       "\\end{tabular}\n"
      ],
      "text/markdown": [
       "\n",
       "A matrix: 2 × 2 of type int\n",
       "\n",
       "| <!--/--> | Yes | No |\n",
       "|---|---|---|\n",
       "| abnormal |   8 | 0 |\n",
       "| normal | 160 | 2 |\n",
       "\n"
      ],
      "text/plain": [
       "         Yes No\n",
       "abnormal   8 0 \n",
       "normal   160 2 "
      ]
     },
     "metadata": {},
     "output_type": "display_data"
    }
   ],
   "source": [
    "pc_htn = table(df$pc, df$htn)\n",
    "pc_htn2 = cbind(pc_htn[,2],pc_htn[,1])\n",
    "colnames(pc_htn2) = c(\"Yes\",\"No\")\n",
    "pc_htn2"
   ]
  },
  {
   "cell_type": "code",
   "execution_count": 6,
   "metadata": {},
   "outputs": [
    {
     "data": {
      "text/html": [
       "1.0125"
      ],
      "text/latex": [
       "1.0125"
      ],
      "text/markdown": [
       "1.0125"
      ],
      "text/plain": [
       "[1] 1.0125"
      ]
     },
     "metadata": {},
     "output_type": "display_data"
    }
   ],
   "source": [
    "p1_abnormal_yes2 = 8/(8+0)\n",
    "p2_normal_yes2 = 160/(160+2)\n",
    "RR2 = p1_abnormal_yes2/p2_normal_yes2\n",
    "RR2"
   ]
  },
  {
   "cell_type": "code",
   "execution_count": 7,
   "metadata": {},
   "outputs": [
    {
     "data": {
      "text/html": [
       "0.0250000000000001"
      ],
      "text/latex": [
       "0.0250000000000001"
      ],
      "text/markdown": [
       "0.0250000000000001"
      ],
      "text/plain": [
       "[1] 0.025"
      ]
     },
     "metadata": {},
     "output_type": "display_data"
    }
   ],
   "source": [
    "q1_abnormal_yes2 = 1 - p1_abnormal_yes2 + 0.5 #Haldane Correction\n",
    "q2_normal_yes2 = 1 - p2_normal_yes2\n",
    "OR2 = (p1_abnormal_yes2*q2_normal_yes2) / (p2_normal_yes2*q1_abnormal_yes2)\n",
    "OR2"
   ]
  },
  {
   "cell_type": "code",
   "execution_count": 8,
   "metadata": {},
   "outputs": [
    {
     "data": {
      "text/html": [
       "<table>\n",
       "<caption>A matrix: 2 × 2 of type int</caption>\n",
       "<thead>\n",
       "\t<tr><th></th><th scope=col>Cad Yes</th><th scope=col> Cad No</th></tr>\n",
       "</thead>\n",
       "<tbody>\n",
       "\t<tr><th scope=row>dm No</th><td>2</td><td>173</td></tr>\n",
       "\t<tr><th scope=row>dm Yes</th><td>2</td><td> 20</td></tr>\n",
       "</tbody>\n",
       "</table>\n"
      ],
      "text/latex": [
       "A matrix: 2 × 2 of type int\n",
       "\\begin{tabular}{r|ll}\n",
       "  & Cad Yes &  Cad No\\\\\n",
       "\\hline\n",
       "\tdm No & 2 & 173\\\\\n",
       "\tdm Yes & 2 &  20\\\\\n",
       "\\end{tabular}\n"
      ],
      "text/markdown": [
       "\n",
       "A matrix: 2 × 2 of type int\n",
       "\n",
       "| <!--/--> | Cad Yes |  Cad No |\n",
       "|---|---|---|\n",
       "| dm No | 2 | 173 |\n",
       "| dm Yes | 2 |  20 |\n",
       "\n"
      ],
      "text/plain": [
       "       Cad Yes  Cad No\n",
       "dm No  2       173    \n",
       "dm Yes 2        20    "
      ]
     },
     "metadata": {},
     "output_type": "display_data"
    }
   ],
   "source": [
    "dm_cad = table(df$dm, df$cad)\n",
    "dm_cad2 = cbind(dm_cad[,2],dm_cad[,1])\n",
    "colnames(dm_cad2) = c(\"Cad Yes\",\" Cad No\")\n",
    "rownames(dm_cad2) = c(\"dm No\", \"dm Yes\")\n",
    "dm_cad2"
   ]
  },
  {
   "cell_type": "code",
   "execution_count": 9,
   "metadata": {},
   "outputs": [
    {
     "data": {
      "text/html": [
       "0.125714285714286"
      ],
      "text/latex": [
       "0.125714285714286"
      ],
      "text/markdown": [
       "0.125714285714286"
      ],
      "text/plain": [
       "[1] 0.1257143"
      ]
     },
     "metadata": {},
     "output_type": "display_data"
    }
   ],
   "source": [
    "p1_dmno_yes = 2/(2+173)\n",
    "p2_dmyes_yes = 2/(20+2)\n",
    "RR3 = p1_dmno_yes/p2_dmyes_yes\n",
    "RR3"
   ]
  },
  {
   "cell_type": "code",
   "execution_count": 10,
   "metadata": {},
   "outputs": [
    {
     "data": {
      "text/html": [
       "0.115606936416185"
      ],
      "text/latex": [
       "0.115606936416185"
      ],
      "text/markdown": [
       "0.115606936416185"
      ],
      "text/plain": [
       "[1] 0.1156069"
      ]
     },
     "metadata": {},
     "output_type": "display_data"
    }
   ],
   "source": [
    "q1_dmno_yes = 1 - p1_dmno_yes\n",
    "q2_dmyes_yes = 1 - p2_dmyes_yes\n",
    "OR3 = (p1_dmno_yes*q2_dmyes_yes) / (p2_dmyes_yes*q1_dmno_yes)\n",
    "OR3"
   ]
  },
  {
   "cell_type": "code",
   "execution_count": 11,
   "metadata": {},
   "outputs": [
    {
     "data": {
      "text/html": [
       "<table>\n",
       "<caption>A matrix: 2 × 2 of type int</caption>\n",
       "<thead>\n",
       "\t<tr><th></th><th scope=col>ane Yes</th><th scope=col> ane No</th></tr>\n",
       "</thead>\n",
       "<tbody>\n",
       "\t<tr><th scope=row>pe No</th><td>6</td><td>175</td></tr>\n",
       "\t<tr><th scope=row>pe Yes</th><td>3</td><td> 13</td></tr>\n",
       "</tbody>\n",
       "</table>\n"
      ],
      "text/latex": [
       "A matrix: 2 × 2 of type int\n",
       "\\begin{tabular}{r|ll}\n",
       "  & ane Yes &  ane No\\\\\n",
       "\\hline\n",
       "\tpe No & 6 & 175\\\\\n",
       "\tpe Yes & 3 &  13\\\\\n",
       "\\end{tabular}\n"
      ],
      "text/markdown": [
       "\n",
       "A matrix: 2 × 2 of type int\n",
       "\n",
       "| <!--/--> | ane Yes |  ane No |\n",
       "|---|---|---|\n",
       "| pe No | 6 | 175 |\n",
       "| pe Yes | 3 |  13 |\n",
       "\n"
      ],
      "text/plain": [
       "       ane Yes  ane No\n",
       "pe No  6       175    \n",
       "pe Yes 3        13    "
      ]
     },
     "metadata": {},
     "output_type": "display_data"
    }
   ],
   "source": [
    "pe_ane = table(df$pe, df$ane)\n",
    "pe_ane2 = cbind(pe_ane[,2],pe_ane[,1])\n",
    "colnames(pe_ane2) = c(\"ane Yes\",\" ane No\")\n",
    "rownames(pe_ane2) = c(\"pe No\", \"pe Yes\")\n",
    "pe_ane2"
   ]
  },
  {
   "cell_type": "code",
   "execution_count": 12,
   "metadata": {},
   "outputs": [
    {
     "data": {
      "text/html": [
       "0.176795580110497"
      ],
      "text/latex": [
       "0.176795580110497"
      ],
      "text/markdown": [
       "0.176795580110497"
      ],
      "text/plain": [
       "[1] 0.1767956"
      ]
     },
     "metadata": {},
     "output_type": "display_data"
    }
   ],
   "source": [
    "p1_peno_yes = 6/(6+175)\n",
    "p2_peyes_yes = 3/(3+13)\n",
    "RR4 = p1_peno_yes/p2_peyes_yes\n",
    "RR4"
   ]
  },
  {
   "cell_type": "code",
   "execution_count": 13,
   "metadata": {},
   "outputs": [
    {
     "data": {
      "text/html": [
       "0.148571428571429"
      ],
      "text/latex": [
       "0.148571428571429"
      ],
      "text/markdown": [
       "0.148571428571429"
      ],
      "text/plain": [
       "[1] 0.1485714"
      ]
     },
     "metadata": {},
     "output_type": "display_data"
    }
   ],
   "source": [
    "q1_peno_yes = 1 - p1_peno_yes\n",
    "q2_peyes_yes = 1 - p2_peyes_yes\n",
    "OR4 = (p1_peno_yes*q2_peyes_yes) / (p2_peyes_yes*q1_peno_yes)\n",
    "OR4"
   ]
  },
  {
   "cell_type": "code",
   "execution_count": 14,
   "metadata": {},
   "outputs": [
    {
     "data": {
      "text/html": [
       "<table>\n",
       "<caption>A matrix: 2 × 2 of type int</caption>\n",
       "<thead>\n",
       "\t<tr><th></th><th scope=col>Present</th><th scope=col>Not Present</th></tr>\n",
       "</thead>\n",
       "<tbody>\n",
       "\t<tr><th scope=row>appet Good</th><td>3</td><td>183</td></tr>\n",
       "\t<tr><th scope=row>appet Poor</th><td>0</td><td> 11</td></tr>\n",
       "</tbody>\n",
       "</table>\n"
      ],
      "text/latex": [
       "A matrix: 2 × 2 of type int\n",
       "\\begin{tabular}{r|ll}\n",
       "  & Present & Not Present\\\\\n",
       "\\hline\n",
       "\tappet Good & 3 & 183\\\\\n",
       "\tappet Poor & 0 &  11\\\\\n",
       "\\end{tabular}\n"
      ],
      "text/markdown": [
       "\n",
       "A matrix: 2 × 2 of type int\n",
       "\n",
       "| <!--/--> | Present | Not Present |\n",
       "|---|---|---|\n",
       "| appet Good | 3 | 183 |\n",
       "| appet Poor | 0 |  11 |\n",
       "\n"
      ],
      "text/plain": [
       "           Present Not Present\n",
       "appet Good 3       183        \n",
       "appet Poor 0        11        "
      ]
     },
     "metadata": {},
     "output_type": "display_data"
    }
   ],
   "source": [
    "ap_ba = table(df$appet, df$ba)\n",
    "ap_ba2 = cbind(ap_ba[,2],ap_ba[,1])\n",
    "colnames(ap_ba2) = c(\"Present\",\"Not Present\")\n",
    "rownames(ap_ba2) = c(\"appet Good\", \"appet Poor\")\n",
    "ap_ba2"
   ]
  },
  {
   "cell_type": "code",
   "execution_count": 15,
   "metadata": {},
   "outputs": [
    {
     "data": {
      "text/html": [
       "0.354838709677419"
      ],
      "text/latex": [
       "0.354838709677419"
      ],
      "text/markdown": [
       "0.354838709677419"
      ],
      "text/plain": [
       "[1] 0.3548387"
      ]
     },
     "metadata": {},
     "output_type": "display_data"
    }
   ],
   "source": [
    "p1_apg_yes = 3/(3+183)\n",
    "p2_app_yes = (0+0.5)/11 #Haldane Correction\n",
    "RR5 = p1_apg_yes/p2_app_yes\n",
    "RR5"
   ]
  },
  {
   "cell_type": "code",
   "execution_count": 16,
   "metadata": {},
   "outputs": [
    {
     "data": {
      "text/html": [
       "0.344262295081967"
      ],
      "text/latex": [
       "0.344262295081967"
      ],
      "text/markdown": [
       "0.344262295081967"
      ],
      "text/plain": [
       "[1] 0.3442623"
      ]
     },
     "metadata": {},
     "output_type": "display_data"
    }
   ],
   "source": [
    "q1_apg_yes = 1 - p1_apg_yes\n",
    "q2_app_yes = 1 - p2_app_yes\n",
    "OR5 = (p1_apg_yes*q2_app_yes) / (p2_app_yes*q1_apg_yes)\n",
    "OR5"
   ]
  },
  {
   "cell_type": "markdown",
   "metadata": {},
   "source": [
    "Analysis:\n",
    "\n",
    "The risk ratio tells us the strength of association between the two variables. The first risk ratio that was calculated was above 1. This means that people with abnormal red blood cells have a increased risk of having bacteria, relative to people with normal blood cells. The second risk ratio was slightly above 1. This meant that people with abnormal pus cells have a increased risk of having hypertension by 1 percent, relative to people with normal pus cells. On the other hand, the third and fourth risk ratios had values below 1. This meant that a lack of the Diabetes Mellitus condition decreased the risk of developing coronary heart disease by 88 percent, relative to people without the Diabetes Mellitus condition. Additionally, the ratios told us that the lack of pedal edema decreased the risk of developing anemia by 83 percent, relative to people who have pedal edema. The final risk ratio was below 1. This meant that a person with a good appetite decreased the risk of developing a bacteria by 65 percent, relative to people with bad appetites. \n",
    "\n",
    "Odds Ratios two, three, four and five were very low. There are lower odds of having hypertension and abnormal pus cells than having hypertension and normal pus cells. This meant that there is is a lower frequency of having coronary heart disease with the absense of the Diabetes Mellitus condition, than having coronary heart disease and the presence of the Diabetes Mellitus condition. The odds ratios stated that the frequency of not having pedal edema and developing anemia is smaller than having pedal edema and anemia. Additionally, the data says that there is a lower frequency of having bacteria with a good appetite than having bacteria with a bad appetite. Odds ratio One was above 1. This means that the odds of having bacteria present when there are abnormal blood cells occurs with a higher frequency than having bacteria with normal blood cells. In fact, it is 13 times more common.  "
   ]
  },
  {
   "cell_type": "code",
   "execution_count": 17,
   "metadata": {},
   "outputs": [
    {
     "name": "stdout",
     "output_type": "stream",
     "text": [
      "upper RR1:  1.191581  \n",
      "lower RR1:  117.1009"
     ]
    }
   ],
   "source": [
    "c_upper1 = exp(log(RR1) - 1.96*(sqrt((7/(1*8)) + (187/(2*189)))))\n",
    "c_lower1 = exp(log(RR1) + 1.96*(sqrt((7/(1*8)) + (187/(2*189)))))\n",
    "\n",
    "cat(\"upper RR1: \", c_upper1, \" \\n\")\n",
    "cat(\"lower RR1: \", c_lower1)"
   ]
  },
  {
   "cell_type": "code",
   "execution_count": 18,
   "metadata": {},
   "outputs": [
    {
     "name": "stdout",
     "output_type": "stream",
     "text": [
      "upper OR1:  1.078699  \n",
      "lower OR1:  165.3967"
     ]
    }
   ],
   "source": [
    "cor_upper1 = exp(log(OR1) - 1.96*(sqrt((1/7)+(1/1)+(1/187)+(1/2))))\n",
    "cor_lower1 = exp(log(OR1) + 1.96*(sqrt((1/7)+(1/1)+(1/187)+(1/2))))\n",
    "\n",
    "cat(\"upper OR1: \", cor_upper1, \" \\n\")\n",
    "cat(\"lower OR1: \", cor_lower1)"
   ]
  },
  {
   "cell_type": "code",
   "execution_count": 19,
   "metadata": {},
   "outputs": [
    {
     "name": "stdout",
     "output_type": "stream",
     "text": [
      "upper RR2:  0.9952171  \n",
      "lower RR2:  1.030083"
     ]
    }
   ],
   "source": [
    "c_upper2 = exp(log(RR2) - 1.96*(sqrt((0/(8*8)) + (2/(160*162)))))\n",
    "c_lower2 = exp(log(RR2) + 1.96*(sqrt((0/(8*8)) + (2/(160*162)))))\n",
    "\n",
    "cat(\"upper RR2: \", c_upper2, \" \\n\")\n",
    "cat(\"lower RR2: \", c_lower2)"
   ]
  },
  {
   "cell_type": "code",
   "execution_count": 20,
   "metadata": {},
   "outputs": [
    {
     "name": "stdout",
     "output_type": "stream",
     "text": [
      "upper OR2:  0.001423858  \n",
      "lower OR2:  0.4389483"
     ]
    }
   ],
   "source": [
    "cor_upper2 = exp(log(OR2) - 1.96*(sqrt((1/0.5)+(1/8)+(1/160)+(1/162))))\n",
    "cor_lower2 = exp(log(OR2) + 1.96*(sqrt((1/0.5)+(1/8)+(1/160)+(1/162))))\n",
    "\n",
    "cat(\"upper OR2: \", cor_upper2, \" \\n\")\n",
    "cat(\"lower OR2: \", cor_lower2)"
   ]
  },
  {
   "cell_type": "code",
   "execution_count": 21,
   "metadata": {},
   "outputs": [
    {
     "name": "stdout",
     "output_type": "stream",
     "text": [
      "upper RR3:  0.01863079  \n",
      "lower RR3:  0.8482775"
     ]
    }
   ],
   "source": [
    "c_upper3 = exp(log(RR3) - 1.96*(sqrt((173/(2*175)) + (20/(2*22)))))\n",
    "c_lower3 = exp(log(RR3) + 1.96*(sqrt((173/(2*175)) + (20/(2*22)))))\n",
    "\n",
    "cat(\"upper RR3: \", c_upper3, \" \\n\")\n",
    "cat(\"lower RR3: \", c_lower3)"
   ]
  },
  {
   "cell_type": "code",
   "execution_count": 22,
   "metadata": {},
   "outputs": [
    {
     "name": "stdout",
     "output_type": "stream",
     "text": [
      "upper OR3:  0.01542937  \n",
      "lower OR3:  0.8662027"
     ]
    }
   ],
   "source": [
    "cor_upper3 = exp(log(OR3) - 1.96*(sqrt((1/173)+(1/2)+(1/20)+(1/2))))\n",
    "cor_lower3 = exp(log(OR3) + 1.96*(sqrt((1/173)+(1/2)+(1/20)+(1/2))))\n",
    "\n",
    "cat(\"upper OR3: \", cor_upper3, \" \\n\")\n",
    "cat(\"lower OR3: \", cor_lower3)"
   ]
  },
  {
   "cell_type": "code",
   "execution_count": 23,
   "metadata": {},
   "outputs": [
    {
     "name": "stdout",
     "output_type": "stream",
     "text": [
      "upper RR4:  0.04455584  \n",
      "lower RR4:  0.701517"
     ]
    }
   ],
   "source": [
    "c_upper4 = exp(log(RR4) - 1.96*(sqrt((175/(6*181)) + (16/(3*16)))))\n",
    "c_lower4 = exp(log(RR4) + 1.96*(sqrt((175/(6*181)) + (16/(3*16)))))\n",
    "\n",
    "cat(\"upper RR4: \", c_upper4, \" \\n\")\n",
    "cat(\"lower RR4: \", c_lower4)"
   ]
  },
  {
   "cell_type": "code",
   "execution_count": 24,
   "metadata": {},
   "outputs": [
    {
     "name": "stdout",
     "output_type": "stream",
     "text": [
      "upper OR4:  0.03328092  \n",
      "lower OR4:  0.6632469"
     ]
    }
   ],
   "source": [
    "cor_upper4 = exp(log(OR4) - 1.96*(sqrt((1/175)+(1/6)+(1/13)+(1/3))))\n",
    "cor_lower4 = exp(log(OR4) + 1.96*(sqrt((1/175)+(1/6)+(1/13)+(1/3))))\n",
    "\n",
    "cat(\"upper OR4: \", cor_upper4, \" \\n\")\n",
    "cat(\"lower OR4: \", cor_lower4)"
   ]
  },
  {
   "cell_type": "code",
   "execution_count": 25,
   "metadata": {},
   "outputs": [
    {
     "name": "stdout",
     "output_type": "stream",
     "text": [
      "upper RR5:  0.02092624  \n",
      "lower RR5:  6.016873"
     ]
    }
   ],
   "source": [
    "c_upper5 = exp(log(RR5) - 1.96*(sqrt((183/(11*194)) + (3/(0.5*3))))) #Haldane Correction\n",
    "c_lower5 = exp(log(RR5) + 1.96*(sqrt((183/(11*194)) + (3/(0.5*3)))))\n",
    "\n",
    "cat(\"upper RR5: \", c_upper5, \" \\n\")\n",
    "cat(\"lower RR5: \", c_lower5)"
   ]
  },
  {
   "cell_type": "code",
   "execution_count": 26,
   "metadata": {},
   "outputs": [
    {
     "name": "stdout",
     "output_type": "stream",
     "text": [
      "upper OR5:  0.06647754  \n",
      "lower OR5:  29.9466"
     ]
    }
   ],
   "source": [
    "cor_upper5 = exp(OR5 - 1.96*(sqrt((1/183)+(1/11)+(1/3)+(1/0.5))))\n",
    "cor_lower5 = exp(OR5 + 1.96*(sqrt((1/183)+(1/11)+(1/3)+(1/0.5))))\n",
    "\n",
    "cat(\"upper OR5: \", cor_upper5, \" \\n\")\n",
    "cat(\"lower OR5: \", cor_lower5)"
   ]
  },
  {
   "cell_type": "markdown",
   "metadata": {},
   "source": [
    "The confidence intervals for RR2 and RR5 include 1. Therefore, we have to conclude that is no impact on risk when considering the comparison of each set of variables. The confidence intervals of the first, third, and fourth risk ratios do not include 1. Therefore, it is safe to say that the risk is actually impacted in these sets of comparisons between variables. The confidence interval for the fifth odds ratio includes 1. This means that the likelihood of those two conditions happening are the same. The other four odds ratios do not include 1. This means that the likelihood of the two conditions, within the set, happening are different. "
   ]
  },
  {
   "cell_type": "code",
   "execution_count": 9,
   "metadata": {},
   "outputs": [
    {
     "name": "stderr",
     "output_type": "stream",
     "text": [
      "also installing the dependencies ‘miniUI’, ‘classInt’, ‘labelled’, ‘combinat’, ‘questionr’\n",
      "\n",
      "\n"
     ]
    }
   ],
   "source": [
    "install.packages(\"Amelia\")\n",
    "install.packages(\"mice\")\n",
    "install.packages(\"klaR\")"
   ]
  },
  {
   "cell_type": "code",
   "execution_count": 10,
   "metadata": {},
   "outputs": [
    {
     "name": "stderr",
     "output_type": "stream",
     "text": [
      "Loading required package: Rcpp\n",
      "\n",
      "## \n",
      "## Amelia II: Multiple Imputation\n",
      "## (Version 1.7.6, built: 2019-11-24)\n",
      "## Copyright (C) 2005-2020 James Honaker, Gary King and Matthew Blackwell\n",
      "## Refer to http://gking.harvard.edu/amelia/ for more information\n",
      "## \n",
      "\n",
      "\n",
      "Attaching package: ‘mice’\n",
      "\n",
      "\n",
      "The following objects are masked from ‘package:base’:\n",
      "\n",
      "    cbind, rbind\n",
      "\n",
      "\n",
      "Loading required package: MASS\n",
      "\n",
      "\n",
      "Attaching package: ‘MASS’\n",
      "\n",
      "\n",
      "The following object is masked from ‘package:dplyr’:\n",
      "\n",
      "    select\n",
      "\n",
      "\n"
     ]
    }
   ],
   "source": [
    "library(tidyverse)\n",
    "library(ggplot2)\n",
    "library(caret)\n",
    "library(psych)\n",
    "library(rpart)\n",
    "library(randomForest)\n",
    "library(Amelia)\n",
    "library(mice)\n",
    "library(e1071)\n",
    "library(klaR)\n",
    "library(dplyr)\n",
    "\n",
    "library(caret)\n",
    "library(lattice)"
   ]
  },
  {
   "cell_type": "code",
   "execution_count": 17,
   "metadata": {},
   "outputs": [
    {
     "name": "stdout",
     "output_type": "stream",
     "text": [
      "'data.frame':\t197 obs. of  15 variables:\n",
      " $ age           : num  48 51 60 68 47 47 62 21 61 73 ...\n",
      " $ bp            : num  80 80 90 70 70 80 60 70 60 90 ...\n",
      " $ sg            : num  1.02 1.01 1.01 1.02 1.01 ...\n",
      " $ al            : num  1 2 3 0 2 0 1 0 0 3 ...\n",
      " $ su            : num  0 0 0 0 0 0 0 0 0 0 ...\n",
      " $ bgr           : num  121 106 74 98 99 114 100 99 108 107 ...\n",
      " $ bu            : num  36 26 25 86 46 87 31 46 75 33 ...\n",
      " $ sc            : num  1.2 1.4 1.1 4.6 2.2 5.2 1.6 1.2 1.9 1.5 ...\n",
      " $ sod           : num  135 135 142 135 138 139 135 135 141 141 ...\n",
      " $ pot           : num  3.5 3.5 3.2 3.4 4.1 3.7 3.5 3.5 5.2 4.6 ...\n",
      " $ hemo          : num  15.4 11.6 12.2 9.8 12.6 12.1 10.3 15 9.9 10.1 ...\n",
      " $ pcv           : int  44 35 39 41 41 41 30 41 29 30 ...\n",
      " $ wc            : int  7800 7300 7800 9800 9800 9800 5300 9800 8400 7800 ...\n",
      " $ rc            : num  5.2 4.6 4.4 5.2 5.2 5.2 3.7 5.2 3.7 4 ...\n",
      " $ classification: int  1 1 1 1 1 1 1 1 1 1 ...\n"
     ]
    }
   ],
   "source": [
    "df = read.csv(\"data1.csv\", header = T)\n",
    "str(df)"
   ]
  },
  {
   "cell_type": "code",
   "execution_count": 18,
   "metadata": {},
   "outputs": [
    {
     "data": {
      "text/plain": [
       "df\n",
       "       0        1 \n",
       "67.00508 32.99492 "
      ]
     },
     "metadata": {},
     "output_type": "display_data"
    }
   ],
   "source": [
    "set.seed(998)\n",
    "indxTrain <- createDataPartition(y = df$classification,p = 0.75,list = FALSE)\n",
    "training <- df[indxTrain,] \n",
    "testing <- df[-indxTrain,] \n",
    "\n",
    "df <- df$classification\n",
    "prop.table(table(df)) * 100"
   ]
  },
  {
   "cell_type": "code",
   "execution_count": 27,
   "metadata": {},
   "outputs": [
    {
     "data": {
      "text/html": [
       "<table>\n",
       "<caption>A data.frame: 148 × 14</caption>\n",
       "<thead>\n",
       "\t<tr><th></th><th scope=col>age</th><th scope=col>bp</th><th scope=col>sg</th><th scope=col>al</th><th scope=col>su</th><th scope=col>bgr</th><th scope=col>bu</th><th scope=col>sc</th><th scope=col>pot</th><th scope=col>hemo</th><th scope=col>pcv</th><th scope=col>wc</th><th scope=col>rc</th><th scope=col>classification</th></tr>\n",
       "\t<tr><th></th><th scope=col>&lt;dbl&gt;</th><th scope=col>&lt;dbl&gt;</th><th scope=col>&lt;dbl&gt;</th><th scope=col>&lt;dbl&gt;</th><th scope=col>&lt;dbl&gt;</th><th scope=col>&lt;dbl&gt;</th><th scope=col>&lt;dbl&gt;</th><th scope=col>&lt;dbl&gt;</th><th scope=col>&lt;dbl&gt;</th><th scope=col>&lt;dbl&gt;</th><th scope=col>&lt;int&gt;</th><th scope=col>&lt;int&gt;</th><th scope=col>&lt;dbl&gt;</th><th scope=col>&lt;int&gt;</th></tr>\n",
       "</thead>\n",
       "<tbody>\n",
       "\t<tr><th scope=row>1</th><td>48</td><td>80</td><td>1.020</td><td>1</td><td>0</td><td>121</td><td> 36</td><td>1.2</td><td>3.5</td><td>15.4</td><td>44</td><td> 7800</td><td>5.2</td><td>1</td></tr>\n",
       "\t<tr><th scope=row>2</th><td>51</td><td>80</td><td>1.010</td><td>2</td><td>0</td><td>106</td><td> 26</td><td>1.4</td><td>3.5</td><td>11.6</td><td>35</td><td> 7300</td><td>4.6</td><td>1</td></tr>\n",
       "\t<tr><th scope=row>3</th><td>60</td><td>90</td><td>1.015</td><td>3</td><td>0</td><td> 74</td><td> 25</td><td>1.1</td><td>3.2</td><td>12.2</td><td>39</td><td> 7800</td><td>4.4</td><td>1</td></tr>\n",
       "\t<tr><th scope=row>5</th><td>47</td><td>70</td><td>1.015</td><td>2</td><td>0</td><td> 99</td><td> 46</td><td>2.2</td><td>4.1</td><td>12.6</td><td>41</td><td> 9800</td><td>5.2</td><td>1</td></tr>\n",
       "\t<tr><th scope=row>6</th><td>47</td><td>80</td><td>1.020</td><td>0</td><td>0</td><td>114</td><td> 87</td><td>5.2</td><td>3.7</td><td>12.1</td><td>41</td><td> 9800</td><td>5.2</td><td>1</td></tr>\n",
       "\t<tr><th scope=row>7</th><td>62</td><td>60</td><td>1.015</td><td>1</td><td>0</td><td>100</td><td> 31</td><td>1.6</td><td>3.5</td><td>10.3</td><td>30</td><td> 5300</td><td>3.7</td><td>1</td></tr>\n",
       "\t<tr><th scope=row>10</th><td>73</td><td>90</td><td>1.015</td><td>3</td><td>0</td><td>107</td><td> 33</td><td>1.5</td><td>4.6</td><td>10.1</td><td>30</td><td> 7800</td><td>4.0</td><td>1</td></tr>\n",
       "\t<tr><th scope=row>11</th><td>76</td><td>70</td><td>1.015</td><td>1</td><td>0</td><td> 92</td><td> 29</td><td>1.8</td><td>3.9</td><td>10.3</td><td>32</td><td> 9800</td><td>5.2</td><td>1</td></tr>\n",
       "\t<tr><th scope=row>12</th><td>69</td><td>80</td><td>1.020</td><td>3</td><td>0</td><td> 99</td><td>103</td><td>4.1</td><td>5.9</td><td>12.5</td><td>41</td><td> 9800</td><td>5.2</td><td>1</td></tr>\n",
       "\t<tr><th scope=row>13</th><td>46</td><td>90</td><td>1.010</td><td>2</td><td>0</td><td> 99</td><td> 80</td><td>2.1</td><td>3.5</td><td>11.1</td><td>32</td><td> 9100</td><td>4.1</td><td>1</td></tr>\n",
       "\t<tr><th scope=row>15</th><td>48</td><td>70</td><td>1.015</td><td>0</td><td>0</td><td>124</td><td> 24</td><td>1.2</td><td>4.2</td><td>12.4</td><td>37</td><td> 6400</td><td>4.7</td><td>1</td></tr>\n",
       "\t<tr><th scope=row>16</th><td>11</td><td>80</td><td>1.010</td><td>3</td><td>0</td><td> 99</td><td> 17</td><td>0.8</td><td>3.5</td><td>15.0</td><td>45</td><td> 8600</td><td>5.2</td><td>1</td></tr>\n",
       "\t<tr><th scope=row>18</th><td>15</td><td>60</td><td>1.020</td><td>3</td><td>0</td><td> 86</td><td> 15</td><td>0.6</td><td>4.0</td><td>11.0</td><td>33</td><td> 7700</td><td>3.8</td><td>1</td></tr>\n",
       "\t<tr><th scope=row>19</th><td>44</td><td>90</td><td>1.010</td><td>1</td><td>0</td><td> 99</td><td> 20</td><td>1.1</td><td>3.5</td><td>15.0</td><td>48</td><td> 9800</td><td>5.2</td><td>1</td></tr>\n",
       "\t<tr><th scope=row>20</th><td>65</td><td>70</td><td>1.010</td><td>2</td><td>0</td><td>112</td><td> 73</td><td>3.3</td><td>3.5</td><td>10.9</td><td>37</td><td> 9800</td><td>5.2</td><td>1</td></tr>\n",
       "\t<tr><th scope=row>21</th><td>67</td><td>70</td><td>1.010</td><td>1</td><td>0</td><td>102</td><td> 48</td><td>3.2</td><td>5.0</td><td>11.9</td><td>34</td><td> 7100</td><td>3.7</td><td>1</td></tr>\n",
       "\t<tr><th scope=row>23</th><td>38</td><td>70</td><td>1.020</td><td>0</td><td>0</td><td>104</td><td> 77</td><td>1.9</td><td>3.9</td><td>15.0</td><td>41</td><td> 9800</td><td>5.2</td><td>1</td></tr>\n",
       "\t<tr><th scope=row>24</th><td>48</td><td>70</td><td>1.015</td><td>1</td><td>0</td><td>127</td><td> 19</td><td>1.0</td><td>3.6</td><td>15.0</td><td>41</td><td> 9800</td><td>5.2</td><td>1</td></tr>\n",
       "\t<tr><th scope=row>25</th><td>70</td><td>70</td><td>1.015</td><td>2</td><td>0</td><td> 99</td><td> 46</td><td>1.5</td><td>3.5</td><td> 9.9</td><td>41</td><td> 9800</td><td>5.2</td><td>1</td></tr>\n",
       "\t<tr><th scope=row>26</th><td>50</td><td>70</td><td>1.020</td><td>0</td><td>0</td><td>109</td><td> 32</td><td>1.4</td><td>4.7</td><td>15.0</td><td>41</td><td> 9800</td><td>5.2</td><td>1</td></tr>\n",
       "\t<tr><th scope=row>28</th><td>62</td><td>90</td><td>1.015</td><td>1</td><td>0</td><td> 94</td><td> 25</td><td>1.1</td><td>3.7</td><td>15.0</td><td>41</td><td> 9800</td><td>5.2</td><td>1</td></tr>\n",
       "\t<tr><th scope=row>29</th><td>65</td><td>60</td><td>1.015</td><td>1</td><td>0</td><td> 91</td><td> 51</td><td>2.2</td><td>3.8</td><td>10.0</td><td>32</td><td> 9100</td><td>4.0</td><td>1</td></tr>\n",
       "\t<tr><th scope=row>30</th><td>71</td><td>90</td><td>1.015</td><td>2</td><td>0</td><td> 88</td><td> 80</td><td>4.4</td><td>5.7</td><td>11.3</td><td>33</td><td>10700</td><td>3.9</td><td>1</td></tr>\n",
       "\t<tr><th scope=row>31</th><td>17</td><td>60</td><td>1.010</td><td>0</td><td>0</td><td> 92</td><td> 32</td><td>2.1</td><td>4.2</td><td>13.9</td><td>52</td><td> 7000</td><td>5.2</td><td>1</td></tr>\n",
       "\t<tr><th scope=row>32</th><td>45</td><td>80</td><td>1.015</td><td>0</td><td>0</td><td>107</td><td> 15</td><td>1.0</td><td>4.2</td><td>11.8</td><td>37</td><td>10200</td><td>4.2</td><td>1</td></tr>\n",
       "\t<tr><th scope=row>33</th><td>63</td><td>90</td><td>1.015</td><td>0</td><td>0</td><td>123</td><td> 19</td><td>2.0</td><td>3.8</td><td>11.7</td><td>34</td><td>11400</td><td>4.7</td><td>1</td></tr>\n",
       "\t<tr><th scope=row>34</th><td>60</td><td>60</td><td>1.015</td><td>3</td><td>0</td><td> 99</td><td> 34</td><td>1.2</td><td>3.5</td><td>10.8</td><td>33</td><td> 9800</td><td>5.2</td><td>1</td></tr>\n",
       "\t<tr><th scope=row>35</th><td>12</td><td>60</td><td>1.015</td><td>3</td><td>0</td><td> 99</td><td> 51</td><td>1.8</td><td>3.5</td><td>12.1</td><td>41</td><td>10300</td><td>5.2</td><td>1</td></tr>\n",
       "\t<tr><th scope=row>36</th><td>47</td><td>80</td><td>1.010</td><td>0</td><td>0</td><td> 99</td><td> 28</td><td>0.9</td><td>3.5</td><td>12.4</td><td>44</td><td> 5600</td><td>4.3</td><td>1</td></tr>\n",
       "\t<tr><th scope=row>37</th><td>60</td><td>70</td><td>1.015</td><td>4</td><td>0</td><td>104</td><td> 16</td><td>0.5</td><td>3.5</td><td>15.0</td><td>41</td><td> 9800</td><td>5.2</td><td>1</td></tr>\n",
       "\t<tr><th scope=row>⋮</th><td>⋮</td><td>⋮</td><td>⋮</td><td>⋮</td><td>⋮</td><td>⋮</td><td>⋮</td><td>⋮</td><td>⋮</td><td>⋮</td><td>⋮</td><td>⋮</td><td>⋮</td><td>⋮</td></tr>\n",
       "\t<tr><th scope=row>152</th><td>33</td><td>60</td><td>1.020</td><td>0</td><td>0</td><td>130</td><td>41</td><td>0.9</td><td>4.4</td><td>15.5</td><td>52</td><td> 4300</td><td>5.8</td><td>0</td></tr>\n",
       "\t<tr><th scope=row>154</th><td>35</td><td>70</td><td>1.025</td><td>0</td><td>0</td><td> 82</td><td>36</td><td>1.1</td><td>3.5</td><td>14.5</td><td>52</td><td> 9400</td><td>6.1</td><td>0</td></tr>\n",
       "\t<tr><th scope=row>156</th><td>29</td><td>80</td><td>1.020</td><td>0</td><td>0</td><td> 83</td><td>49</td><td>0.9</td><td>3.3</td><td>17.5</td><td>40</td><td> 9900</td><td>4.7</td><td>0</td></tr>\n",
       "\t<tr><th scope=row>157</th><td>37</td><td>60</td><td>1.020</td><td>0</td><td>0</td><td>109</td><td>47</td><td>1.1</td><td>4.9</td><td>15.0</td><td>48</td><td> 7000</td><td>5.2</td><td>0</td></tr>\n",
       "\t<tr><th scope=row>158</th><td>39</td><td>60</td><td>1.020</td><td>0</td><td>0</td><td> 86</td><td>37</td><td>0.6</td><td>5.0</td><td>13.6</td><td>51</td><td> 5800</td><td>4.5</td><td>0</td></tr>\n",
       "\t<tr><th scope=row>159</th><td>32</td><td>60</td><td>1.025</td><td>0</td><td>0</td><td>102</td><td>17</td><td>0.4</td><td>4.7</td><td>14.6</td><td>41</td><td> 6800</td><td>5.1</td><td>0</td></tr>\n",
       "\t<tr><th scope=row>160</th><td>23</td><td>60</td><td>1.020</td><td>0</td><td>0</td><td> 95</td><td>24</td><td>0.8</td><td>5.0</td><td>15.0</td><td>52</td><td> 6300</td><td>4.6</td><td>0</td></tr>\n",
       "\t<tr><th scope=row>163</th><td>47</td><td>60</td><td>1.020</td><td>0</td><td>0</td><td>117</td><td>22</td><td>1.2</td><td>3.5</td><td>13.0</td><td>45</td><td> 5200</td><td>5.6</td><td>0</td></tr>\n",
       "\t<tr><th scope=row>164</th><td>74</td><td>60</td><td>1.020</td><td>0</td><td>0</td><td> 88</td><td>50</td><td>0.6</td><td>3.7</td><td>17.2</td><td>53</td><td> 6000</td><td>4.5</td><td>0</td></tr>\n",
       "\t<tr><th scope=row>165</th><td>35</td><td>60</td><td>1.025</td><td>0</td><td>0</td><td>105</td><td>39</td><td>0.5</td><td>3.9</td><td>14.7</td><td>43</td><td> 5800</td><td>6.2</td><td>0</td></tr>\n",
       "\t<tr><th scope=row>169</th><td>73</td><td>80</td><td>1.025</td><td>0</td><td>0</td><td>118</td><td>44</td><td>0.7</td><td>3.5</td><td>14.8</td><td>45</td><td> 9300</td><td>4.7</td><td>0</td></tr>\n",
       "\t<tr><th scope=row>170</th><td>60</td><td>80</td><td>1.025</td><td>0</td><td>0</td><td> 81</td><td>15</td><td>0.5</td><td>3.6</td><td>15.0</td><td>46</td><td>10500</td><td>5.3</td><td>0</td></tr>\n",
       "\t<tr><th scope=row>172</th><td>30</td><td>80</td><td>1.025</td><td>0</td><td>0</td><td> 82</td><td>42</td><td>0.7</td><td>5.0</td><td>14.9</td><td>45</td><td> 9400</td><td>5.9</td><td>0</td></tr>\n",
       "\t<tr><th scope=row>173</th><td>75</td><td>70</td><td>1.020</td><td>0</td><td>0</td><td>107</td><td>48</td><td>0.8</td><td>3.5</td><td>13.6</td><td>46</td><td>10300</td><td>4.8</td><td>0</td></tr>\n",
       "\t<tr><th scope=row>174</th><td>69</td><td>70</td><td>1.020</td><td>0</td><td>0</td><td> 83</td><td>42</td><td>1.2</td><td>3.7</td><td>16.2</td><td>50</td><td> 9300</td><td>5.4</td><td>0</td></tr>\n",
       "\t<tr><th scope=row>176</th><td>72</td><td>60</td><td>1.020</td><td>0</td><td>0</td><td>109</td><td>26</td><td>0.9</td><td>4.9</td><td>15.0</td><td>52</td><td>10500</td><td>5.5</td><td>0</td></tr>\n",
       "\t<tr><th scope=row>180</th><td>64</td><td>70</td><td>1.020</td><td>0</td><td>0</td><td> 97</td><td>27</td><td>0.7</td><td>4.8</td><td>13.8</td><td>49</td><td> 6400</td><td>4.8</td><td>0</td></tr>\n",
       "\t<tr><th scope=row>182</th><td>62</td><td>80</td><td>1.025</td><td>0</td><td>0</td><td> 78</td><td>45</td><td>0.6</td><td>3.5</td><td>16.1</td><td>50</td><td> 5400</td><td>5.7</td><td>0</td></tr>\n",
       "\t<tr><th scope=row>183</th><td>59</td><td>60</td><td>1.020</td><td>0</td><td>0</td><td>113</td><td>23</td><td>1.1</td><td>3.5</td><td>15.3</td><td>54</td><td> 6500</td><td>4.9</td><td>0</td></tr>\n",
       "\t<tr><th scope=row>184</th><td>71</td><td>70</td><td>1.025</td><td>0</td><td>0</td><td> 79</td><td>47</td><td>0.5</td><td>4.8</td><td>16.6</td><td>40</td><td> 5800</td><td>5.9</td><td>0</td></tr>\n",
       "\t<tr><th scope=row>185</th><td>80</td><td>80</td><td>1.025</td><td>0</td><td>0</td><td>119</td><td>46</td><td>0.7</td><td>4.9</td><td>13.9</td><td>49</td><td> 5100</td><td>5.0</td><td>0</td></tr>\n",
       "\t<tr><th scope=row>187</th><td>63</td><td>70</td><td>1.020</td><td>0</td><td>0</td><td>113</td><td>25</td><td>0.6</td><td>4.9</td><td>16.5</td><td>52</td><td> 8000</td><td>5.1</td><td>0</td></tr>\n",
       "\t<tr><th scope=row>188</th><td>15</td><td>80</td><td>1.025</td><td>0</td><td>0</td><td> 93</td><td>17</td><td>0.9</td><td>3.9</td><td>16.7</td><td>50</td><td> 6200</td><td>5.2</td><td>0</td></tr>\n",
       "\t<tr><th scope=row>190</th><td>52</td><td>80</td><td>1.025</td><td>0</td><td>0</td><td> 99</td><td>25</td><td>0.8</td><td>3.7</td><td>15.0</td><td>52</td><td> 6300</td><td>5.3</td><td>0</td></tr>\n",
       "\t<tr><th scope=row>192</th><td>43</td><td>60</td><td>1.025</td><td>0</td><td>0</td><td>117</td><td>45</td><td>0.7</td><td>4.4</td><td>13.0</td><td>54</td><td> 7400</td><td>5.4</td><td>0</td></tr>\n",
       "\t<tr><th scope=row>193</th><td>50</td><td>80</td><td>1.020</td><td>0</td><td>0</td><td>137</td><td>46</td><td>0.8</td><td>5.0</td><td>14.1</td><td>45</td><td> 9500</td><td>4.6</td><td>0</td></tr>\n",
       "\t<tr><th scope=row>194</th><td>42</td><td>70</td><td>1.025</td><td>0</td><td>0</td><td> 75</td><td>31</td><td>1.2</td><td>3.5</td><td>16.5</td><td>54</td><td> 7800</td><td>6.2</td><td>0</td></tr>\n",
       "\t<tr><th scope=row>195</th><td>12</td><td>80</td><td>1.020</td><td>0</td><td>0</td><td>100</td><td>26</td><td>0.6</td><td>4.4</td><td>15.8</td><td>49</td><td> 6600</td><td>5.4</td><td>0</td></tr>\n",
       "\t<tr><th scope=row>196</th><td>17</td><td>60</td><td>1.025</td><td>0</td><td>0</td><td>114</td><td>50</td><td>1.0</td><td>4.9</td><td>14.2</td><td>51</td><td> 7200</td><td>5.9</td><td>0</td></tr>\n",
       "\t<tr><th scope=row>197</th><td>58</td><td>80</td><td>1.025</td><td>0</td><td>0</td><td>131</td><td>18</td><td>1.1</td><td>3.5</td><td>15.8</td><td>53</td><td> 6800</td><td>6.1</td><td>0</td></tr>\n",
       "</tbody>\n",
       "</table>\n"
      ],
      "text/latex": [
       "A data.frame: 148 × 14\n",
       "\\begin{tabular}{r|llllllllllllll}\n",
       "  & age & bp & sg & al & su & bgr & bu & sc & pot & hemo & pcv & wc & rc & classification\\\\\n",
       "  & <dbl> & <dbl> & <dbl> & <dbl> & <dbl> & <dbl> & <dbl> & <dbl> & <dbl> & <dbl> & <int> & <int> & <dbl> & <int>\\\\\n",
       "\\hline\n",
       "\t1 & 48 & 80 & 1.020 & 1 & 0 & 121 &  36 & 1.2 & 3.5 & 15.4 & 44 &  7800 & 5.2 & 1\\\\\n",
       "\t2 & 51 & 80 & 1.010 & 2 & 0 & 106 &  26 & 1.4 & 3.5 & 11.6 & 35 &  7300 & 4.6 & 1\\\\\n",
       "\t3 & 60 & 90 & 1.015 & 3 & 0 &  74 &  25 & 1.1 & 3.2 & 12.2 & 39 &  7800 & 4.4 & 1\\\\\n",
       "\t5 & 47 & 70 & 1.015 & 2 & 0 &  99 &  46 & 2.2 & 4.1 & 12.6 & 41 &  9800 & 5.2 & 1\\\\\n",
       "\t6 & 47 & 80 & 1.020 & 0 & 0 & 114 &  87 & 5.2 & 3.7 & 12.1 & 41 &  9800 & 5.2 & 1\\\\\n",
       "\t7 & 62 & 60 & 1.015 & 1 & 0 & 100 &  31 & 1.6 & 3.5 & 10.3 & 30 &  5300 & 3.7 & 1\\\\\n",
       "\t10 & 73 & 90 & 1.015 & 3 & 0 & 107 &  33 & 1.5 & 4.6 & 10.1 & 30 &  7800 & 4.0 & 1\\\\\n",
       "\t11 & 76 & 70 & 1.015 & 1 & 0 &  92 &  29 & 1.8 & 3.9 & 10.3 & 32 &  9800 & 5.2 & 1\\\\\n",
       "\t12 & 69 & 80 & 1.020 & 3 & 0 &  99 & 103 & 4.1 & 5.9 & 12.5 & 41 &  9800 & 5.2 & 1\\\\\n",
       "\t13 & 46 & 90 & 1.010 & 2 & 0 &  99 &  80 & 2.1 & 3.5 & 11.1 & 32 &  9100 & 4.1 & 1\\\\\n",
       "\t15 & 48 & 70 & 1.015 & 0 & 0 & 124 &  24 & 1.2 & 4.2 & 12.4 & 37 &  6400 & 4.7 & 1\\\\\n",
       "\t16 & 11 & 80 & 1.010 & 3 & 0 &  99 &  17 & 0.8 & 3.5 & 15.0 & 45 &  8600 & 5.2 & 1\\\\\n",
       "\t18 & 15 & 60 & 1.020 & 3 & 0 &  86 &  15 & 0.6 & 4.0 & 11.0 & 33 &  7700 & 3.8 & 1\\\\\n",
       "\t19 & 44 & 90 & 1.010 & 1 & 0 &  99 &  20 & 1.1 & 3.5 & 15.0 & 48 &  9800 & 5.2 & 1\\\\\n",
       "\t20 & 65 & 70 & 1.010 & 2 & 0 & 112 &  73 & 3.3 & 3.5 & 10.9 & 37 &  9800 & 5.2 & 1\\\\\n",
       "\t21 & 67 & 70 & 1.010 & 1 & 0 & 102 &  48 & 3.2 & 5.0 & 11.9 & 34 &  7100 & 3.7 & 1\\\\\n",
       "\t23 & 38 & 70 & 1.020 & 0 & 0 & 104 &  77 & 1.9 & 3.9 & 15.0 & 41 &  9800 & 5.2 & 1\\\\\n",
       "\t24 & 48 & 70 & 1.015 & 1 & 0 & 127 &  19 & 1.0 & 3.6 & 15.0 & 41 &  9800 & 5.2 & 1\\\\\n",
       "\t25 & 70 & 70 & 1.015 & 2 & 0 &  99 &  46 & 1.5 & 3.5 &  9.9 & 41 &  9800 & 5.2 & 1\\\\\n",
       "\t26 & 50 & 70 & 1.020 & 0 & 0 & 109 &  32 & 1.4 & 4.7 & 15.0 & 41 &  9800 & 5.2 & 1\\\\\n",
       "\t28 & 62 & 90 & 1.015 & 1 & 0 &  94 &  25 & 1.1 & 3.7 & 15.0 & 41 &  9800 & 5.2 & 1\\\\\n",
       "\t29 & 65 & 60 & 1.015 & 1 & 0 &  91 &  51 & 2.2 & 3.8 & 10.0 & 32 &  9100 & 4.0 & 1\\\\\n",
       "\t30 & 71 & 90 & 1.015 & 2 & 0 &  88 &  80 & 4.4 & 5.7 & 11.3 & 33 & 10700 & 3.9 & 1\\\\\n",
       "\t31 & 17 & 60 & 1.010 & 0 & 0 &  92 &  32 & 2.1 & 4.2 & 13.9 & 52 &  7000 & 5.2 & 1\\\\\n",
       "\t32 & 45 & 80 & 1.015 & 0 & 0 & 107 &  15 & 1.0 & 4.2 & 11.8 & 37 & 10200 & 4.2 & 1\\\\\n",
       "\t33 & 63 & 90 & 1.015 & 0 & 0 & 123 &  19 & 2.0 & 3.8 & 11.7 & 34 & 11400 & 4.7 & 1\\\\\n",
       "\t34 & 60 & 60 & 1.015 & 3 & 0 &  99 &  34 & 1.2 & 3.5 & 10.8 & 33 &  9800 & 5.2 & 1\\\\\n",
       "\t35 & 12 & 60 & 1.015 & 3 & 0 &  99 &  51 & 1.8 & 3.5 & 12.1 & 41 & 10300 & 5.2 & 1\\\\\n",
       "\t36 & 47 & 80 & 1.010 & 0 & 0 &  99 &  28 & 0.9 & 3.5 & 12.4 & 44 &  5600 & 4.3 & 1\\\\\n",
       "\t37 & 60 & 70 & 1.015 & 4 & 0 & 104 &  16 & 0.5 & 3.5 & 15.0 & 41 &  9800 & 5.2 & 1\\\\\n",
       "\t⋮ & ⋮ & ⋮ & ⋮ & ⋮ & ⋮ & ⋮ & ⋮ & ⋮ & ⋮ & ⋮ & ⋮ & ⋮ & ⋮ & ⋮\\\\\n",
       "\t152 & 33 & 60 & 1.020 & 0 & 0 & 130 & 41 & 0.9 & 4.4 & 15.5 & 52 &  4300 & 5.8 & 0\\\\\n",
       "\t154 & 35 & 70 & 1.025 & 0 & 0 &  82 & 36 & 1.1 & 3.5 & 14.5 & 52 &  9400 & 6.1 & 0\\\\\n",
       "\t156 & 29 & 80 & 1.020 & 0 & 0 &  83 & 49 & 0.9 & 3.3 & 17.5 & 40 &  9900 & 4.7 & 0\\\\\n",
       "\t157 & 37 & 60 & 1.020 & 0 & 0 & 109 & 47 & 1.1 & 4.9 & 15.0 & 48 &  7000 & 5.2 & 0\\\\\n",
       "\t158 & 39 & 60 & 1.020 & 0 & 0 &  86 & 37 & 0.6 & 5.0 & 13.6 & 51 &  5800 & 4.5 & 0\\\\\n",
       "\t159 & 32 & 60 & 1.025 & 0 & 0 & 102 & 17 & 0.4 & 4.7 & 14.6 & 41 &  6800 & 5.1 & 0\\\\\n",
       "\t160 & 23 & 60 & 1.020 & 0 & 0 &  95 & 24 & 0.8 & 5.0 & 15.0 & 52 &  6300 & 4.6 & 0\\\\\n",
       "\t163 & 47 & 60 & 1.020 & 0 & 0 & 117 & 22 & 1.2 & 3.5 & 13.0 & 45 &  5200 & 5.6 & 0\\\\\n",
       "\t164 & 74 & 60 & 1.020 & 0 & 0 &  88 & 50 & 0.6 & 3.7 & 17.2 & 53 &  6000 & 4.5 & 0\\\\\n",
       "\t165 & 35 & 60 & 1.025 & 0 & 0 & 105 & 39 & 0.5 & 3.9 & 14.7 & 43 &  5800 & 6.2 & 0\\\\\n",
       "\t169 & 73 & 80 & 1.025 & 0 & 0 & 118 & 44 & 0.7 & 3.5 & 14.8 & 45 &  9300 & 4.7 & 0\\\\\n",
       "\t170 & 60 & 80 & 1.025 & 0 & 0 &  81 & 15 & 0.5 & 3.6 & 15.0 & 46 & 10500 & 5.3 & 0\\\\\n",
       "\t172 & 30 & 80 & 1.025 & 0 & 0 &  82 & 42 & 0.7 & 5.0 & 14.9 & 45 &  9400 & 5.9 & 0\\\\\n",
       "\t173 & 75 & 70 & 1.020 & 0 & 0 & 107 & 48 & 0.8 & 3.5 & 13.6 & 46 & 10300 & 4.8 & 0\\\\\n",
       "\t174 & 69 & 70 & 1.020 & 0 & 0 &  83 & 42 & 1.2 & 3.7 & 16.2 & 50 &  9300 & 5.4 & 0\\\\\n",
       "\t176 & 72 & 60 & 1.020 & 0 & 0 & 109 & 26 & 0.9 & 4.9 & 15.0 & 52 & 10500 & 5.5 & 0\\\\\n",
       "\t180 & 64 & 70 & 1.020 & 0 & 0 &  97 & 27 & 0.7 & 4.8 & 13.8 & 49 &  6400 & 4.8 & 0\\\\\n",
       "\t182 & 62 & 80 & 1.025 & 0 & 0 &  78 & 45 & 0.6 & 3.5 & 16.1 & 50 &  5400 & 5.7 & 0\\\\\n",
       "\t183 & 59 & 60 & 1.020 & 0 & 0 & 113 & 23 & 1.1 & 3.5 & 15.3 & 54 &  6500 & 4.9 & 0\\\\\n",
       "\t184 & 71 & 70 & 1.025 & 0 & 0 &  79 & 47 & 0.5 & 4.8 & 16.6 & 40 &  5800 & 5.9 & 0\\\\\n",
       "\t185 & 80 & 80 & 1.025 & 0 & 0 & 119 & 46 & 0.7 & 4.9 & 13.9 & 49 &  5100 & 5.0 & 0\\\\\n",
       "\t187 & 63 & 70 & 1.020 & 0 & 0 & 113 & 25 & 0.6 & 4.9 & 16.5 & 52 &  8000 & 5.1 & 0\\\\\n",
       "\t188 & 15 & 80 & 1.025 & 0 & 0 &  93 & 17 & 0.9 & 3.9 & 16.7 & 50 &  6200 & 5.2 & 0\\\\\n",
       "\t190 & 52 & 80 & 1.025 & 0 & 0 &  99 & 25 & 0.8 & 3.7 & 15.0 & 52 &  6300 & 5.3 & 0\\\\\n",
       "\t192 & 43 & 60 & 1.025 & 0 & 0 & 117 & 45 & 0.7 & 4.4 & 13.0 & 54 &  7400 & 5.4 & 0\\\\\n",
       "\t193 & 50 & 80 & 1.020 & 0 & 0 & 137 & 46 & 0.8 & 5.0 & 14.1 & 45 &  9500 & 4.6 & 0\\\\\n",
       "\t194 & 42 & 70 & 1.025 & 0 & 0 &  75 & 31 & 1.2 & 3.5 & 16.5 & 54 &  7800 & 6.2 & 0\\\\\n",
       "\t195 & 12 & 80 & 1.020 & 0 & 0 & 100 & 26 & 0.6 & 4.4 & 15.8 & 49 &  6600 & 5.4 & 0\\\\\n",
       "\t196 & 17 & 60 & 1.025 & 0 & 0 & 114 & 50 & 1.0 & 4.9 & 14.2 & 51 &  7200 & 5.9 & 0\\\\\n",
       "\t197 & 58 & 80 & 1.025 & 0 & 0 & 131 & 18 & 1.1 & 3.5 & 15.8 & 53 &  6800 & 6.1 & 0\\\\\n",
       "\\end{tabular}\n"
      ],
      "text/markdown": [
       "\n",
       "A data.frame: 148 × 14\n",
       "\n",
       "| <!--/--> | age &lt;dbl&gt; | bp &lt;dbl&gt; | sg &lt;dbl&gt; | al &lt;dbl&gt; | su &lt;dbl&gt; | bgr &lt;dbl&gt; | bu &lt;dbl&gt; | sc &lt;dbl&gt; | pot &lt;dbl&gt; | hemo &lt;dbl&gt; | pcv &lt;int&gt; | wc &lt;int&gt; | rc &lt;dbl&gt; | classification &lt;int&gt; |\n",
       "|---|---|---|---|---|---|---|---|---|---|---|---|---|---|---|\n",
       "| 1 | 48 | 80 | 1.020 | 1 | 0 | 121 |  36 | 1.2 | 3.5 | 15.4 | 44 |  7800 | 5.2 | 1 |\n",
       "| 2 | 51 | 80 | 1.010 | 2 | 0 | 106 |  26 | 1.4 | 3.5 | 11.6 | 35 |  7300 | 4.6 | 1 |\n",
       "| 3 | 60 | 90 | 1.015 | 3 | 0 |  74 |  25 | 1.1 | 3.2 | 12.2 | 39 |  7800 | 4.4 | 1 |\n",
       "| 5 | 47 | 70 | 1.015 | 2 | 0 |  99 |  46 | 2.2 | 4.1 | 12.6 | 41 |  9800 | 5.2 | 1 |\n",
       "| 6 | 47 | 80 | 1.020 | 0 | 0 | 114 |  87 | 5.2 | 3.7 | 12.1 | 41 |  9800 | 5.2 | 1 |\n",
       "| 7 | 62 | 60 | 1.015 | 1 | 0 | 100 |  31 | 1.6 | 3.5 | 10.3 | 30 |  5300 | 3.7 | 1 |\n",
       "| 10 | 73 | 90 | 1.015 | 3 | 0 | 107 |  33 | 1.5 | 4.6 | 10.1 | 30 |  7800 | 4.0 | 1 |\n",
       "| 11 | 76 | 70 | 1.015 | 1 | 0 |  92 |  29 | 1.8 | 3.9 | 10.3 | 32 |  9800 | 5.2 | 1 |\n",
       "| 12 | 69 | 80 | 1.020 | 3 | 0 |  99 | 103 | 4.1 | 5.9 | 12.5 | 41 |  9800 | 5.2 | 1 |\n",
       "| 13 | 46 | 90 | 1.010 | 2 | 0 |  99 |  80 | 2.1 | 3.5 | 11.1 | 32 |  9100 | 4.1 | 1 |\n",
       "| 15 | 48 | 70 | 1.015 | 0 | 0 | 124 |  24 | 1.2 | 4.2 | 12.4 | 37 |  6400 | 4.7 | 1 |\n",
       "| 16 | 11 | 80 | 1.010 | 3 | 0 |  99 |  17 | 0.8 | 3.5 | 15.0 | 45 |  8600 | 5.2 | 1 |\n",
       "| 18 | 15 | 60 | 1.020 | 3 | 0 |  86 |  15 | 0.6 | 4.0 | 11.0 | 33 |  7700 | 3.8 | 1 |\n",
       "| 19 | 44 | 90 | 1.010 | 1 | 0 |  99 |  20 | 1.1 | 3.5 | 15.0 | 48 |  9800 | 5.2 | 1 |\n",
       "| 20 | 65 | 70 | 1.010 | 2 | 0 | 112 |  73 | 3.3 | 3.5 | 10.9 | 37 |  9800 | 5.2 | 1 |\n",
       "| 21 | 67 | 70 | 1.010 | 1 | 0 | 102 |  48 | 3.2 | 5.0 | 11.9 | 34 |  7100 | 3.7 | 1 |\n",
       "| 23 | 38 | 70 | 1.020 | 0 | 0 | 104 |  77 | 1.9 | 3.9 | 15.0 | 41 |  9800 | 5.2 | 1 |\n",
       "| 24 | 48 | 70 | 1.015 | 1 | 0 | 127 |  19 | 1.0 | 3.6 | 15.0 | 41 |  9800 | 5.2 | 1 |\n",
       "| 25 | 70 | 70 | 1.015 | 2 | 0 |  99 |  46 | 1.5 | 3.5 |  9.9 | 41 |  9800 | 5.2 | 1 |\n",
       "| 26 | 50 | 70 | 1.020 | 0 | 0 | 109 |  32 | 1.4 | 4.7 | 15.0 | 41 |  9800 | 5.2 | 1 |\n",
       "| 28 | 62 | 90 | 1.015 | 1 | 0 |  94 |  25 | 1.1 | 3.7 | 15.0 | 41 |  9800 | 5.2 | 1 |\n",
       "| 29 | 65 | 60 | 1.015 | 1 | 0 |  91 |  51 | 2.2 | 3.8 | 10.0 | 32 |  9100 | 4.0 | 1 |\n",
       "| 30 | 71 | 90 | 1.015 | 2 | 0 |  88 |  80 | 4.4 | 5.7 | 11.3 | 33 | 10700 | 3.9 | 1 |\n",
       "| 31 | 17 | 60 | 1.010 | 0 | 0 |  92 |  32 | 2.1 | 4.2 | 13.9 | 52 |  7000 | 5.2 | 1 |\n",
       "| 32 | 45 | 80 | 1.015 | 0 | 0 | 107 |  15 | 1.0 | 4.2 | 11.8 | 37 | 10200 | 4.2 | 1 |\n",
       "| 33 | 63 | 90 | 1.015 | 0 | 0 | 123 |  19 | 2.0 | 3.8 | 11.7 | 34 | 11400 | 4.7 | 1 |\n",
       "| 34 | 60 | 60 | 1.015 | 3 | 0 |  99 |  34 | 1.2 | 3.5 | 10.8 | 33 |  9800 | 5.2 | 1 |\n",
       "| 35 | 12 | 60 | 1.015 | 3 | 0 |  99 |  51 | 1.8 | 3.5 | 12.1 | 41 | 10300 | 5.2 | 1 |\n",
       "| 36 | 47 | 80 | 1.010 | 0 | 0 |  99 |  28 | 0.9 | 3.5 | 12.4 | 44 |  5600 | 4.3 | 1 |\n",
       "| 37 | 60 | 70 | 1.015 | 4 | 0 | 104 |  16 | 0.5 | 3.5 | 15.0 | 41 |  9800 | 5.2 | 1 |\n",
       "| ⋮ | ⋮ | ⋮ | ⋮ | ⋮ | ⋮ | ⋮ | ⋮ | ⋮ | ⋮ | ⋮ | ⋮ | ⋮ | ⋮ | ⋮ |\n",
       "| 152 | 33 | 60 | 1.020 | 0 | 0 | 130 | 41 | 0.9 | 4.4 | 15.5 | 52 |  4300 | 5.8 | 0 |\n",
       "| 154 | 35 | 70 | 1.025 | 0 | 0 |  82 | 36 | 1.1 | 3.5 | 14.5 | 52 |  9400 | 6.1 | 0 |\n",
       "| 156 | 29 | 80 | 1.020 | 0 | 0 |  83 | 49 | 0.9 | 3.3 | 17.5 | 40 |  9900 | 4.7 | 0 |\n",
       "| 157 | 37 | 60 | 1.020 | 0 | 0 | 109 | 47 | 1.1 | 4.9 | 15.0 | 48 |  7000 | 5.2 | 0 |\n",
       "| 158 | 39 | 60 | 1.020 | 0 | 0 |  86 | 37 | 0.6 | 5.0 | 13.6 | 51 |  5800 | 4.5 | 0 |\n",
       "| 159 | 32 | 60 | 1.025 | 0 | 0 | 102 | 17 | 0.4 | 4.7 | 14.6 | 41 |  6800 | 5.1 | 0 |\n",
       "| 160 | 23 | 60 | 1.020 | 0 | 0 |  95 | 24 | 0.8 | 5.0 | 15.0 | 52 |  6300 | 4.6 | 0 |\n",
       "| 163 | 47 | 60 | 1.020 | 0 | 0 | 117 | 22 | 1.2 | 3.5 | 13.0 | 45 |  5200 | 5.6 | 0 |\n",
       "| 164 | 74 | 60 | 1.020 | 0 | 0 |  88 | 50 | 0.6 | 3.7 | 17.2 | 53 |  6000 | 4.5 | 0 |\n",
       "| 165 | 35 | 60 | 1.025 | 0 | 0 | 105 | 39 | 0.5 | 3.9 | 14.7 | 43 |  5800 | 6.2 | 0 |\n",
       "| 169 | 73 | 80 | 1.025 | 0 | 0 | 118 | 44 | 0.7 | 3.5 | 14.8 | 45 |  9300 | 4.7 | 0 |\n",
       "| 170 | 60 | 80 | 1.025 | 0 | 0 |  81 | 15 | 0.5 | 3.6 | 15.0 | 46 | 10500 | 5.3 | 0 |\n",
       "| 172 | 30 | 80 | 1.025 | 0 | 0 |  82 | 42 | 0.7 | 5.0 | 14.9 | 45 |  9400 | 5.9 | 0 |\n",
       "| 173 | 75 | 70 | 1.020 | 0 | 0 | 107 | 48 | 0.8 | 3.5 | 13.6 | 46 | 10300 | 4.8 | 0 |\n",
       "| 174 | 69 | 70 | 1.020 | 0 | 0 |  83 | 42 | 1.2 | 3.7 | 16.2 | 50 |  9300 | 5.4 | 0 |\n",
       "| 176 | 72 | 60 | 1.020 | 0 | 0 | 109 | 26 | 0.9 | 4.9 | 15.0 | 52 | 10500 | 5.5 | 0 |\n",
       "| 180 | 64 | 70 | 1.020 | 0 | 0 |  97 | 27 | 0.7 | 4.8 | 13.8 | 49 |  6400 | 4.8 | 0 |\n",
       "| 182 | 62 | 80 | 1.025 | 0 | 0 |  78 | 45 | 0.6 | 3.5 | 16.1 | 50 |  5400 | 5.7 | 0 |\n",
       "| 183 | 59 | 60 | 1.020 | 0 | 0 | 113 | 23 | 1.1 | 3.5 | 15.3 | 54 |  6500 | 4.9 | 0 |\n",
       "| 184 | 71 | 70 | 1.025 | 0 | 0 |  79 | 47 | 0.5 | 4.8 | 16.6 | 40 |  5800 | 5.9 | 0 |\n",
       "| 185 | 80 | 80 | 1.025 | 0 | 0 | 119 | 46 | 0.7 | 4.9 | 13.9 | 49 |  5100 | 5.0 | 0 |\n",
       "| 187 | 63 | 70 | 1.020 | 0 | 0 | 113 | 25 | 0.6 | 4.9 | 16.5 | 52 |  8000 | 5.1 | 0 |\n",
       "| 188 | 15 | 80 | 1.025 | 0 | 0 |  93 | 17 | 0.9 | 3.9 | 16.7 | 50 |  6200 | 5.2 | 0 |\n",
       "| 190 | 52 | 80 | 1.025 | 0 | 0 |  99 | 25 | 0.8 | 3.7 | 15.0 | 52 |  6300 | 5.3 | 0 |\n",
       "| 192 | 43 | 60 | 1.025 | 0 | 0 | 117 | 45 | 0.7 | 4.4 | 13.0 | 54 |  7400 | 5.4 | 0 |\n",
       "| 193 | 50 | 80 | 1.020 | 0 | 0 | 137 | 46 | 0.8 | 5.0 | 14.1 | 45 |  9500 | 4.6 | 0 |\n",
       "| 194 | 42 | 70 | 1.025 | 0 | 0 |  75 | 31 | 1.2 | 3.5 | 16.5 | 54 |  7800 | 6.2 | 0 |\n",
       "| 195 | 12 | 80 | 1.020 | 0 | 0 | 100 | 26 | 0.6 | 4.4 | 15.8 | 49 |  6600 | 5.4 | 0 |\n",
       "| 196 | 17 | 60 | 1.025 | 0 | 0 | 114 | 50 | 1.0 | 4.9 | 14.2 | 51 |  7200 | 5.9 | 0 |\n",
       "| 197 | 58 | 80 | 1.025 | 0 | 0 | 131 | 18 | 1.1 | 3.5 | 15.8 | 53 |  6800 | 6.1 | 0 |\n",
       "\n"
      ],
      "text/plain": [
       "    age bp sg    al su bgr bu  sc  pot hemo pcv wc    rc  classification\n",
       "1   48  80 1.020 1  0  121  36 1.2 3.5 15.4 44   7800 5.2 1             \n",
       "2   51  80 1.010 2  0  106  26 1.4 3.5 11.6 35   7300 4.6 1             \n",
       "3   60  90 1.015 3  0   74  25 1.1 3.2 12.2 39   7800 4.4 1             \n",
       "5   47  70 1.015 2  0   99  46 2.2 4.1 12.6 41   9800 5.2 1             \n",
       "6   47  80 1.020 0  0  114  87 5.2 3.7 12.1 41   9800 5.2 1             \n",
       "7   62  60 1.015 1  0  100  31 1.6 3.5 10.3 30   5300 3.7 1             \n",
       "10  73  90 1.015 3  0  107  33 1.5 4.6 10.1 30   7800 4.0 1             \n",
       "11  76  70 1.015 1  0   92  29 1.8 3.9 10.3 32   9800 5.2 1             \n",
       "12  69  80 1.020 3  0   99 103 4.1 5.9 12.5 41   9800 5.2 1             \n",
       "13  46  90 1.010 2  0   99  80 2.1 3.5 11.1 32   9100 4.1 1             \n",
       "15  48  70 1.015 0  0  124  24 1.2 4.2 12.4 37   6400 4.7 1             \n",
       "16  11  80 1.010 3  0   99  17 0.8 3.5 15.0 45   8600 5.2 1             \n",
       "18  15  60 1.020 3  0   86  15 0.6 4.0 11.0 33   7700 3.8 1             \n",
       "19  44  90 1.010 1  0   99  20 1.1 3.5 15.0 48   9800 5.2 1             \n",
       "20  65  70 1.010 2  0  112  73 3.3 3.5 10.9 37   9800 5.2 1             \n",
       "21  67  70 1.010 1  0  102  48 3.2 5.0 11.9 34   7100 3.7 1             \n",
       "23  38  70 1.020 0  0  104  77 1.9 3.9 15.0 41   9800 5.2 1             \n",
       "24  48  70 1.015 1  0  127  19 1.0 3.6 15.0 41   9800 5.2 1             \n",
       "25  70  70 1.015 2  0   99  46 1.5 3.5  9.9 41   9800 5.2 1             \n",
       "26  50  70 1.020 0  0  109  32 1.4 4.7 15.0 41   9800 5.2 1             \n",
       "28  62  90 1.015 1  0   94  25 1.1 3.7 15.0 41   9800 5.2 1             \n",
       "29  65  60 1.015 1  0   91  51 2.2 3.8 10.0 32   9100 4.0 1             \n",
       "30  71  90 1.015 2  0   88  80 4.4 5.7 11.3 33  10700 3.9 1             \n",
       "31  17  60 1.010 0  0   92  32 2.1 4.2 13.9 52   7000 5.2 1             \n",
       "32  45  80 1.015 0  0  107  15 1.0 4.2 11.8 37  10200 4.2 1             \n",
       "33  63  90 1.015 0  0  123  19 2.0 3.8 11.7 34  11400 4.7 1             \n",
       "34  60  60 1.015 3  0   99  34 1.2 3.5 10.8 33   9800 5.2 1             \n",
       "35  12  60 1.015 3  0   99  51 1.8 3.5 12.1 41  10300 5.2 1             \n",
       "36  47  80 1.010 0  0   99  28 0.9 3.5 12.4 44   5600 4.3 1             \n",
       "37  60  70 1.015 4  0  104  16 0.5 3.5 15.0 41   9800 5.2 1             \n",
       "⋮   ⋮   ⋮  ⋮     ⋮  ⋮  ⋮   ⋮   ⋮   ⋮   ⋮    ⋮   ⋮     ⋮   ⋮             \n",
       "152 33  60 1.020 0  0  130 41  0.9 4.4 15.5 52   4300 5.8 0             \n",
       "154 35  70 1.025 0  0   82 36  1.1 3.5 14.5 52   9400 6.1 0             \n",
       "156 29  80 1.020 0  0   83 49  0.9 3.3 17.5 40   9900 4.7 0             \n",
       "157 37  60 1.020 0  0  109 47  1.1 4.9 15.0 48   7000 5.2 0             \n",
       "158 39  60 1.020 0  0   86 37  0.6 5.0 13.6 51   5800 4.5 0             \n",
       "159 32  60 1.025 0  0  102 17  0.4 4.7 14.6 41   6800 5.1 0             \n",
       "160 23  60 1.020 0  0   95 24  0.8 5.0 15.0 52   6300 4.6 0             \n",
       "163 47  60 1.020 0  0  117 22  1.2 3.5 13.0 45   5200 5.6 0             \n",
       "164 74  60 1.020 0  0   88 50  0.6 3.7 17.2 53   6000 4.5 0             \n",
       "165 35  60 1.025 0  0  105 39  0.5 3.9 14.7 43   5800 6.2 0             \n",
       "169 73  80 1.025 0  0  118 44  0.7 3.5 14.8 45   9300 4.7 0             \n",
       "170 60  80 1.025 0  0   81 15  0.5 3.6 15.0 46  10500 5.3 0             \n",
       "172 30  80 1.025 0  0   82 42  0.7 5.0 14.9 45   9400 5.9 0             \n",
       "173 75  70 1.020 0  0  107 48  0.8 3.5 13.6 46  10300 4.8 0             \n",
       "174 69  70 1.020 0  0   83 42  1.2 3.7 16.2 50   9300 5.4 0             \n",
       "176 72  60 1.020 0  0  109 26  0.9 4.9 15.0 52  10500 5.5 0             \n",
       "180 64  70 1.020 0  0   97 27  0.7 4.8 13.8 49   6400 4.8 0             \n",
       "182 62  80 1.025 0  0   78 45  0.6 3.5 16.1 50   5400 5.7 0             \n",
       "183 59  60 1.020 0  0  113 23  1.1 3.5 15.3 54   6500 4.9 0             \n",
       "184 71  70 1.025 0  0   79 47  0.5 4.8 16.6 40   5800 5.9 0             \n",
       "185 80  80 1.025 0  0  119 46  0.7 4.9 13.9 49   5100 5.0 0             \n",
       "187 63  70 1.020 0  0  113 25  0.6 4.9 16.5 52   8000 5.1 0             \n",
       "188 15  80 1.025 0  0   93 17  0.9 3.9 16.7 50   6200 5.2 0             \n",
       "190 52  80 1.025 0  0   99 25  0.8 3.7 15.0 52   6300 5.3 0             \n",
       "192 43  60 1.025 0  0  117 45  0.7 4.4 13.0 54   7400 5.4 0             \n",
       "193 50  80 1.020 0  0  137 46  0.8 5.0 14.1 45   9500 4.6 0             \n",
       "194 42  70 1.025 0  0   75 31  1.2 3.5 16.5 54   7800 6.2 0             \n",
       "195 12  80 1.020 0  0  100 26  0.6 4.4 15.8 49   6600 5.4 0             \n",
       "196 17  60 1.025 0  0  114 50  1.0 4.9 14.2 51   7200 5.9 0             \n",
       "197 58  80 1.025 0  0  131 18  1.1 3.5 15.8 53   6800 6.1 0             "
      ]
     },
     "metadata": {},
     "output_type": "display_data"
    }
   ],
   "source": [
    "training[,-9]"
   ]
  },
  {
   "cell_type": "code",
   "execution_count": 19,
   "metadata": {},
   "outputs": [
    {
     "data": {
      "text/plain": [
       "\n",
       "       0        1 \n",
       "63.51351 36.48649 "
      ]
     },
     "metadata": {},
     "output_type": "display_data"
    }
   ],
   "source": [
    "prop.table(table(training$classification)) * 100"
   ]
  },
  {
   "cell_type": "code",
   "execution_count": 20,
   "metadata": {},
   "outputs": [
    {
     "data": {
      "text/plain": [
       "\n",
       "       0        1 \n",
       "77.55102 22.44898 "
      ]
     },
     "metadata": {},
     "output_type": "display_data"
    }
   ],
   "source": [
    "prop.table(table(testing$classification)) * 100"
   ]
  },
  {
   "cell_type": "code",
   "execution_count": 23,
   "metadata": {},
   "outputs": [],
   "source": [
    "install.packages(\"naivebayes\")"
   ]
  },
  {
   "cell_type": "code",
   "execution_count": 24,
   "metadata": {},
   "outputs": [
    {
     "data": {
      "text/plain": [
       "Confusion Matrix and Statistics\n",
       "\n",
       "          Reference\n",
       "Prediction  0  1\n",
       "         0 38  0\n",
       "         1  0 11\n",
       "                                     \n",
       "               Accuracy : 1          \n",
       "                 95% CI : (0.9275, 1)\n",
       "    No Information Rate : 0.7755     \n",
       "    P-Value [Acc > NIR] : 3.889e-06  \n",
       "                                     \n",
       "                  Kappa : 1          \n",
       "                                     \n",
       " Mcnemar's Test P-Value : NA         \n",
       "                                     \n",
       "            Sensitivity : 1.0000     \n",
       "            Specificity : 1.0000     \n",
       "         Pos Pred Value : 1.0000     \n",
       "         Neg Pred Value : 1.0000     \n",
       "             Prevalence : 0.7755     \n",
       "         Detection Rate : 0.7755     \n",
       "   Detection Prevalence : 0.7755     \n",
       "      Balanced Accuracy : 1.0000     \n",
       "                                     \n",
       "       'Positive' Class : 0          \n",
       "                                     "
      ]
     },
     "metadata": {},
     "output_type": "display_data"
    }
   ],
   "source": [
    "x = training[,-9]\n",
    "y = training$classification\n",
    "y = as.factor(y)\n",
    "z = testing$classification\n",
    "z = as.factor(z)\n",
    "\n",
    "model = train(x,y,'naive_bayes',trControl=trainControl(method='cv',number=10))\n",
    "\n",
    "Predict <- predict(model,newdata = testing)\n",
    "\n",
    "confusionMatrix(Predict, z)"
   ]
  },
  {
   "cell_type": "code",
   "execution_count": 25,
   "metadata": {},
   "outputs": [
    {
     "data": {
      "image/png": "[encoded data removed]",
      "text/plain": [
       "plot without title"
      ]
     },
     "metadata": {
      "image/png": {
       "height": 420,
       "width": 420
      },
      "text/plain": {
       "height": 420,
       "width": 420
      }
     },
     "output_type": "display_data"
    }
   ],
   "source": [
    "X <- varImp(model)\n",
    "plot(X)"
   ]
  },
  {
   "cell_type": "markdown",
   "metadata": {},
   "source": [
    "Write a short paragraph of analysis of your results.\n",
    "67 percent of the entire data set had a classification of not having chronic kidney disease (notckd). The porportion for the classification of not having chronic kidney disease decreased in the training data. The training data had 63.5% of its data points have the classification of not having chronic kidney disease (notckd). The porportion of not having chronic kidney diseases was highest for the testing data. The testing data had 77.55% of its data points not have chronic kidney disease. \n",
    "The confusion matrix told us that the model did not predict any false negatives or false positives. The accuracy is 1, which suggests that the model perfectly predicts the outcome of classification. The 95% confidence interval contains the value of 1, and does not drop below 0.9275. This result suggests that the model is a good predictor of classification. The accuracy is higher than the no information rate calculation, which means that the model is better than blindly predicting the dominant class every time. The variables that were most important for the model were specific gravity(sg), packed cell volume(pcv), and serum creatinine (sc). These three variables had values around 80 for importance. The variables that were the least important were blood glucose random (bgr), blood pressure (bp), and blood urea (bu). All of these variables had values below 20 for importance. "
   ]
  }
 ],
 "metadata": {
  "kernelspec": {
   "display_name": "R",
   "language": "R",
   "name": "ir"
  },
  "language_info": {
   "codemirror_mode": "r",
   "file_extension": ".r",
   "mimetype": "text/x-r-source",
   "name": "R",
   "pygments_lexer": "r",
   "version": "3.6.2"
  }
 },
 "nbformat": 4,
 "nbformat_minor": 4
}
