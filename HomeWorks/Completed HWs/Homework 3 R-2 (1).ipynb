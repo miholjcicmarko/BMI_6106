{
 "cells": [
  {
   "cell_type": "code",
   "execution_count": 3,
   "metadata": {},
   "outputs": [
    {
     "name": "stdout",
     "output_type": "stream",
     "text": [
      "'data.frame':\t197 obs. of  26 variables:\n",
      " $ id            : int  0 4 5 13 16 17 19 23 25 31 ...\n",
      " $ age           : num  48 51 60 68 47 47 62 21 61 73 ...\n",
      " $ bp            : num  80 80 90 70 70 80 60 70 60 90 ...\n",
      " $ sg            : num  1.02 1.01 1.01 1.02 1.01 ...\n",
      " $ al            : num  1 2 3 0 2 0 1 0 0 3 ...\n",
      " $ su            : num  0 0 0 0 0 0 0 0 0 0 ...\n",
      " $ rbc           : Factor w/ 2 levels \"abnormal\",\"normal\": 2 2 2 2 2 2 2 2 2 2 ...\n",
      " $ pc            : Factor w/ 2 levels \"abnormal\",\"normal\": 2 2 2 2 2 2 1 2 2 1 ...\n",
      " $ pcc           : Factor w/ 2 levels \"notpresent\",\"present\": 1 1 1 1 1 1 2 1 1 2 ...\n",
      " $ ba            : Factor w/ 2 levels \"notpresent\",\"present\": 1 1 1 1 1 1 1 1 1 1 ...\n",
      " $ bgr           : num  121 106 74 98 99 114 100 99 108 107 ...\n",
      " $ bu            : num  36 26 25 86 46 87 31 46 75 33 ...\n",
      " $ sc            : num  1.2 1.4 1.1 4.6 2.2 5.2 1.6 1.2 1.9 1.5 ...\n",
      " $ sod           : num  135 135 142 135 138 139 135 135 141 141 ...\n",
      " $ pot           : num  3.5 3.5 3.2 3.4 4.1 3.7 3.5 3.5 5.2 4.6 ...\n",
      " $ hemo          : num  15.4 11.6 12.2 9.8 12.6 12.1 10.3 15 9.9 10.1 ...\n",
      " $ pcv           : int  44 35 39 41 41 41 30 41 29 30 ...\n",
      " $ wc            : int  7800 7300 7800 9800 9800 9800 5300 9800 8400 7800 ...\n",
      " $ rc            : num  5.2 4.6 4.4 5.2 5.2 5.2 3.7 5.2 3.7 4 ...\n",
      " $ htn           : Factor w/ 3 levels \"\",\"no\",\"yes\": 3 2 3 3 2 3 3 2 3 2 ...\n",
      " $ dm            : Factor w/ 2 levels \"no\",\"yes\": 2 1 2 2 1 1 1 1 2 1 ...\n",
      " $ cad           : Factor w/ 2 levels \"no\",\"yes\": 1 1 1 2 1 1 2 1 1 1 ...\n",
      " $ appet         : Factor w/ 2 levels \"good\",\"poor\": 1 1 1 2 1 2 1 2 1 2 ...\n",
      " $ pe            : Factor w/ 2 levels \"no\",\"yes\": 1 1 2 2 1 1 1 1 1 1 ...\n",
      " $ ane           : Factor w/ 2 levels \"no\",\"yes\": 1 1 1 1 1 1 1 2 2 1 ...\n",
      " $ classification: int  1 1 1 1 1 1 1 1 1 1 ...\n"
     ]
    }
   ],
   "source": [
    "df = read.csv(\"/Users/markomiholjcic/Documents/BMI_6106/HomeWorks/HomeWork_3/data.csv\", header = T)\n",
    "str(df)"
   ]
  },
  {
   "cell_type": "code",
   "execution_count": 4,
   "metadata": {},
   "outputs": [
    {
     "data": {
      "text/html": [
       "<table>\n",
       "<caption>A matrix: 2 × 2 of type int</caption>\n",
       "<thead>\n",
       "\t<tr><th></th><th scope=col>Present</th><th scope=col>Not Present</th></tr>\n",
       "</thead>\n",
       "<tbody>\n",
       "\t<tr><th scope=row>abnormal</th><td>1</td><td>  7</td></tr>\n",
       "\t<tr><th scope=row>normal</th><td>2</td><td>187</td></tr>\n",
       "</tbody>\n",
       "</table>\n"
      ],
      "text/latex": [
       "A matrix: 2 × 2 of type int\n",
       "\\begin{tabular}{r|ll}\n",
       "  & Present & Not Present\\\\\n",
       "\\hline\n",
       "\tabnormal & 1 &   7\\\\\n",
       "\tnormal & 2 & 187\\\\\n",
       "\\end{tabular}\n"
      ],
      "text/markdown": [
       "\n",
       "A matrix: 2 × 2 of type int\n",
       "\n",
       "| <!--/--> | Present | Not Present |\n",
       "|---|---|---|\n",
       "| abnormal | 1 |   7 |\n",
       "| normal | 2 | 187 |\n",
       "\n"
      ],
      "text/plain": [
       "         Present Not Present\n",
       "abnormal 1         7        \n",
       "normal   2       187        "
      ]
     },
     "metadata": {},
     "output_type": "display_data"
    }
   ],
   "source": [
    "rbc_vs_ba = table(df$rbc, df$ba)\n",
    "rbc_vs_ba2 = cbind(rbc_vs_ba[,2],rbc_vs_ba[,1])\n",
    "colnames(rbc_vs_ba2) = c(\"Present\",\"Not Present\")\n",
    "rbc_vs_ba2"
   ]
  },
  {
   "cell_type": "code",
   "execution_count": 5,
   "metadata": {},
   "outputs": [
    {
     "data": {
      "text/html": [
       "11.8125"
      ],
      "text/latex": [
       "11.8125"
      ],
      "text/markdown": [
       "11.8125"
      ],
      "text/plain": [
       "[1] 11.8125"
      ]
     },
     "metadata": {},
     "output_type": "display_data"
    }
   ],
   "source": [
    "p1_abnormal_yes = 1/(7+1)\n",
    "p2_normal_yes = 2/(187+2)\n",
    "RR1 = p1_abnormal_yes/p2_normal_yes\n",
    "RR1"
   ]
  },
  {
   "cell_type": "code",
   "execution_count": 4,
   "metadata": {},
   "outputs": [
    {
     "data": {
      "text/html": [
       "13.3571428571429"
      ],
      "text/latex": [
       "13.3571428571429"
      ],
      "text/markdown": [
       "13.3571428571429"
      ],
      "text/plain": [
       "[1] 13.35714"
      ]
     },
     "metadata": {},
     "output_type": "display_data"
    }
   ],
   "source": [
    "q1_abnormal_yes = 1 - p1_abnormal_yes\n",
    "q2_normal_yes = 1 - p2_normal_yes\n",
    "OR1 = (p1_abnormal_yes*q2_normal_yes) / (p2_normal_yes*q1_abnormal_yes)\n",
    "OR1"
   ]
  },
  {
   "cell_type": "code",
   "execution_count": 5,
   "metadata": {},
   "outputs": [
    {
     "data": {
      "text/html": [
       "<table>\n",
       "<caption>A matrix: 2 × 2 of type int</caption>\n",
       "<thead>\n",
       "\t<tr><th></th><th scope=col>Yes</th><th scope=col>No</th></tr>\n",
       "</thead>\n",
       "<tbody>\n",
       "\t<tr><th scope=row>abnormal</th><td>  8</td><td>0</td></tr>\n",
       "\t<tr><th scope=row>normal</th><td>160</td><td>2</td></tr>\n",
       "</tbody>\n",
       "</table>\n"
      ],
      "text/latex": [
       "A matrix: 2 × 2 of type int\n",
       "\\begin{tabular}{r|ll}\n",
       "  & Yes & No\\\\\n",
       "\\hline\n",
       "\tabnormal &   8 & 0\\\\\n",
       "\tnormal & 160 & 2\\\\\n",
       "\\end{tabular}\n"
      ],
      "text/markdown": [
       "\n",
       "A matrix: 2 × 2 of type int\n",
       "\n",
       "| <!--/--> | Yes | No |\n",
       "|---|---|---|\n",
       "| abnormal |   8 | 0 |\n",
       "| normal | 160 | 2 |\n",
       "\n"
      ],
      "text/plain": [
       "         Yes No\n",
       "abnormal   8 0 \n",
       "normal   160 2 "
      ]
     },
     "metadata": {},
     "output_type": "display_data"
    }
   ],
   "source": [
    "pc_htn = table(df$pc, df$htn)\n",
    "pc_htn2 = cbind(pc_htn[,2],pc_htn[,1])\n",
    "colnames(pc_htn2) = c(\"Yes\",\"No\")\n",
    "pc_htn2"
   ]
  },
  {
   "cell_type": "code",
   "execution_count": 6,
   "metadata": {},
   "outputs": [
    {
     "data": {
      "text/html": [
       "1.0125"
      ],
      "text/latex": [
       "1.0125"
      ],
      "text/markdown": [
       "1.0125"
      ],
      "text/plain": [
       "[1] 1.0125"
      ]
     },
     "metadata": {},
     "output_type": "display_data"
    }
   ],
   "source": [
    "p1_abnormal_yes2 = 8/(8+0)\n",
    "p2_normal_yes2 = 160/(160+2)\n",
    "RR2 = p1_abnormal_yes2/p2_normal_yes2\n",
    "RR2"
   ]
  },
  {
   "cell_type": "code",
   "execution_count": 7,
   "metadata": {},
   "outputs": [
    {
     "data": {
      "text/html": [
       "0.0250000000000001"
      ],
      "text/latex": [
       "0.0250000000000001"
      ],
      "text/markdown": [
       "0.0250000000000001"
      ],
      "text/plain": [
       "[1] 0.025"
      ]
     },
     "metadata": {},
     "output_type": "display_data"
    }
   ],
   "source": [
    "q1_abnormal_yes2 = 1 - p1_abnormal_yes2 + 0.5 #Haldane Correction\n",
    "q2_normal_yes2 = 1 - p2_normal_yes2\n",
    "OR2 = (p1_abnormal_yes2*q2_normal_yes2) / (p2_normal_yes2*q1_abnormal_yes2)\n",
    "OR2"
   ]
  },
  {
   "cell_type": "code",
   "execution_count": 8,
   "metadata": {},
   "outputs": [
    {
     "data": {
      "text/html": [
       "<table>\n",
       "<caption>A matrix: 2 × 2 of type int</caption>\n",
       "<thead>\n",
       "\t<tr><th></th><th scope=col>Cad Yes</th><th scope=col> Cad No</th></tr>\n",
       "</thead>\n",
       "<tbody>\n",
       "\t<tr><th scope=row>dm No</th><td>2</td><td>173</td></tr>\n",
       "\t<tr><th scope=row>dm Yes</th><td>2</td><td> 20</td></tr>\n",
       "</tbody>\n",
       "</table>\n"
      ],
      "text/latex": [
       "A matrix: 2 × 2 of type int\n",
       "\\begin{tabular}{r|ll}\n",
       "  & Cad Yes &  Cad No\\\\\n",
       "\\hline\n",
       "\tdm No & 2 & 173\\\\\n",
       "\tdm Yes & 2 &  20\\\\\n",
       "\\end{tabular}\n"
      ],
      "text/markdown": [
       "\n",
       "A matrix: 2 × 2 of type int\n",
       "\n",
       "| <!--/--> | Cad Yes |  Cad No |\n",
       "|---|---|---|\n",
       "| dm No | 2 | 173 |\n",
       "| dm Yes | 2 |  20 |\n",
       "\n"
      ],
      "text/plain": [
       "       Cad Yes  Cad No\n",
       "dm No  2       173    \n",
       "dm Yes 2        20    "
      ]
     },
     "metadata": {},
     "output_type": "display_data"
    }
   ],
   "source": [
    "dm_cad = table(df$dm, df$cad)\n",
    "dm_cad2 = cbind(dm_cad[,2],dm_cad[,1])\n",
    "colnames(dm_cad2) = c(\"Cad Yes\",\" Cad No\")\n",
    "rownames(dm_cad2) = c(\"dm No\", \"dm Yes\")\n",
    "dm_cad2"
   ]
  },
  {
   "cell_type": "code",
   "execution_count": 9,
   "metadata": {},
   "outputs": [
    {
     "data": {
      "text/html": [
       "0.125714285714286"
      ],
      "text/latex": [
       "0.125714285714286"
      ],
      "text/markdown": [
       "0.125714285714286"
      ],
      "text/plain": [
       "[1] 0.1257143"
      ]
     },
     "metadata": {},
     "output_type": "display_data"
    }
   ],
   "source": [
    "p1_dmno_yes = 2/(2+173)\n",
    "p2_dmyes_yes = 2/(20+2)\n",
    "RR3 = p1_dmno_yes/p2_dmyes_yes\n",
    "RR3"
   ]
  },
  {
   "cell_type": "code",
   "execution_count": 10,
   "metadata": {},
   "outputs": [
    {
     "data": {
      "text/html": [
       "0.115606936416185"
      ],
      "text/latex": [
       "0.115606936416185"
      ],
      "text/markdown": [
       "0.115606936416185"
      ],
      "text/plain": [
       "[1] 0.1156069"
      ]
     },
     "metadata": {},
     "output_type": "display_data"
    }
   ],
   "source": [
    "q1_dmno_yes = 1 - p1_dmno_yes\n",
    "q2_dmyes_yes = 1 - p2_dmyes_yes\n",
    "OR3 = (p1_dmno_yes*q2_dmyes_yes) / (p2_dmyes_yes*q1_dmno_yes)\n",
    "OR3"
   ]
  },
  {
   "cell_type": "code",
   "execution_count": 11,
   "metadata": {},
   "outputs": [
    {
     "data": {
      "text/html": [
       "<table>\n",
       "<caption>A matrix: 2 × 2 of type int</caption>\n",
       "<thead>\n",
       "\t<tr><th></th><th scope=col>ane Yes</th><th scope=col> ane No</th></tr>\n",
       "</thead>\n",
       "<tbody>\n",
       "\t<tr><th scope=row>pe No</th><td>6</td><td>175</td></tr>\n",
       "\t<tr><th scope=row>pe Yes</th><td>3</td><td> 13</td></tr>\n",
       "</tbody>\n",
       "</table>\n"
      ],
      "text/latex": [
       "A matrix: 2 × 2 of type int\n",
       "\\begin{tabular}{r|ll}\n",
       "  & ane Yes &  ane No\\\\\n",
       "\\hline\n",
       "\tpe No & 6 & 175\\\\\n",
       "\tpe Yes & 3 &  13\\\\\n",
       "\\end{tabular}\n"
      ],
      "text/markdown": [
       "\n",
       "A matrix: 2 × 2 of type int\n",
       "\n",
       "| <!--/--> | ane Yes |  ane No |\n",
       "|---|---|---|\n",
       "| pe No | 6 | 175 |\n",
       "| pe Yes | 3 |  13 |\n",
       "\n"
      ],
      "text/plain": [
       "       ane Yes  ane No\n",
       "pe No  6       175    \n",
       "pe Yes 3        13    "
      ]
     },
     "metadata": {},
     "output_type": "display_data"
    }
   ],
   "source": [
    "pe_ane = table(df$pe, df$ane)\n",
    "pe_ane2 = cbind(pe_ane[,2],pe_ane[,1])\n",
    "colnames(pe_ane2) = c(\"ane Yes\",\" ane No\")\n",
    "rownames(pe_ane2) = c(\"pe No\", \"pe Yes\")\n",
    "pe_ane2"
   ]
  },
  {
   "cell_type": "code",
   "execution_count": 12,
   "metadata": {},
   "outputs": [
    {
     "data": {
      "text/html": [
       "0.176795580110497"
      ],
      "text/latex": [
       "0.176795580110497"
      ],
      "text/markdown": [
       "0.176795580110497"
      ],
      "text/plain": [
       "[1] 0.1767956"
      ]
     },
     "metadata": {},
     "output_type": "display_data"
    }
   ],
   "source": [
    "p1_peno_yes = 6/(6+175)\n",
    "p2_peyes_yes = 3/(3+13)\n",
    "RR4 = p1_peno_yes/p2_peyes_yes\n",
    "RR4"
   ]
  },
  {
   "cell_type": "code",
   "execution_count": 13,
   "metadata": {},
   "outputs": [
    {
     "data": {
      "text/html": [
       "0.148571428571429"
      ],
      "text/latex": [
       "0.148571428571429"
      ],
      "text/markdown": [
       "0.148571428571429"
      ],
      "text/plain": [
       "[1] 0.1485714"
      ]
     },
     "metadata": {},
     "output_type": "display_data"
    }
   ],
   "source": [
    "q1_peno_yes = 1 - p1_peno_yes\n",
    "q2_peyes_yes = 1 - p2_peyes_yes\n",
    "OR4 = (p1_peno_yes*q2_peyes_yes) / (p2_peyes_yes*q1_peno_yes)\n",
    "OR4"
   ]
  },
  {
   "cell_type": "code",
   "execution_count": 14,
   "metadata": {},
   "outputs": [
    {
     "data": {
      "text/html": [
       "<table>\n",
       "<caption>A matrix: 2 × 2 of type int</caption>\n",
       "<thead>\n",
       "\t<tr><th></th><th scope=col>Present</th><th scope=col>Not Present</th></tr>\n",
       "</thead>\n",
       "<tbody>\n",
       "\t<tr><th scope=row>appet Good</th><td>3</td><td>183</td></tr>\n",
       "\t<tr><th scope=row>appet Poor</th><td>0</td><td> 11</td></tr>\n",
       "</tbody>\n",
       "</table>\n"
      ],
      "text/latex": [
       "A matrix: 2 × 2 of type int\n",
       "\\begin{tabular}{r|ll}\n",
       "  & Present & Not Present\\\\\n",
       "\\hline\n",
       "\tappet Good & 3 & 183\\\\\n",
       "\tappet Poor & 0 &  11\\\\\n",
       "\\end{tabular}\n"
      ],
      "text/markdown": [
       "\n",
       "A matrix: 2 × 2 of type int\n",
       "\n",
       "| <!--/--> | Present | Not Present |\n",
       "|---|---|---|\n",
       "| appet Good | 3 | 183 |\n",
       "| appet Poor | 0 |  11 |\n",
       "\n"
      ],
      "text/plain": [
       "           Present Not Present\n",
       "appet Good 3       183        \n",
       "appet Poor 0        11        "
      ]
     },
     "metadata": {},
     "output_type": "display_data"
    }
   ],
   "source": [
    "ap_ba = table(df$appet, df$ba)\n",
    "ap_ba2 = cbind(ap_ba[,2],ap_ba[,1])\n",
    "colnames(ap_ba2) = c(\"Present\",\"Not Present\")\n",
    "rownames(ap_ba2) = c(\"appet Good\", \"appet Poor\")\n",
    "ap_ba2"
   ]
  },
  {
   "cell_type": "code",
   "execution_count": 15,
   "metadata": {},
   "outputs": [
    {
     "data": {
      "text/html": [
       "0.354838709677419"
      ],
      "text/latex": [
       "0.354838709677419"
      ],
      "text/markdown": [
       "0.354838709677419"
      ],
      "text/plain": [
       "[1] 0.3548387"
      ]
     },
     "metadata": {},
     "output_type": "display_data"
    }
   ],
   "source": [
    "p1_apg_yes = 3/(3+183)\n",
    "p2_app_yes = (0+0.5)/11 #Haldane Correction\n",
    "RR5 = p1_apg_yes/p2_app_yes\n",
    "RR5"
   ]
  },
  {
   "cell_type": "code",
   "execution_count": 16,
   "metadata": {},
   "outputs": [
    {
     "data": {
      "text/html": [
       "0.344262295081967"
      ],
      "text/latex": [
       "0.344262295081967"
      ],
      "text/markdown": [
       "0.344262295081967"
      ],
      "text/plain": [
       "[1] 0.3442623"
      ]
     },
     "metadata": {},
     "output_type": "display_data"
    }
   ],
   "source": [
    "q1_apg_yes = 1 - p1_apg_yes\n",
    "q2_app_yes = 1 - p2_app_yes\n",
    "OR5 = (p1_apg_yes*q2_app_yes) / (p2_app_yes*q1_apg_yes)\n",
    "OR5"
   ]
  },
  {
   "cell_type": "markdown",
   "metadata": {},
   "source": [
    "Analysis:\n",
    "\n",
    "The risk ratio tells us the strength of association between the two variables. The first risk ratio that was calculated was above 1. This means that people with abnormal red blood cells have a increased risk of having bacteria, relative to people with normal blood cells. The second risk ratio was slightly above 1. This meant that people with abnormal pus cells have a increased risk of having hypertension by 1 percent, relative to people with normal pus cells. On the other hand, the third and fourth risk ratios had values below 1. This meant that a lack of the Diabetes Mellitus condition decreased the risk of developing coronary heart disease by 88 percent, relative to people without the Diabetes Mellitus condition. Additionally, the ratios told us that the lack of pedal edema decreased the risk of developing anemia by 83 percent, relative to people who have pedal edema. The final risk ratio was below 1. This meant that a person with a good appetite decreased the risk of developing a bacteria by 65 percent, relative to people with bad appetites. \n",
    "\n",
    "Odds Ratios two, three, four and five were very low. There are lower odds of having hypertension and abnormal pus cells than having hypertension and normal pus cells. This meant that there is is a lower frequency of having coronary heart disease with the absense of the Diabetes Mellitus condition, than having coronary heart disease and the presence of the Diabetes Mellitus condition. The odds ratios stated that the frequency of not having pedal edema and developing anemia is smaller than having pedal edema and anemia. Additionally, the data says that there is a lower frequency of having bacteria with a good appetite than having bacteria with a bad appetite. Odds ratio One was above 1. This means that the odds of having bacteria present when there are abnormal blood cells occurs with a higher frequency than having bacteria with normal blood cells. In fact, it is 13 times more common.  "
   ]
  },
  {
   "cell_type": "code",
   "execution_count": 17,
   "metadata": {},
   "outputs": [
    {
     "name": "stdout",
     "output_type": "stream",
     "text": [
      "upper RR1:  1.191581  \n",
      "lower RR1:  117.1009"
     ]
    }
   ],
   "source": [
    "c_upper1 = exp(log(RR1) - 1.96*(sqrt((7/(1*8)) + (187/(2*189)))))\n",
    "c_lower1 = exp(log(RR1) + 1.96*(sqrt((7/(1*8)) + (187/(2*189)))))\n",
    "\n",
    "cat(\"upper RR1: \", c_upper1, \" \\n\")\n",
    "cat(\"lower RR1: \", c_lower1)"
   ]
  },
  {
   "cell_type": "code",
   "execution_count": 18,
   "metadata": {},
   "outputs": [
    {
     "name": "stdout",
     "output_type": "stream",
     "text": [
      "upper OR1:  1.078699  \n",
      "lower OR1:  165.3967"
     ]
    }
   ],
   "source": [
    "cor_upper1 = exp(log(OR1) - 1.96*(sqrt((1/7)+(1/1)+(1/187)+(1/2))))\n",
    "cor_lower1 = exp(log(OR1) + 1.96*(sqrt((1/7)+(1/1)+(1/187)+(1/2))))\n",
    "\n",
    "cat(\"upper OR1: \", cor_upper1, \" \\n\")\n",
    "cat(\"lower OR1: \", cor_lower1)"
   ]
  },
  {
   "cell_type": "code",
   "execution_count": 19,
   "metadata": {},
   "outputs": [
    {
     "name": "stdout",
     "output_type": "stream",
     "text": [
      "upper RR2:  0.9952171  \n",
      "lower RR2:  1.030083"
     ]
    }
   ],
   "source": [
    "c_upper2 = exp(log(RR2) - 1.96*(sqrt((0/(8*8)) + (2/(160*162)))))\n",
    "c_lower2 = exp(log(RR2) + 1.96*(sqrt((0/(8*8)) + (2/(160*162)))))\n",
    "\n",
    "cat(\"upper RR2: \", c_upper2, \" \\n\")\n",
    "cat(\"lower RR2: \", c_lower2)"
   ]
  },
  {
   "cell_type": "code",
   "execution_count": 20,
   "metadata": {},
   "outputs": [
    {
     "name": "stdout",
     "output_type": "stream",
     "text": [
      "upper OR2:  0.001423858  \n",
      "lower OR2:  0.4389483"
     ]
    }
   ],
   "source": [
    "cor_upper2 = exp(log(OR2) - 1.96*(sqrt((1/0.5)+(1/8)+(1/160)+(1/162))))\n",
    "cor_lower2 = exp(log(OR2) + 1.96*(sqrt((1/0.5)+(1/8)+(1/160)+(1/162))))\n",
    "\n",
    "cat(\"upper OR2: \", cor_upper2, \" \\n\")\n",
    "cat(\"lower OR2: \", cor_lower2)"
   ]
  },
  {
   "cell_type": "code",
   "execution_count": 21,
   "metadata": {},
   "outputs": [
    {
     "name": "stdout",
     "output_type": "stream",
     "text": [
      "upper RR3:  0.01863079  \n",
      "lower RR3:  0.8482775"
     ]
    }
   ],
   "source": [
    "c_upper3 = exp(log(RR3) - 1.96*(sqrt((173/(2*175)) + (20/(2*22)))))\n",
    "c_lower3 = exp(log(RR3) + 1.96*(sqrt((173/(2*175)) + (20/(2*22)))))\n",
    "\n",
    "cat(\"upper RR3: \", c_upper3, \" \\n\")\n",
    "cat(\"lower RR3: \", c_lower3)"
   ]
  },
  {
   "cell_type": "code",
   "execution_count": 22,
   "metadata": {},
   "outputs": [
    {
     "name": "stdout",
     "output_type": "stream",
     "text": [
      "upper OR3:  0.01542937  \n",
      "lower OR3:  0.8662027"
     ]
    }
   ],
   "source": [
    "cor_upper3 = exp(log(OR3) - 1.96*(sqrt((1/173)+(1/2)+(1/20)+(1/2))))\n",
    "cor_lower3 = exp(log(OR3) + 1.96*(sqrt((1/173)+(1/2)+(1/20)+(1/2))))\n",
    "\n",
    "cat(\"upper OR3: \", cor_upper3, \" \\n\")\n",
    "cat(\"lower OR3: \", cor_lower3)"
   ]
  },
  {
   "cell_type": "code",
   "execution_count": 23,
   "metadata": {},
   "outputs": [
    {
     "name": "stdout",
     "output_type": "stream",
     "text": [
      "upper RR4:  0.04455584  \n",
      "lower RR4:  0.701517"
     ]
    }
   ],
   "source": [
    "c_upper4 = exp(log(RR4) - 1.96*(sqrt((175/(6*181)) + (16/(3*16)))))\n",
    "c_lower4 = exp(log(RR4) + 1.96*(sqrt((175/(6*181)) + (16/(3*16)))))\n",
    "\n",
    "cat(\"upper RR4: \", c_upper4, \" \\n\")\n",
    "cat(\"lower RR4: \", c_lower4)"
   ]
  },
  {
   "cell_type": "code",
   "execution_count": 24,
   "metadata": {},
   "outputs": [
    {
     "name": "stdout",
     "output_type": "stream",
     "text": [
      "upper OR4:  0.03328092  \n",
      "lower OR4:  0.6632469"
     ]
    }
   ],
   "source": [
    "cor_upper4 = exp(log(OR4) - 1.96*(sqrt((1/175)+(1/6)+(1/13)+(1/3))))\n",
    "cor_lower4 = exp(log(OR4) + 1.96*(sqrt((1/175)+(1/6)+(1/13)+(1/3))))\n",
    "\n",
    "cat(\"upper OR4: \", cor_upper4, \" \\n\")\n",
    "cat(\"lower OR4: \", cor_lower4)"
   ]
  },
  {
   "cell_type": "code",
   "execution_count": 25,
   "metadata": {},
   "outputs": [
    {
     "name": "stdout",
     "output_type": "stream",
     "text": [
      "upper RR5:  0.02092624  \n",
      "lower RR5:  6.016873"
     ]
    }
   ],
   "source": [
    "c_upper5 = exp(log(RR5) - 1.96*(sqrt((183/(11*194)) + (3/(0.5*3))))) #Haldane Correction\n",
    "c_lower5 = exp(log(RR5) + 1.96*(sqrt((183/(11*194)) + (3/(0.5*3)))))\n",
    "\n",
    "cat(\"upper RR5: \", c_upper5, \" \\n\")\n",
    "cat(\"lower RR5: \", c_lower5)"
   ]
  },
  {
   "cell_type": "code",
   "execution_count": 26,
   "metadata": {},
   "outputs": [
    {
     "name": "stdout",
     "output_type": "stream",
     "text": [
      "upper OR5:  0.06647754  \n",
      "lower OR5:  29.9466"
     ]
    }
   ],
   "source": [
    "cor_upper5 = exp(OR5 - 1.96*(sqrt((1/183)+(1/11)+(1/3)+(1/0.5))))\n",
    "cor_lower5 = exp(OR5 + 1.96*(sqrt((1/183)+(1/11)+(1/3)+(1/0.5))))\n",
    "\n",
    "cat(\"upper OR5: \", cor_upper5, \" \\n\")\n",
    "cat(\"lower OR5: \", cor_lower5)"
   ]
  },
  {
   "cell_type": "markdown",
   "metadata": {},
   "source": [
    "The confidence intervals for RR2 and RR5 include 1. Therefore, we have to conclude that is no impact on risk when considering the comparison of each set of variables. The confidence intervals of the first, third, and fourth risk ratios do not include 1. Therefore, it is safe to say that the risk is actually impacted in these sets of comparisons between variables. The confidence interval for the fifth odds ratio includes 1. This means that the likelihood of those two conditions happening are the same. The other four odds ratios do not include 1. This means that the likelihood of the two conditions, within the set, happening are different. "
   ]
  },
  {
   "cell_type": "code",
   "execution_count": 27,
   "metadata": {},
   "outputs": [
    {
     "name": "stderr",
     "output_type": "stream",
     "text": [
      "── \u001b[1mAttaching packages\u001b[22m ─────────────────────────────────────── tidyverse 1.3.0 ──\n",
      "\n",
      "\u001b[32m✔\u001b[39m \u001b[34mggplot2\u001b[39m 3.2.1     \u001b[32m✔\u001b[39m \u001b[34mpurrr  \u001b[39m 0.3.3\n",
      "\u001b[32m✔\u001b[39m \u001b[34mtibble \u001b[39m 2.1.3     \u001b[32m✔\u001b[39m \u001b[34mdplyr  \u001b[39m 0.8.4\n",
      "\u001b[32m✔\u001b[39m \u001b[34mtidyr  \u001b[39m 1.0.2     \u001b[32m✔\u001b[39m \u001b[34mstringr\u001b[39m 1.4.0\n",
      "\u001b[32m✔\u001b[39m \u001b[34mreadr  \u001b[39m 1.3.1     \u001b[32m✔\u001b[39m \u001b[34mforcats\u001b[39m 0.4.0\n",
      "\n",
      "── \u001b[1mConflicts\u001b[22m ────────────────────────────────────────── tidyverse_conflicts() ──\n",
      "\u001b[31m✖\u001b[39m \u001b[34mdplyr\u001b[39m::\u001b[32mfilter()\u001b[39m masks \u001b[34mstats\u001b[39m::filter()\n",
      "\u001b[31m✖\u001b[39m \u001b[34mdplyr\u001b[39m::\u001b[32mlag()\u001b[39m    masks \u001b[34mstats\u001b[39m::lag()\n",
      "\n",
      "Loading required package: lattice\n",
      "\n",
      "\n",
      "Attaching package: ‘caret’\n",
      "\n",
      "\n",
      "The following object is masked from ‘package:purrr’:\n",
      "\n",
      "    lift\n",
      "\n",
      "\n"
     ]
    },
    {
     "ename": "ERROR",
     "evalue": "Error in library(psych): there is no package called ‘psych’\n",
     "output_type": "error",
     "traceback": [
      "Error in library(psych): there is no package called ‘psych’\nTraceback:\n",
      "1. library(psych)"
     ]
    }
   ],
   "source": [
    "library(tidyverse)\n",
    "library(ggplot2)\n",
    "library(caret)\n",
    "library(psych)\n",
    "library(rpart)\n",
    "library(randomForest)\n",
    "library(Amelia)\n",
    "library(mice)\n",
    "library(e1071)\n",
    "library(klaR)\n",
    "library(dplyr)\n",
    "\n",
    "library(caret)\n",
    "library(lattice)"
   ]
  },
  {
   "cell_type": "code",
   "execution_count": null,
   "metadata": {},
   "outputs": [],
   "source": [
    "df = read.csv(\"data1.csv\", header = T)\n",
    "str(df)"
   ]
  },
  {
   "cell_type": "code",
   "execution_count": null,
   "metadata": {},
   "outputs": [],
   "source": [
    "set.seed(998)\n",
    "indxTrain <- createDataPartition(y = data$classification,p = 0.75,list = FALSE)\n",
    "training <- data1[indxTrain,] \n",
    "testing <- data1[-indxTrain,] \n",
    "\n",
    "data_1 <- data1$classification\n",
    "prop.table(table(data_1)) * 100"
   ]
  },
  {
   "cell_type": "code",
   "execution_count": null,
   "metadata": {},
   "outputs": [],
   "source": [
    "prop.table(table(training$classification)) * 100"
   ]
  },
  {
   "cell_type": "code",
   "execution_count": null,
   "metadata": {},
   "outputs": [],
   "source": [
    "prop.table(table(testing$classification)) * 100"
   ]
  },
  {
   "cell_type": "code",
   "execution_count": null,
   "metadata": {},
   "outputs": [],
   "source": [
    "x = training[,-9]\n",
    "y = training$classification\n",
    "y = as.factor(y)\n",
    "z = testing$classification\n",
    "z = as.factor(z)\n",
    "\n",
    "model = train(x,y,'naive_bayes',trControl=trainControl(method='cv',number=10))\n",
    "\n",
    "Predict <- predict(model,newdata = testing)\n",
    "\n",
    "confusionMatrix(Predict, z)"
   ]
  },
  {
   "cell_type": "code",
   "execution_count": 28,
   "metadata": {},
   "outputs": [
    {
     "ename": "ERROR",
     "evalue": "Error in varImp(model): object 'model' not found\n",
     "output_type": "error",
     "traceback": [
      "Error in varImp(model): object 'model' not found\nTraceback:\n",
      "1. varImp(model)"
     ]
    }
   ],
   "source": [
    "X <- varImp(model)\n",
    "plot(X)"
   ]
  },
  {
   "cell_type": "markdown",
   "metadata": {},
   "source": [
    "Write a short paragraph of analysis of your results.\n",
    "67 percent of the entire data set had a classification of not having chronic kidney disease (notckd). The porportion for the classification of not having chronic kidney disease decreased in the training data. The training data had 63.5% of its data points have the classification of not having chronic kidney disease (notckd). The porportion of not having chronic kidney diseases was highest for the testing data. The testing data had 77.55% of its data points not have chronic kidney disease. \n",
    "The confusion matrix told us that the model did not predict any false negatives or false positives. The accuracy is 1, which suggests that the model perfectly predicts the outcome of classification. The 95% confidence interval contains the value of 1, and does not drop below 0.9275. This result suggests that the model is a good predictor of classification. The accuracy is higher than the no information rate calculation, which means that the model is better than blindly predicting the dominant class every time. The variables that were most important for the model were specific gravity(sg), packed cell volume(pcv), and serum creatinine (sc). These three variables had values around 80 for importance. The variables that were the least important were blood glucose random (bgr), blood pressure (bp), and blood urea (bu). All of these variables had values below 20 for importance. "
   ]
  }
 ],
 "metadata": {
  "kernelspec": {
   "display_name": "R",
   "language": "R",
   "name": "ir"
  },
  "language_info": {
   "codemirror_mode": "r",
   "file_extension": ".r",
   "mimetype": "text/x-r-source",
   "name": "R",
   "pygments_lexer": "r",
   "version": "3.6.2"
  }
 },
 "nbformat": 4,
 "nbformat_minor": 4
}
