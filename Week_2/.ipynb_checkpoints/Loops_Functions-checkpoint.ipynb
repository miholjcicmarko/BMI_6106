{
 "cells": [
  {
   "cell_type": "markdown",
   "metadata": {
    "slideshow": {
     "slide_type": "slide"
    }
   },
   "source": [
    "# Loops and Functions"
   ]
  },
  {
   "cell_type": "markdown",
   "metadata": {
    "slideshow": {
     "slide_type": "slide"
    }
   },
   "source": [
    "# For loops\n",
    "\n",
    "### a for loop is a programming solution to reiterative applications\n",
    "\n",
    "### for (val in sequence)\n",
    "### {\n",
    "### statement\n",
    "### }\n",
    "\n",
    "\n",
    "![title](r-for-loop.jpg)"
   ]
  },
  {
   "cell_type": "code",
   "execution_count": 32,
   "metadata": {
    "slideshow": {
     "slide_type": "slide"
    }
   },
   "outputs": [],
   "source": [
    "a <- 1:10\n",
    "b <- 1:10"
   ]
  },
  {
   "cell_type": "code",
   "execution_count": 33,
   "metadata": {
    "slideshow": {
     "slide_type": "slide"
    }
   },
   "outputs": [
    {
     "data": {
      "text/html": [
       "<ol class=list-inline>\n",
       "\t<li>2</li>\n",
       "\t<li>4</li>\n",
       "\t<li>6</li>\n",
       "\t<li>8</li>\n",
       "\t<li>10</li>\n",
       "\t<li>12</li>\n",
       "\t<li>14</li>\n",
       "\t<li>16</li>\n",
       "\t<li>18</li>\n",
       "\t<li>20</li>\n",
       "</ol>\n"
      ],
      "text/latex": [
       "\\begin{enumerate*}\n",
       "\\item 2\n",
       "\\item 4\n",
       "\\item 6\n",
       "\\item 8\n",
       "\\item 10\n",
       "\\item 12\n",
       "\\item 14\n",
       "\\item 16\n",
       "\\item 18\n",
       "\\item 20\n",
       "\\end{enumerate*}\n"
      ],
      "text/markdown": [
       "1. 2\n",
       "2. 4\n",
       "3. 6\n",
       "4. 8\n",
       "5. 10\n",
       "6. 12\n",
       "7. 14\n",
       "8. 16\n",
       "9. 18\n",
       "10. 20\n",
       "\n",
       "\n"
      ],
      "text/plain": [
       " [1]  2  4  6  8 10 12 14 16 18 20"
      ]
     },
     "metadata": {},
     "output_type": "display_data"
    }
   ],
   "source": [
    "res <- numeric(length = length(a))\n",
    "for (i in seq_along(a)) {\n",
    "  res[i] <- a[i] + b[i]\n",
    "}\n",
    "res"
   ]
  },
  {
   "cell_type": "code",
   "execution_count": 34,
   "metadata": {
    "slideshow": {
     "slide_type": "slide"
    }
   },
   "outputs": [
    {
     "data": {
      "text/html": [
       "TRUE"
      ],
      "text/latex": [
       "TRUE"
      ],
      "text/markdown": [
       "TRUE"
      ],
      "text/plain": [
       "[1] TRUE"
      ]
     },
     "metadata": {},
     "output_type": "display_data"
    }
   ],
   "source": [
    "res2 <- a + b\n",
    "all.equal(res, res2)"
   ]
  },
  {
   "cell_type": "markdown",
   "metadata": {
    "slideshow": {
     "slide_type": "slide"
    }
   },
   "source": [
    "## Lets use the FARS dataset (Fatality Analysis Recording System) from 2018 It contains 33654 observations of 62 different features regarding automotive accidents that involves fatalities.\n",
    "\n",
    "### using a For loop let's calculate the mean age.\n"
   ]
  },
  {
   "cell_type": "code",
   "execution_count": 37,
   "metadata": {
    "slideshow": {
     "slide_type": "slide"
    }
   },
   "outputs": [],
   "source": [
    "FARS = read.csv(\"PERSON2.csv\", header = T)"
   ]
  },
  {
   "cell_type": "code",
   "execution_count": 38,
   "metadata": {
    "slideshow": {
     "slide_type": "slide"
    }
   },
   "outputs": [
    {
     "data": {
      "text/html": [
       "51.0933321447673"
      ],
      "text/latex": [
       "51.0933321447673"
      ],
      "text/markdown": [
       "51.0933321447673"
      ],
      "text/plain": [
       "[1] 51.09333"
      ]
     },
     "metadata": {},
     "output_type": "display_data"
    }
   ],
   "source": [
    "mean_age <- NULL\n",
    "total <- NULL\n",
    "for(i in 1:length(FARS$AGE)){\n",
    "  total <- sum(total, FARS$AGE[i])\n",
    "}\n",
    "mean_age <- total/length(FARS$AGE)\n",
    "mean_age"
   ]
  },
  {
   "cell_type": "markdown",
   "metadata": {
    "slideshow": {
     "slide_type": "slide"
    }
   },
   "source": [
    "# Apply family\n",
    "\n",
    "### family of functions tht allow efficient and clean repetitive operations in multiple classes\n",
    "\n",
    "### For a lot more details and examples see\n",
    "\n",
    "[Dealing with Apply functions in R](https://towardsdatascience.com/dealing-with-apply-functions-in-r-ea99d3f49a71)"
   ]
  },
  {
   "cell_type": "code",
   "execution_count": 39,
   "metadata": {
    "slideshow": {
     "slide_type": "slide"
    }
   },
   "outputs": [
    {
     "data": {
      "text/html": [
       "<strong>AGE:</strong> 51.0933321447673"
      ],
      "text/latex": [
       "\\textbf{AGE:} 51.0933321447673"
      ],
      "text/markdown": [
       "**AGE:** 51.0933321447673"
      ],
      "text/plain": [
       "     AGE \n",
       "51.09333 "
      ]
     },
     "metadata": {},
     "output_type": "display_data"
    }
   ],
   "source": [
    "apply(FARS[27],2, mean)"
   ]
  },
  {
   "cell_type": "code",
   "execution_count": 40,
   "metadata": {
    "slideshow": {
     "slide_type": "slide"
    }
   },
   "outputs": [
    {
     "data": {
      "text/html": [
       "51.0933321447673"
      ],
      "text/latex": [
       "51.0933321447673"
      ],
      "text/markdown": [
       "51.0933321447673"
      ],
      "text/plain": [
       "[1] 51.09333"
      ]
     },
     "metadata": {},
     "output_type": "display_data"
    }
   ],
   "source": [
    "mean(FARS$AGE)"
   ]
  },
  {
   "cell_type": "code",
   "execution_count": 41,
   "metadata": {
    "slideshow": {
     "slide_type": "slide"
    }
   },
   "outputs": [],
   "source": [
    "##How about by state\n",
    "FARS$STATE = as.factor(FARS$STATE)"
   ]
  },
  {
   "cell_type": "code",
   "execution_count": 42,
   "metadata": {
    "slideshow": {
     "slide_type": "slide"
    }
   },
   "outputs": [
    {
     "data": {
      "text/html": [
       "<dl class=dl-horizontal>\n",
       "\t<dt>1</dt>\n",
       "\t\t<dd>45.689497716895</dd>\n",
       "\t<dt>2</dt>\n",
       "\t\t<dd>41.231884057971</dd>\n",
       "\t<dt>4</dt>\n",
       "\t\t<dd>84.693231441048</dd>\n",
       "\t<dt>5</dt>\n",
       "\t\t<dd>44.2372881355932</dd>\n",
       "\t<dt>6</dt>\n",
       "\t\t<dd>47.525928198834</dd>\n",
       "\t<dt>8</dt>\n",
       "\t\t<dd>42.8622448979592</dd>\n",
       "\t<dt>9</dt>\n",
       "\t\t<dd>51.2355072463768</dd>\n",
       "\t<dt>10</dt>\n",
       "\t\t<dd>41.7403846153846</dd>\n",
       "\t<dt>11</dt>\n",
       "\t\t<dd>37.6666666666667</dd>\n",
       "\t<dt>12</dt>\n",
       "\t\t<dd>72.8356775300172</dd>\n",
       "\t<dt>13</dt>\n",
       "\t\t<dd>45.1727078891258</dd>\n",
       "\t<dt>15</dt>\n",
       "\t\t<dd>56.8090909090909</dd>\n",
       "\t<dt>16</dt>\n",
       "\t\t<dd>42.8867924528302</dd>\n",
       "\t<dt>17</dt>\n",
       "\t\t<dd>51.1909282700422</dd>\n",
       "\t<dt>18</dt>\n",
       "\t\t<dd>47.7997416020672</dd>\n",
       "\t<dt>19</dt>\n",
       "\t\t<dd>46.9759450171821</dd>\n",
       "\t<dt>20</dt>\n",
       "\t\t<dd>48.2213114754098</dd>\n",
       "\t<dt>21</dt>\n",
       "\t\t<dd>49.9487951807229</dd>\n",
       "\t<dt>22</dt>\n",
       "\t\t<dd>47.3002793296089</dd>\n",
       "\t<dt>23</dt>\n",
       "\t\t<dd>48.34375</dd>\n",
       "\t<dt>24</dt>\n",
       "\t\t<dd>47.4978902953587</dd>\n",
       "\t<dt>25</dt>\n",
       "\t\t<dd>46.5947521865889</dd>\n",
       "\t<dt>26</dt>\n",
       "\t\t<dd>46.260773480663</dd>\n",
       "\t<dt>27</dt>\n",
       "\t\t<dd>49.5186246418338</dd>\n",
       "\t<dt>28</dt>\n",
       "\t\t<dd>48.4455611390285</dd>\n",
       "\t<dt>29</dt>\n",
       "\t\t<dd>53.25</dd>\n",
       "\t<dt>30</dt>\n",
       "\t\t<dd>40.2321428571429</dd>\n",
       "\t<dt>31</dt>\n",
       "\t\t<dd>41.7014925373134</dd>\n",
       "\t<dt>32</dt>\n",
       "\t\t<dd>55.2466666666667</dd>\n",
       "\t<dt>33</dt>\n",
       "\t\t<dd>47.1791044776119</dd>\n",
       "\t<dt>34</dt>\n",
       "\t\t<dd>46.7790476190476</dd>\n",
       "\t<dt>35</dt>\n",
       "\t\t<dd>57.7714285714286</dd>\n",
       "\t<dt>36</dt>\n",
       "\t\t<dd>48.1136107986502</dd>\n",
       "\t<dt>37</dt>\n",
       "\t\t<dd>46.999242997729</dd>\n",
       "\t<dt>38</dt>\n",
       "\t\t<dd>43.6526315789474</dd>\n",
       "\t<dt>39</dt>\n",
       "\t\t<dd>45.7570281124498</dd>\n",
       "\t<dt>40</dt>\n",
       "\t\t<dd>46.5804311774461</dd>\n",
       "\t<dt>41</dt>\n",
       "\t\t<dd>57.4444444444444</dd>\n",
       "\t<dt>42</dt>\n",
       "\t\t<dd>50.3381686310063</dd>\n",
       "\t<dt>44</dt>\n",
       "\t\t<dd>41.1428571428571</dd>\n",
       "\t<dt>45</dt>\n",
       "\t\t<dd>45.3422680412371</dd>\n",
       "\t<dt>46</dt>\n",
       "\t\t<dd>53.5</dd>\n",
       "\t<dt>47</dt>\n",
       "\t\t<dd>49.5780287474333</dd>\n",
       "\t<dt>48</dt>\n",
       "\t\t<dd>47.928895612708</dd>\n",
       "\t<dt>49</dt>\n",
       "\t\t<dd>41.9282700421941</dd>\n",
       "\t<dt>50</dt>\n",
       "\t\t<dd>45.7833333333333</dd>\n",
       "\t<dt>51</dt>\n",
       "\t\t<dd>51.1452442159383</dd>\n",
       "\t<dt>53</dt>\n",
       "\t\t<dd>48.2072434607646</dd>\n",
       "\t<dt>54</dt>\n",
       "\t\t<dd>47.7584905660377</dd>\n",
       "\t<dt>55</dt>\n",
       "\t\t<dd>49.977358490566</dd>\n",
       "\t<dt>56</dt>\n",
       "\t\t<dd>41.62</dd>\n",
       "</dl>\n"
      ],
      "text/latex": [
       "\\begin{description*}\n",
       "\\item[1] 45.689497716895\n",
       "\\item[2] 41.231884057971\n",
       "\\item[4] 84.693231441048\n",
       "\\item[5] 44.2372881355932\n",
       "\\item[6] 47.525928198834\n",
       "\\item[8] 42.8622448979592\n",
       "\\item[9] 51.2355072463768\n",
       "\\item[10] 41.7403846153846\n",
       "\\item[11] 37.6666666666667\n",
       "\\item[12] 72.8356775300172\n",
       "\\item[13] 45.1727078891258\n",
       "\\item[15] 56.8090909090909\n",
       "\\item[16] 42.8867924528302\n",
       "\\item[17] 51.1909282700422\n",
       "\\item[18] 47.7997416020672\n",
       "\\item[19] 46.9759450171821\n",
       "\\item[20] 48.2213114754098\n",
       "\\item[21] 49.9487951807229\n",
       "\\item[22] 47.3002793296089\n",
       "\\item[23] 48.34375\n",
       "\\item[24] 47.4978902953587\n",
       "\\item[25] 46.5947521865889\n",
       "\\item[26] 46.260773480663\n",
       "\\item[27] 49.5186246418338\n",
       "\\item[28] 48.4455611390285\n",
       "\\item[29] 53.25\n",
       "\\item[30] 40.2321428571429\n",
       "\\item[31] 41.7014925373134\n",
       "\\item[32] 55.2466666666667\n",
       "\\item[33] 47.1791044776119\n",
       "\\item[34] 46.7790476190476\n",
       "\\item[35] 57.7714285714286\n",
       "\\item[36] 48.1136107986502\n",
       "\\item[37] 46.999242997729\n",
       "\\item[38] 43.6526315789474\n",
       "\\item[39] 45.7570281124498\n",
       "\\item[40] 46.5804311774461\n",
       "\\item[41] 57.4444444444444\n",
       "\\item[42] 50.3381686310063\n",
       "\\item[44] 41.1428571428571\n",
       "\\item[45] 45.3422680412371\n",
       "\\item[46] 53.5\n",
       "\\item[47] 49.5780287474333\n",
       "\\item[48] 47.928895612708\n",
       "\\item[49] 41.9282700421941\n",
       "\\item[50] 45.7833333333333\n",
       "\\item[51] 51.1452442159383\n",
       "\\item[53] 48.2072434607646\n",
       "\\item[54] 47.7584905660377\n",
       "\\item[55] 49.977358490566\n",
       "\\item[56] 41.62\n",
       "\\end{description*}\n"
      ],
      "text/markdown": [
       "1\n",
       ":   45.6894977168952\n",
       ":   41.2318840579714\n",
       ":   84.6932314410485\n",
       ":   44.23728813559326\n",
       ":   47.5259281988348\n",
       ":   42.86224489795929\n",
       ":   51.235507246376810\n",
       ":   41.740384615384611\n",
       ":   37.666666666666712\n",
       ":   72.835677530017213\n",
       ":   45.172707889125815\n",
       ":   56.809090909090916\n",
       ":   42.886792452830217\n",
       ":   51.190928270042218\n",
       ":   47.799741602067219\n",
       ":   46.975945017182120\n",
       ":   48.221311475409821\n",
       ":   49.948795180722922\n",
       ":   47.300279329608923\n",
       ":   48.3437524\n",
       ":   47.497890295358725\n",
       ":   46.594752186588926\n",
       ":   46.26077348066327\n",
       ":   49.518624641833828\n",
       ":   48.445561139028529\n",
       ":   53.2530\n",
       ":   40.232142857142931\n",
       ":   41.701492537313432\n",
       ":   55.246666666666733\n",
       ":   47.179104477611934\n",
       ":   46.779047619047635\n",
       ":   57.771428571428636\n",
       ":   48.113610798650237\n",
       ":   46.99924299772938\n",
       ":   43.652631578947439\n",
       ":   45.757028112449840\n",
       ":   46.580431177446141\n",
       ":   57.444444444444442\n",
       ":   50.338168631006344\n",
       ":   41.142857142857145\n",
       ":   45.342268041237146\n",
       ":   53.547\n",
       ":   49.578028747433348\n",
       ":   47.92889561270849\n",
       ":   41.928270042194150\n",
       ":   45.783333333333351\n",
       ":   51.145244215938353\n",
       ":   48.207243460764654\n",
       ":   47.758490566037755\n",
       ":   49.97735849056656\n",
       ":   41.62\n",
       "\n"
      ],
      "text/plain": [
       "       1        2        4        5        6        8        9       10 \n",
       "45.68950 41.23188 84.69323 44.23729 47.52593 42.86224 51.23551 41.74038 \n",
       "      11       12       13       15       16       17       18       19 \n",
       "37.66667 72.83568 45.17271 56.80909 42.88679 51.19093 47.79974 46.97595 \n",
       "      20       21       22       23       24       25       26       27 \n",
       "48.22131 49.94880 47.30028 48.34375 47.49789 46.59475 46.26077 49.51862 \n",
       "      28       29       30       31       32       33       34       35 \n",
       "48.44556 53.25000 40.23214 41.70149 55.24667 47.17910 46.77905 57.77143 \n",
       "      36       37       38       39       40       41       42       44 \n",
       "48.11361 46.99924 43.65263 45.75703 46.58043 57.44444 50.33817 41.14286 \n",
       "      45       46       47       48       49       50       51       53 \n",
       "45.34227 53.50000 49.57803 47.92890 41.92827 45.78333 51.14524 48.20724 \n",
       "      54       55       56 \n",
       "47.75849 49.97736 41.62000 "
      ]
     },
     "metadata": {},
     "output_type": "display_data"
    }
   ],
   "source": [
    "tapply(FARS$AGE, FARS$STATE, mean)"
   ]
  },
  {
   "cell_type": "markdown",
   "metadata": {},
   "source": [
    "[The tidyverse universe](https://monashbioinformaticsplatform.github.io/r-more/topics/tidyverse.html)"
   ]
  },
  {
   "cell_type": "code",
   "execution_count": 43,
   "metadata": {
    "slideshow": {
     "slide_type": "slide"
    }
   },
   "outputs": [
    {
     "data": {
      "text/html": [
       "<table>\n",
       "<caption>A tibble: 51 × 2</caption>\n",
       "<thead>\n",
       "\t<tr><th scope=col>STATE</th><th scope=col>age</th></tr>\n",
       "\t<tr><th scope=col>&lt;fct&gt;</th><th scope=col>&lt;dbl&gt;</th></tr>\n",
       "</thead>\n",
       "<tbody>\n",
       "\t<tr><td>1 </td><td>45.68950</td></tr>\n",
       "\t<tr><td>2 </td><td>41.23188</td></tr>\n",
       "\t<tr><td>4 </td><td>84.69323</td></tr>\n",
       "\t<tr><td>5 </td><td>44.23729</td></tr>\n",
       "\t<tr><td>6 </td><td>47.52593</td></tr>\n",
       "\t<tr><td>8 </td><td>42.86224</td></tr>\n",
       "\t<tr><td>9 </td><td>51.23551</td></tr>\n",
       "\t<tr><td>10</td><td>41.74038</td></tr>\n",
       "\t<tr><td>11</td><td>37.66667</td></tr>\n",
       "\t<tr><td>12</td><td>72.83568</td></tr>\n",
       "\t<tr><td>13</td><td>45.17271</td></tr>\n",
       "\t<tr><td>15</td><td>56.80909</td></tr>\n",
       "\t<tr><td>16</td><td>42.88679</td></tr>\n",
       "\t<tr><td>17</td><td>51.19093</td></tr>\n",
       "\t<tr><td>18</td><td>47.79974</td></tr>\n",
       "\t<tr><td>19</td><td>46.97595</td></tr>\n",
       "\t<tr><td>20</td><td>48.22131</td></tr>\n",
       "\t<tr><td>21</td><td>49.94880</td></tr>\n",
       "\t<tr><td>22</td><td>47.30028</td></tr>\n",
       "\t<tr><td>23</td><td>48.34375</td></tr>\n",
       "\t<tr><td>24</td><td>47.49789</td></tr>\n",
       "\t<tr><td>25</td><td>46.59475</td></tr>\n",
       "\t<tr><td>26</td><td>46.26077</td></tr>\n",
       "\t<tr><td>27</td><td>49.51862</td></tr>\n",
       "\t<tr><td>28</td><td>48.44556</td></tr>\n",
       "\t<tr><td>29</td><td>53.25000</td></tr>\n",
       "\t<tr><td>30</td><td>40.23214</td></tr>\n",
       "\t<tr><td>31</td><td>41.70149</td></tr>\n",
       "\t<tr><td>32</td><td>55.24667</td></tr>\n",
       "\t<tr><td>33</td><td>47.17910</td></tr>\n",
       "\t<tr><td>34</td><td>46.77905</td></tr>\n",
       "\t<tr><td>35</td><td>57.77143</td></tr>\n",
       "\t<tr><td>36</td><td>48.11361</td></tr>\n",
       "\t<tr><td>37</td><td>46.99924</td></tr>\n",
       "\t<tr><td>38</td><td>43.65263</td></tr>\n",
       "\t<tr><td>39</td><td>45.75703</td></tr>\n",
       "\t<tr><td>40</td><td>46.58043</td></tr>\n",
       "\t<tr><td>41</td><td>57.44444</td></tr>\n",
       "\t<tr><td>42</td><td>50.33817</td></tr>\n",
       "\t<tr><td>44</td><td>41.14286</td></tr>\n",
       "\t<tr><td>45</td><td>45.34227</td></tr>\n",
       "\t<tr><td>46</td><td>53.50000</td></tr>\n",
       "\t<tr><td>47</td><td>49.57803</td></tr>\n",
       "\t<tr><td>48</td><td>47.92890</td></tr>\n",
       "\t<tr><td>49</td><td>41.92827</td></tr>\n",
       "\t<tr><td>50</td><td>45.78333</td></tr>\n",
       "\t<tr><td>51</td><td>51.14524</td></tr>\n",
       "\t<tr><td>53</td><td>48.20724</td></tr>\n",
       "\t<tr><td>54</td><td>47.75849</td></tr>\n",
       "\t<tr><td>55</td><td>49.97736</td></tr>\n",
       "\t<tr><td>56</td><td>41.62000</td></tr>\n",
       "</tbody>\n",
       "</table>\n"
      ],
      "text/latex": [
       "A tibble: 51 × 2\n",
       "\\begin{tabular}{ll}\n",
       " STATE & age\\\\\n",
       " <fct> & <dbl>\\\\\n",
       "\\hline\n",
       "\t 1  & 45.68950\\\\\n",
       "\t 2  & 41.23188\\\\\n",
       "\t 4  & 84.69323\\\\\n",
       "\t 5  & 44.23729\\\\\n",
       "\t 6  & 47.52593\\\\\n",
       "\t 8  & 42.86224\\\\\n",
       "\t 9  & 51.23551\\\\\n",
       "\t 10 & 41.74038\\\\\n",
       "\t 11 & 37.66667\\\\\n",
       "\t 12 & 72.83568\\\\\n",
       "\t 13 & 45.17271\\\\\n",
       "\t 15 & 56.80909\\\\\n",
       "\t 16 & 42.88679\\\\\n",
       "\t 17 & 51.19093\\\\\n",
       "\t 18 & 47.79974\\\\\n",
       "\t 19 & 46.97595\\\\\n",
       "\t 20 & 48.22131\\\\\n",
       "\t 21 & 49.94880\\\\\n",
       "\t 22 & 47.30028\\\\\n",
       "\t 23 & 48.34375\\\\\n",
       "\t 24 & 47.49789\\\\\n",
       "\t 25 & 46.59475\\\\\n",
       "\t 26 & 46.26077\\\\\n",
       "\t 27 & 49.51862\\\\\n",
       "\t 28 & 48.44556\\\\\n",
       "\t 29 & 53.25000\\\\\n",
       "\t 30 & 40.23214\\\\\n",
       "\t 31 & 41.70149\\\\\n",
       "\t 32 & 55.24667\\\\\n",
       "\t 33 & 47.17910\\\\\n",
       "\t 34 & 46.77905\\\\\n",
       "\t 35 & 57.77143\\\\\n",
       "\t 36 & 48.11361\\\\\n",
       "\t 37 & 46.99924\\\\\n",
       "\t 38 & 43.65263\\\\\n",
       "\t 39 & 45.75703\\\\\n",
       "\t 40 & 46.58043\\\\\n",
       "\t 41 & 57.44444\\\\\n",
       "\t 42 & 50.33817\\\\\n",
       "\t 44 & 41.14286\\\\\n",
       "\t 45 & 45.34227\\\\\n",
       "\t 46 & 53.50000\\\\\n",
       "\t 47 & 49.57803\\\\\n",
       "\t 48 & 47.92890\\\\\n",
       "\t 49 & 41.92827\\\\\n",
       "\t 50 & 45.78333\\\\\n",
       "\t 51 & 51.14524\\\\\n",
       "\t 53 & 48.20724\\\\\n",
       "\t 54 & 47.75849\\\\\n",
       "\t 55 & 49.97736\\\\\n",
       "\t 56 & 41.62000\\\\\n",
       "\\end{tabular}\n"
      ],
      "text/markdown": [
       "\n",
       "A tibble: 51 × 2\n",
       "\n",
       "| STATE &lt;fct&gt; | age &lt;dbl&gt; |\n",
       "|---|---|\n",
       "| 1  | 45.68950 |\n",
       "| 2  | 41.23188 |\n",
       "| 4  | 84.69323 |\n",
       "| 5  | 44.23729 |\n",
       "| 6  | 47.52593 |\n",
       "| 8  | 42.86224 |\n",
       "| 9  | 51.23551 |\n",
       "| 10 | 41.74038 |\n",
       "| 11 | 37.66667 |\n",
       "| 12 | 72.83568 |\n",
       "| 13 | 45.17271 |\n",
       "| 15 | 56.80909 |\n",
       "| 16 | 42.88679 |\n",
       "| 17 | 51.19093 |\n",
       "| 18 | 47.79974 |\n",
       "| 19 | 46.97595 |\n",
       "| 20 | 48.22131 |\n",
       "| 21 | 49.94880 |\n",
       "| 22 | 47.30028 |\n",
       "| 23 | 48.34375 |\n",
       "| 24 | 47.49789 |\n",
       "| 25 | 46.59475 |\n",
       "| 26 | 46.26077 |\n",
       "| 27 | 49.51862 |\n",
       "| 28 | 48.44556 |\n",
       "| 29 | 53.25000 |\n",
       "| 30 | 40.23214 |\n",
       "| 31 | 41.70149 |\n",
       "| 32 | 55.24667 |\n",
       "| 33 | 47.17910 |\n",
       "| 34 | 46.77905 |\n",
       "| 35 | 57.77143 |\n",
       "| 36 | 48.11361 |\n",
       "| 37 | 46.99924 |\n",
       "| 38 | 43.65263 |\n",
       "| 39 | 45.75703 |\n",
       "| 40 | 46.58043 |\n",
       "| 41 | 57.44444 |\n",
       "| 42 | 50.33817 |\n",
       "| 44 | 41.14286 |\n",
       "| 45 | 45.34227 |\n",
       "| 46 | 53.50000 |\n",
       "| 47 | 49.57803 |\n",
       "| 48 | 47.92890 |\n",
       "| 49 | 41.92827 |\n",
       "| 50 | 45.78333 |\n",
       "| 51 | 51.14524 |\n",
       "| 53 | 48.20724 |\n",
       "| 54 | 47.75849 |\n",
       "| 55 | 49.97736 |\n",
       "| 56 | 41.62000 |\n",
       "\n"
      ],
      "text/plain": [
       "   STATE age     \n",
       "1  1     45.68950\n",
       "2  2     41.23188\n",
       "3  4     84.69323\n",
       "4  5     44.23729\n",
       "5  6     47.52593\n",
       "6  8     42.86224\n",
       "7  9     51.23551\n",
       "8  10    41.74038\n",
       "9  11    37.66667\n",
       "10 12    72.83568\n",
       "11 13    45.17271\n",
       "12 15    56.80909\n",
       "13 16    42.88679\n",
       "14 17    51.19093\n",
       "15 18    47.79974\n",
       "16 19    46.97595\n",
       "17 20    48.22131\n",
       "18 21    49.94880\n",
       "19 22    47.30028\n",
       "20 23    48.34375\n",
       "21 24    47.49789\n",
       "22 25    46.59475\n",
       "23 26    46.26077\n",
       "24 27    49.51862\n",
       "25 28    48.44556\n",
       "26 29    53.25000\n",
       "27 30    40.23214\n",
       "28 31    41.70149\n",
       "29 32    55.24667\n",
       "30 33    47.17910\n",
       "31 34    46.77905\n",
       "32 35    57.77143\n",
       "33 36    48.11361\n",
       "34 37    46.99924\n",
       "35 38    43.65263\n",
       "36 39    45.75703\n",
       "37 40    46.58043\n",
       "38 41    57.44444\n",
       "39 42    50.33817\n",
       "40 44    41.14286\n",
       "41 45    45.34227\n",
       "42 46    53.50000\n",
       "43 47    49.57803\n",
       "44 48    47.92890\n",
       "45 49    41.92827\n",
       "46 50    45.78333\n",
       "47 51    51.14524\n",
       "48 53    48.20724\n",
       "49 54    47.75849\n",
       "50 55    49.97736\n",
       "51 56    41.62000"
      ]
     },
     "metadata": {},
     "output_type": "display_data"
    }
   ],
   "source": [
    "library(tidyverse)\n",
    "FARS %>% group_by(STATE) %>% \n",
    "  summarise(age= mean(AGE))"
   ]
  },
  {
   "cell_type": "markdown",
   "metadata": {
    "slideshow": {
     "slide_type": "slide"
    }
   },
   "source": [
    "# IF loops\n",
    "\n",
    "### Conditional loops\n",
    "\n",
    "## if (test_expression) {\n",
    "## statement\n",
    "## }\n",
    "\n",
    "## We can add multiple options to the conditions in a in loop\n",
    "\n",
    "### if (test_expression) {\n",
    "### statement1\n",
    "### } else {\n",
    "### statement2\n",
    "### }\n",
    "\n",
    "\n",
    "![title](r-if-else-statement.jpg)\n"
   ]
  },
  {
   "cell_type": "code",
   "execution_count": 44,
   "metadata": {
    "slideshow": {
     "slide_type": "slide"
    }
   },
   "outputs": [
    {
     "name": "stdout",
     "output_type": "stream",
     "text": [
      "[1] \"Negative number\"\n"
     ]
    }
   ],
   "source": [
    "x <- -5\n",
    "if(x > 0){\n",
    "print(\"Non-negative number\")\n",
    "} else {\n",
    "print(\"Negative number\")\n",
    "}"
   ]
  },
  {
   "cell_type": "code",
   "execution_count": 45,
   "metadata": {
    "slideshow": {
     "slide_type": "slide"
    }
   },
   "outputs": [
    {
     "data": {
      "text/html": [
       "26.8256533266002"
      ],
      "text/latex": [
       "26.8256533266002"
      ],
      "text/markdown": [
       "26.8256533266002"
      ],
      "text/plain": [
       "[1] 26.82565"
      ]
     },
     "metadata": {},
     "output_type": "display_data"
    }
   ],
   "source": [
    "##Nested if loops\n",
    "##Calculate mean age for people younger than 40\n",
    "mean_age <- NULL\n",
    "total <- NULL\n",
    "for(i in 1:length(FARS$AGE)){\n",
    "  if (FARS$AGE[i] < 40){\n",
    "    total <- sum(total, FARS$AGE[i])\n",
    "  }\n",
    "}\n",
    "mean_age <- total/length(FARS$AGE[FARS$AGE<40])\n",
    "mean_age"
   ]
  },
  {
   "cell_type": "code",
   "execution_count": 46,
   "metadata": {
    "slideshow": {
     "slide_type": "slide"
    }
   },
   "outputs": [],
   "source": [
    "#How can I do the same with the mean Function, tydiverse package??"
   ]
  },
  {
   "cell_type": "code",
   "execution_count": 47,
   "metadata": {
    "slideshow": {
     "slide_type": "slide"
    }
   },
   "outputs": [],
   "source": [
    "####Calculate mean age for people younger than 40 and get gender\n",
    "mean_age <- NULL\n",
    "total <- NULL\n",
    "gender <- vector()\n",
    "age <- NULL\n",
    "for(i in 1:length(FARS$AGE)){\n",
    "  if (FARS$AGE[i] < 40){\n",
    "    total <- sum(total, FARS$AGE[i])\n",
    "    gender = c(gender,FARS$SEX[i])\n",
    "    age = c(age,FARS$AGE[i])\n",
    "    \n",
    "  }\n",
    "}"
   ]
  },
  {
   "cell_type": "code",
   "execution_count": 48,
   "metadata": {
    "slideshow": {
     "slide_type": "slide"
    }
   },
   "outputs": [
    {
     "data": {
      "image/png": "[encoded data removed]",
      "text/plain": [
       "plot without title"
      ]
     },
     "metadata": {
      "image/png": {
       "height": 420,
       "width": 420
      },
      "text/plain": {
       "height": 420,
       "width": 420
      }
     },
     "output_type": "display_data"
    }
   ],
   "source": [
    "ageGen = as.data.frame(cbind(gender,age))\n",
    "ageGen$gender = as.factor(ageGen$gender)\n",
    "ggplot(ageGen, aes(x= gender,y=age))+geom_boxplot()"
   ]
  },
  {
   "cell_type": "markdown",
   "metadata": {
    "slideshow": {
     "slide_type": "slide"
    }
   },
   "source": [
    "## ifelse function\n"
   ]
  },
  {
   "cell_type": "code",
   "execution_count": 49,
   "metadata": {
    "slideshow": {
     "slide_type": "slide"
    }
   },
   "outputs": [
    {
     "data": {
      "text/html": [
       "<ol class=list-inline>\n",
       "\t<li>'odd'</li>\n",
       "\t<li>'odd'</li>\n",
       "\t<li>'even'</li>\n",
       "\t<li>'odd'</li>\n",
       "</ol>\n"
      ],
      "text/latex": [
       "\\begin{enumerate*}\n",
       "\\item 'odd'\n",
       "\\item 'odd'\n",
       "\\item 'even'\n",
       "\\item 'odd'\n",
       "\\end{enumerate*}\n"
      ],
      "text/markdown": [
       "1. 'odd'\n",
       "2. 'odd'\n",
       "3. 'even'\n",
       "4. 'odd'\n",
       "\n",
       "\n"
      ],
      "text/plain": [
       "[1] \"odd\"  \"odd\"  \"even\" \"odd\" "
      ]
     },
     "metadata": {},
     "output_type": "display_data"
    }
   ],
   "source": [
    "a = c(5,7,2,9)\n",
    "ifelse(a %% 2 == 0,\"even\",\"odd\")"
   ]
  },
  {
   "cell_type": "code",
   "execution_count": 50,
   "metadata": {
    "slideshow": {
     "slide_type": "slide"
    }
   },
   "outputs": [
    {
     "data": {
      "image/png": "[encoded data removed]",
      "text/plain": [
       "Plot with title “Histogram of urb_young”"
      ]
     },
     "metadata": {
      "image/png": {
       "height": 420,
       "width": 420
      },
      "text/plain": {
       "height": 420,
       "width": 420
      }
     },
     "output_type": "display_data"
    }
   ],
   "source": [
    "##Ifelse\n",
    "urb_young = ifelse(FARS$RUR_URB==1 & FARS$AGE <=40, FARS$AGE,NA)\n",
    "hist(urb_young)"
   ]
  },
  {
   "cell_type": "markdown",
   "metadata": {
    "slideshow": {
     "slide_type": "slide"
    }
   },
   "source": [
    "# Functions are a packaged set of instructions that convert inputs into outputs\n",
    "\n",
    "### There are built-in functions (sum, mean, sd, colmeans, table, etc). Compiled list of useful functions\n",
    "\n",
    "### User can also construct its own functions."
   ]
  },
  {
   "cell_type": "markdown",
   "metadata": {
    "slideshow": {
     "slide_type": "slide"
    }
   },
   "source": [
    "# When to write a function\n",
    "\n",
    "## If your script is 1000 lines long\n",
    "\n",
    "## When you use a lot of copy and paste\n",
    "\n",
    "## When you have lots of loops (for, if, while, etc) in your script or apply functions.\n",
    "\n",
    "### More on functions [Functions](https://psyr.org/functions.html)\n"
   ]
  },
  {
   "cell_type": "markdown",
   "metadata": {
    "slideshow": {
     "slide_type": "slide"
    }
   },
   "source": [
    "## How to write a function\n",
    "\n",
    "### func_name <- function (argument) {\n",
    "### statement\n",
    "### }"
   ]
  },
  {
   "cell_type": "code",
   "execution_count": 51,
   "metadata": {
    "slideshow": {
     "slide_type": "slide"
    }
   },
   "outputs": [],
   "source": [
    "##Functions\n",
    "doubleVal = function(n){\n",
    "  doub = 2 * n\n",
    "  return(doub) ## or simply doub\n",
    "}"
   ]
  },
  {
   "cell_type": "code",
   "execution_count": 52,
   "metadata": {
    "slideshow": {
     "slide_type": "slide"
    }
   },
   "outputs": [
    {
     "data": {
      "text/html": [
       "20"
      ],
      "text/latex": [
       "20"
      ],
      "text/markdown": [
       "20"
      ],
      "text/plain": [
       "[1] 20"
      ]
     },
     "metadata": {},
     "output_type": "display_data"
    }
   ],
   "source": [
    "doubleVal(10)\n"
   ]
  },
  {
   "cell_type": "code",
   "execution_count": 53,
   "metadata": {
    "slideshow": {
     "slide_type": "slide"
    }
   },
   "outputs": [
    {
     "data": {
      "text/html": [
       "<ol class=list-inline>\n",
       "\t<li>10</li>\n",
       "\t<li>12</li>\n",
       "\t<li>8</li>\n",
       "\t<li>10</li>\n",
       "\t<li>12</li>\n",
       "</ol>\n"
      ],
      "text/latex": [
       "\\begin{enumerate*}\n",
       "\\item 10\n",
       "\\item 12\n",
       "\\item 8\n",
       "\\item 10\n",
       "\\item 12\n",
       "\\end{enumerate*}\n"
      ],
      "text/markdown": [
       "1. 10\n",
       "2. 12\n",
       "3. 8\n",
       "4. 10\n",
       "5. 12\n",
       "\n",
       "\n"
      ],
      "text/plain": [
       "[1] 10 12  8 10 12"
      ]
     },
     "metadata": {},
     "output_type": "display_data"
    }
   ],
   "source": [
    "doubleVal(c(5,6,4,5,6))"
   ]
  },
  {
   "cell_type": "code",
   "execution_count": 57,
   "metadata": {
    "slideshow": {
     "slide_type": "slide"
    }
   },
   "outputs": [],
   "source": [
    "check <- function(x) {\n",
    "if (x > 0) {\n",
    "result <- \"Positive\"\n",
    "}\n",
    "else if (x < 0) {\n",
    "result <- \"Negative\"\n",
    "}\n",
    "else {\n",
    "result <- \"Zero\"\n",
    "}\n",
    "return(result)\n",
    "}"
   ]
  },
  {
   "cell_type": "code",
   "execution_count": 59,
   "metadata": {
    "slideshow": {
     "slide_type": "slide"
    }
   },
   "outputs": [
    {
     "data": {
      "text/html": [
       "'Zero'"
      ],
      "text/latex": [
       "'Zero'"
      ],
      "text/markdown": [
       "'Zero'"
      ],
      "text/plain": [
       "[1] \"Zero\""
      ]
     },
     "metadata": {},
     "output_type": "display_data"
    }
   ],
   "source": [
    "check(0)"
   ]
  },
  {
   "cell_type": "code",
   "execution_count": 54,
   "metadata": {
    "slideshow": {
     "slide_type": "slide"
    }
   },
   "outputs": [],
   "source": [
    "# function example - get measures of central tendency\n",
    "# and spread for a numeric vector x. The user has a\n",
    "# choice of measures and whether the results are printed.\n",
    "\n",
    "#from https://www.statmethods.net/management/userfunctions.html\n",
    "mysummary <- function(x,npar=TRUE,print=TRUE) {\n",
    "  if (!npar) {\n",
    "    center <- mean(x); spread <- sd(x)\n",
    "  } else {\n",
    "    center <- median(x); spread <- mad(x)\n",
    "  }\n",
    "  if (print & !npar) {\n",
    "    cat(\"Mean=\", center, \"\\n\", \"SD=\", spread, \"\\n\")\n",
    "  } else if (print & npar) {\n",
    "    cat(\"Median=\", center, \"\\n\", \"MAD=\", spread, \"\\n\")\n",
    "  }\n",
    "  result <- list(center=center,spread=spread)\n",
    "  return(result)\n",
    "}"
   ]
  },
  {
   "cell_type": "code",
   "execution_count": 55,
   "metadata": {
    "slideshow": {
     "slide_type": "slide"
    }
   },
   "outputs": [
    {
     "name": "stdout",
     "output_type": "stream",
     "text": [
      "Median= 4 \n",
      " MAD= 1.4826 \n"
     ]
    }
   ],
   "source": [
    "set.seed(1234)\n",
    "x <- rpois(500, 4)\n",
    "y <- mysummary(x)"
   ]
  },
  {
   "cell_type": "code",
   "execution_count": 56,
   "metadata": {
    "slideshow": {
     "slide_type": "slide"
    }
   },
   "outputs": [
    {
     "data": {
      "text/html": [
       "<dl>\n",
       "\t<dt>$center</dt>\n",
       "\t\t<dd>4.052</dd>\n",
       "\t<dt>$spread</dt>\n",
       "\t\t<dd>2.01926989325439</dd>\n",
       "</dl>\n"
      ],
      "text/latex": [
       "\\begin{description}\n",
       "\\item[\\$center] 4.052\n",
       "\\item[\\$spread] 2.01926989325439\n",
       "\\end{description}\n"
      ],
      "text/markdown": [
       "$center\n",
       ":   4.052\n",
       "$spread\n",
       ":   2.01926989325439\n",
       "\n",
       "\n"
      ],
      "text/plain": [
       "$center\n",
       "[1] 4.052\n",
       "\n",
       "$spread\n",
       "[1] 2.01927\n"
      ]
     },
     "metadata": {},
     "output_type": "display_data"
    }
   ],
   "source": [
    "y <- mysummary(x, npar=FALSE, print=FALSE)\n",
    "y"
   ]
  }
 ],
 "metadata": {
  "celltoolbar": "Slideshow",
  "kernelspec": {
   "display_name": "R",
   "language": "R",
   "name": "ir"
  },
  "language_info": {
   "codemirror_mode": "r",
   "file_extension": ".r",
   "mimetype": "text/x-r-source",
   "name": "R",
   "pygments_lexer": "r",
   "version": "3.6.1"
  }
 },
 "nbformat": 4,
 "nbformat_minor": 2
}
