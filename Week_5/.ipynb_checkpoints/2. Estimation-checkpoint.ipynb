{
 "cells": [
  {
   "cell_type": "markdown",
   "metadata": {},
   "source": [
    "## 2. Estimation"
   ]
  },
  {
   "cell_type": "markdown",
   "metadata": {},
   "source": [
    "### Every time we draw a random sample and perform an inferencial (or even bayesian) test, we cannot explicitly confirm that our null or alternative hypothesis is correct. The most we can say is that there is a probability that this sample reflects in some way the population."
   ]
  },
  {
   "cell_type": "code",
   "execution_count": null,
   "metadata": {},
   "outputs": [],
   "source": []
  },
  {
   "cell_type": "markdown",
   "metadata": {},
   "source": [
    "### We reviewed las week our first type of inference that was when we knew the mean and variance from the population and we wanted to infer the relationship between a random sample and the population."
   ]
  },
  {
   "cell_type": "code",
   "execution_count": null,
   "metadata": {},
   "outputs": [],
   "source": []
  },
  {
   "cell_type": "markdown",
   "metadata": {},
   "source": [
    "### Now we will take a quick overview of some parametric test statistics used to compared distributions"
   ]
  },
  {
   "cell_type": "markdown",
   "metadata": {},
   "source": [
    "## Now lets see inference statistics when we compare two samples.\n",
    "\n",
    "### When can we use these tests?\n",
    "\n",
    "- Compare the efficacy between two different drugs \n",
    "- Average time difference between two enzymes activation times\n",
    "- Testing two production lines to see if their outputs are different\n",
    "- Comparing test scores\n"
   ]
  },
  {
   "cell_type": "markdown",
   "metadata": {},
   "source": [
    "## A. Two samples tests when Population Variances Are Equal"
   ]
  },
  {
   "cell_type": "code",
   "execution_count": null,
   "metadata": {},
   "outputs": [],
   "source": [
    "##A study was conducted to compare the weights of shepherd dogs and Bullmastiffs in pounds\n",
    "\n",
    "A= c(175, 168, 168, 190, 156, 181, 182, 175, 174, 179)\n",
    "B= c(185, 169, 173, 173, 188, 186, 175, 174, 179, 180)\n",
    "\n",
    "mean(A) \n",
    "sd(A)\n",
    "mean(B)\n",
    "sd(B)"
   ]
  },
  {
   "cell_type": "code",
   "execution_count": null,
   "metadata": {},
   "outputs": [],
   "source": [
    "boxplot(A,B)"
   ]
  },
  {
   "cell_type": "code",
   "execution_count": null,
   "metadata": {},
   "outputs": [],
   "source": [
    "dA = density(A)\n",
    "dB = density(B)\n",
    "plot(dB)\n",
    "lines(dA, col = \"red\")"
   ]
  },
  {
   "cell_type": "markdown",
   "metadata": {},
   "source": [
    "### First, we need to determine if these samples share the same variances (remember homoskedasticity ?). For this we are going to use a fisher's F test."
   ]
  },
  {
   "cell_type": "code",
   "execution_count": null,
   "metadata": {
    "scrolled": true
   },
   "outputs": [],
   "source": [
    "var.test(A,B,conf.level = 0.95)"
   ]
  },
  {
   "cell_type": "code",
   "execution_count": null,
   "metadata": {},
   "outputs": [],
   "source": [
    "qf(0.95, 9, 9) ###This would be the critical value for the F distribution comparing variances of the two samples"
   ]
  },
  {
   "cell_type": "markdown",
   "metadata": {},
   "source": [
    "### Lets run the two sample t-test"
   ]
  },
  {
   "cell_type": "code",
   "execution_count": null,
   "metadata": {
    "scrolled": true
   },
   "outputs": [],
   "source": [
    "t.test(A,B, var.equal=TRUE, paired=FALSE)"
   ]
  },
  {
   "cell_type": "code",
   "execution_count": null,
   "metadata": {},
   "outputs": [],
   "source": [
    "qt(0.975, 18) ##critical value"
   ]
  },
  {
   "cell_type": "markdown",
   "metadata": {},
   "source": [
    "### Lets look at the statistic"
   ]
  },
  {
   "cell_type": "markdown",
   "metadata": {},
   "source": [
    "$$H_0: \\mu_X = \\mu_Y \\mbox{ vs. } H_1: \\mu_X \\neq \\mu_Y$$\n",
    "\n",
    "\n",
    "$$T=\\frac{\\bar X - \\bar Y }{S_p\\sqrt{1/n + 1/m}} .$$\n",
    "\n",
    "\n",
    "Reject $H_0$ if $|T| > t_{\\alpha/2,n+m-2}$.\n",
    "\n",
    "follows a $t_{n+m−2}$ distribution where $S_p^2$, the pooled sample variance:\n",
    "\n",
    "$$S_p^2 = \\frac{(n-1)S_X^2 + (m-1)S_Y^2}{n+m-2}.$$\n",
    "\n",
    "---"
   ]
  },
  {
   "cell_type": "markdown",
   "metadata": {},
   "source": [
    "## B. Two samples tests when Population Variances Are unequal\n",
    "\n",
    "$$\\sigma_{x}^2 \\neq \\sigma_{y}^2 $$\n",
    "\n",
    "We can use the t statistic\n",
    "\n",
    "$$T=\\frac{\\bar X - \\bar Y }{\\sqrt{\\frac{S_{x}^2}{n} + \\frac{S_{y}^2}{m}}} $$\n",
    "\n",
    "#### follows, at least approximately, a tr distribution where r, the adjusted degrees of freedom is determined by the equation:\n",
    "\n",
    "$$ r = \\frac{\\big({\\frac{S_{x}^2}{n} + \\frac{S_{y}^2}{m}}\\big)^2}{\\frac{(\\frac{S_{x}^2}{n})^2}{n-1}+\\frac{(\\frac{S_{y}^2}{m})^2}{m-1}}$$\n"
   ]
  },
  {
   "cell_type": "code",
   "execution_count": null,
   "metadata": {},
   "outputs": [],
   "source": [
    "t.test(A,B, var.equal=FALSE, paired=FALSE)"
   ]
  },
  {
   "cell_type": "markdown",
   "metadata": {},
   "source": [
    "### Example 2: [https://onlinecourses.science.psu.edu/stat414/node/275](https://onlinecourses.science.psu.edu/stat414/node/275)\n",
    "A psychologist was interested in exploring whether or not male and female college students have different driving behaviors. There were a number of ways that she could quantify driving behaviors. She opted to focus on the fastest speed ever driven by an individual. Therefore, the particular statistical question she framed was as follows:\n",
    "\n",
    "          Is the mean fastest speed driven by male college students different than the mean fastest speed driven by female college students?\n",
    "          \n",
    "\n",
    "She conducted a survey of a random n = 34 male college students and a random m = 29 female college students. Here is a descriptive summary of the results of her survey\n",
    "\n",
    "![title](t_test.png)"
   ]
  },
  {
   "cell_type": "markdown",
   "metadata": {},
   "source": [
    "t= 3.56\n",
    "\n",
    "r = 55.5\n",
    "\n",
    "#### Critical value is:\n",
    "t(0.025,55) = 2.004\n",
    "\n",
    "#### P value is \n",
    "2×P($T_{55}$>3.54)\n",
    "\n",
    "=2(0.0004)\n",
    "\n",
    "=0.0008"
   ]
  },
  {
   "cell_type": "code",
   "execution_count": null,
   "metadata": {},
   "outputs": [],
   "source": [
    "2*pt(3.56,55, lower = F) ##P value"
   ]
  },
  {
   "cell_type": "markdown",
   "metadata": {},
   "source": [
    "## C. Paired Samples\n",
    "\n",
    "In this case we will compare two dependent samples:\n",
    "\n",
    "This case applies to cases where we obtain data from the same samples at different time points, or different tests applied to the same subjects.\n",
    "\n"
   ]
  },
  {
   "cell_type": "markdown",
   "metadata": {},
   "source": [
    "### To remove the dependence between the two samples by substracting each set of measurements\n",
    "$$D_i=X_i−Y_i$$\n",
    "\n",
    "$$T=\\frac{\\bar{d} - \\mu_0}{\\frac{S_d}{\\sqrt{n}}} $$ \n",
    "\n",
    "t-distribution with n−1 degrees of freedom"
   ]
  },
  {
   "cell_type": "markdown",
   "metadata": {},
   "source": [
    "### Example:\n",
    "\n",
    "A school athletics has taken a new instructor, and want to test the effectiveness of the new type of training proposed by comparing the average times of 10 runners in the 100 meters. Are below the time in seconds before and after training for each athlete."
   ]
  },
  {
   "cell_type": "code",
   "execution_count": null,
   "metadata": {},
   "outputs": [],
   "source": [
    "Before_training= c( 12.9, 13.5, 12.8, 15.6, 17.2, 19.2, 12.6, 15.3, 14.4, 11.3)\n",
    "After_training = c(12.0, 12.2, 11.2, 13.0, 15.0, 15.8, 12.2, 13.4, 12.9, 11.0)"
   ]
  },
  {
   "cell_type": "code",
   "execution_count": null,
   "metadata": {},
   "outputs": [],
   "source": [
    "boxplot(Before_training,After_training)"
   ]
  },
  {
   "cell_type": "code",
   "execution_count": null,
   "metadata": {},
   "outputs": [],
   "source": [
    "t.test(Before_training,After_training, paired=TRUE)"
   ]
  },
  {
   "cell_type": "code",
   "execution_count": null,
   "metadata": {},
   "outputs": [],
   "source": []
  },
  {
   "cell_type": "code",
   "execution_count": null,
   "metadata": {},
   "outputs": [],
   "source": []
  }
 ],
 "metadata": {
  "kernelspec": {
   "display_name": "R",
   "language": "R",
   "name": "ir"
  },
  "language_info": {
   "codemirror_mode": "r",
   "file_extension": ".r",
   "mimetype": "text/x-r-source",
   "name": "R",
   "pygments_lexer": "r",
   "version": "3.6.2"
  }
 },
 "nbformat": 4,
 "nbformat_minor": 2
}
