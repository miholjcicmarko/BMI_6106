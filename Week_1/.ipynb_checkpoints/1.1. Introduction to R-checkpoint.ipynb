{
 "cells": [
  {
   "cell_type": "markdown",
   "metadata": {},
   "source": [
    "# Introduction to Probability and Statistics \n",
    "## BMI 6106\n",
    "---\n",
    "### Week 1 Introduction to R"
   ]
  },
  {
   "cell_type": "markdown",
   "metadata": {},
   "source": [
    "## What is R.\n",
    "\n",
    "“R is a language and environment for statistical computing and graphics” [https://www.r-project.org/about.html](https://www.r-project.org/about.html) \n",
    "\n",
    "### Why R? \n",
    "\n",
    "We will take advantage of the programming, mathematical, graphic and ease of access documentation that R provides to develop our course.\n",
    "\n",
    "We will use Jupyter notebooks using the R Kernel to combine Mathematical theory with code, so you can learn and practice at your own pace"
   ]
  },
  {
   "cell_type": "markdown",
   "metadata": {},
   "source": [
    "Multiple ways to run R.\n",
    "\n",
    "* R as a standalone package\n",
    "* Command line\n",
    "* Multiple R IDEs (e.g. Rstudio)\n",
    "\n",
    "\n",
    "\n",
    "* **Using Jupyter notebooks**"
   ]
  },
  {
   "cell_type": "markdown",
   "metadata": {},
   "source": [
    "## How to Install R:\n",
    "\n",
    "* Go to [https://cran.r-project.org/mirrors.html](https://cran.r-project.org/mirrors.html)\n",
    "\n",
    "\n",
    "* Select a mirror to download the executables. e.g. Berkely: [https://cran.cnr.berkeley.edu/](https://cran.cnr.berkeley.edu/)\n",
    "\n",
    "\n",
    "* Click on Download R for (your operative system (Windows, Mac, etc), and follow the instructions."
   ]
  },
  {
   "cell_type": "markdown",
   "metadata": {},
   "source": [
    "### Once R is installed you can use it directly or install an IDE, I personally use Rstudio\n"
   ]
  },
  {
   "cell_type": "markdown",
   "metadata": {},
   "source": [
    "## Installing Rstudio:\n",
    "\n",
    "* After installing R, Go to [https://www.rstudio.com/products/rstudio/download/](https://www.rstudio.com/products/rstudio/download/)\n",
    "\n",
    "\n",
    "* Select download on the free option\n",
    "\n",
    "\n",
    "* Select an installer for your operative system\n",
    "\n",
    "\n",
    "* Follow the instructions\n",
    "\n",
    "\n",
    "\n",
    "\n",
    "## Let’s navigate a little the IDE."
   ]
  },
  {
   "cell_type": "code",
   "execution_count": null,
   "metadata": {},
   "outputs": [],
   "source": []
  }
 ],
 "metadata": {
  "kernelspec": {
   "display_name": "R",
   "language": "R",
   "name": "ir"
  },
  "language_info": {
   "codemirror_mode": "r",
   "file_extension": ".r",
   "mimetype": "text/x-r-source",
   "name": "R",
   "pygments_lexer": "r",
   "version": "3.6.1"
  }
 },
 "nbformat": 4,
 "nbformat_minor": 2
}
