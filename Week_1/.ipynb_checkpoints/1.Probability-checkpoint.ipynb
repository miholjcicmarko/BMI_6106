{
 "cells": [
  {
   "cell_type": "markdown",
   "metadata": {
    "slideshow": {
     "slide_type": "slide"
    }
   },
   "source": [
    "# 1. Definition of Probability"
   ]
  },
  {
   "cell_type": "markdown",
   "metadata": {
    "slideshow": {
     "slide_type": "slide"
    }
   },
   "source": [
    "### What is probability?\n",
    "\n",
    "Probability provides the tools to quantify and predict uncertainty. The theoretical foundations to which probability was created, relied on simple mathematical observations mostly from gambling.\n",
    "\n",
    "Uncertainty is a fundamental principle in our daily lives and in the functioning of our society (e.g. will the market start a downturn or will it countinue growing?; will it rain tomorrow?; What are the odds of X team winning the championship? Will I get fired or get a promotion? Will I pass the course with an A or a B?; etc.). Probability has provided society with the tools to reduce uncertainty by mathematically estimating the variables that affect each event with the main goal of making reliable predictions over these events.\n",
    "\n",
    "To correctly define probability we can look at its components:"
   ]
  },
  {
   "cell_type": "markdown",
   "metadata": {
    "slideshow": {
     "slide_type": "slide"
    }
   },
   "source": [
    "### 1. Probability space (sample space)\n",
    "\n",
    "The set of all possible outcomes of any random experiment is called sample space. We will use the letter S (set) or $\\Omega$ .\n",
    "\n",
    "if $\\Omega$ is a set, then $x \\in \\Omega$ means x (outcome) belongs to the set A \n",
    "\n",
    "0 is an empty set also called an impossible event\n",
    "\n",
    "\n",
    "e.g.\n",
    "\n",
    "Coin-toss: two outcomes H and T\n",
    "\n",
    "$\\Omega$ = {H,T}\n",
    "\n",
    "Dice : 6 outcomes\n",
    "\n",
    "$\\Omega$ = {1,2,3,4,5,6}\n",
    "\n",
    "Classroom subjects\n",
    "\n",
    "$\\Omega$ = {1,2,3,4,5,.....,32}"
   ]
  },
  {
   "cell_type": "code",
   "execution_count": 2,
   "metadata": {
    "slideshow": {
     "slide_type": "slide"
    }
   },
   "outputs": [
    {
     "data": {
      "text/html": [
       "<ol class=list-inline>\n",
       "\t<li>1</li>\n",
       "\t<li>2</li>\n",
       "\t<li>3</li>\n",
       "\t<li>4</li>\n",
       "\t<li>5</li>\n",
       "\t<li>6</li>\n",
       "</ol>\n"
      ],
      "text/latex": [
       "\\begin{enumerate*}\n",
       "\\item 1\n",
       "\\item 2\n",
       "\\item 3\n",
       "\\item 4\n",
       "\\item 5\n",
       "\\item 6\n",
       "\\end{enumerate*}\n"
      ],
      "text/markdown": [
       "1. 1\n",
       "2. 2\n",
       "3. 3\n",
       "4. 4\n",
       "5. 5\n",
       "6. 6\n",
       "\n",
       "\n"
      ],
      "text/plain": [
       "[1] 1 2 3 4 5 6"
      ]
     },
     "metadata": {},
     "output_type": "display_data"
    }
   ],
   "source": [
    "dice = c(1:6)\n",
    "dice \n",
    "\n",
    "##Write Function to simulate a random roll of one die"
   ]
  },
  {
   "cell_type": "markdown",
   "metadata": {
    "slideshow": {
     "slide_type": "slide"
    }
   },
   "source": [
    "### 2. What is a random experiment?\n",
    "\n",
    "A random experiment is an experiment where the outcome is determined by chance, or an experiment where we cannot be certain of the result. When we can be certain then we are talking about a Deterministic experiments\n",
    "\n",
    "Examples of random and deterministic experiments….\n",
    "\n",
    "#### Deterministic…\n",
    "\n",
    "2+2, day/night, Kelvin =  Celsius + 273.15, etc.\n",
    "\n",
    "#### Random\n",
    "\n",
    "coin toss, passing a class (why?), disease transmission, gene expression, life time of a computer, selection of patients with or without replacement in clinical trials……\n"
   ]
  },
  {
   "cell_type": "markdown",
   "metadata": {
    "slideshow": {
     "slide_type": "slide"
    }
   },
   "source": [
    "### Random experiments can be of two mutually exclusive classes: Discrete and Continuous \n",
    "\n",
    "What is a Discrete event? What is a continuous event?"
   ]
  },
  {
   "cell_type": "markdown",
   "metadata": {
    "slideshow": {
     "slide_type": "slide"
    }
   },
   "source": [
    "### 3. Events\n",
    "\n",
    "Event (A) is defined as the outcome(s) of taking a sample from the set. The event is always a subset of the sample space. We define a probability to each event.\n",
    "\n",
    "### $A \\in S $ or $ \\Omega$\n",
    "\n",
    "e.g. \n",
    "\n",
    "Coin tossed once and we get tails, this outcome is an event. We can assign the probability of getting this outcome before performing this experiment.\n",
    "\n",
    "### Events can be:\n",
    "\n",
    "** Independent:** event not affected by other events: coin toss\n",
    "\n",
    "** Dependent:** event IS affected by other events e.g. cards from a deck\n",
    "\n",
    "** Mutually exclusive (disjoint):** Two events cannot happen at the same time (e.g. in one experiment we can have only heads or tails but not both). If events A and B are disjoint then they have no outcomes in common that is A $\\bigcap$ B = 0 \n",
    "\n",
    "\n",
    "#### Other examples:\n",
    "\n",
    "if a dice is rolled once, denote E when the roll is an odd number\n",
    "\n",
    "E = {1,3,5} \n",
    "\n",
    "What is P(E)??"
   ]
  },
  {
   "cell_type": "code",
   "execution_count": null,
   "metadata": {
    "collapsed": true,
    "slideshow": {
     "slide_type": "-"
    }
   },
   "outputs": [],
   "source": []
  },
  {
   "cell_type": "markdown",
   "metadata": {
    "slideshow": {
     "slide_type": "slide"
    }
   },
   "source": [
    "** Example 2 **\n",
    "\n",
    "Composition of males and female in this classroom (clinical trial??) Random??\n",
    "\n",
    "## What is $\\Omega$"
   ]
  },
  {
   "cell_type": "code",
   "execution_count": null,
   "metadata": {
    "collapsed": true
   },
   "outputs": [],
   "source": []
  },
  {
   "cell_type": "markdown",
   "metadata": {
    "slideshow": {
     "slide_type": "slide"
    }
   },
   "source": [
    "### What is P(E) = males"
   ]
  },
  {
   "cell_type": "code",
   "execution_count": null,
   "metadata": {
    "collapsed": true
   },
   "outputs": [],
   "source": []
  },
  {
   "cell_type": "markdown",
   "metadata": {
    "slideshow": {
     "slide_type": "slide"
    }
   },
   "source": [
    "Equal chance to occur?\n",
    "\n",
    "in the case of a fair dice yes : sum of all possible outcomes  = 6, probability of each outcome is 1/6\n",
    "\n",
    "classroom?\n",
    "\n",
    "### Trials: every time we roll a dice, every time we obtain a subset from the sample space\n",
    "\n",
    "We can assign probabilities to each of these events but to assign probabilities we need to adhere to the following important rules that will help to mathematically define what is probability"
   ]
  },
  {
   "cell_type": "code",
   "execution_count": null,
   "metadata": {
    "collapsed": true
   },
   "outputs": [],
   "source": []
  }
 ],
 "metadata": {
  "celltoolbar": "Slideshow",
  "kernelspec": {
   "display_name": "R",
   "language": "R",
   "name": "ir"
  },
  "language_info": {
   "codemirror_mode": "r",
   "file_extension": ".r",
   "mimetype": "text/x-r-source",
   "name": "R",
   "pygments_lexer": "r",
   "version": "3.6.1"
  }
 },
 "nbformat": 4,
 "nbformat_minor": 2
}
