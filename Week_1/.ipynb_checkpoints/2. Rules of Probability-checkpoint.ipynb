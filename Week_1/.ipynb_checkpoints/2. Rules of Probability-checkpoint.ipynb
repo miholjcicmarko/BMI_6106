{
 "cells": [
  {
   "cell_type": "markdown",
   "metadata": {
    "slideshow": {
     "slide_type": "slide"
    }
   },
   "source": [
    "## 2. Rules of probability\n",
    "\n",
    "We will introduce the rules of probability using a simple example extracted from Bishop 2006 (Pattern Recognition and Machine Learning). In this example, we will have two boxes (one red and one blue), in the red box there are 2 apples and 6 oranges, and in the blue box there are 3 apples and 1 orange. \n",
    "\n",
    "Let us suppose that when randomly chosing one of the boxes, we select the red box 40% of the time and the blue box 60% of the time, and that when we remove an item of fruit from a box we are equally likely to select any of the pieces of fruit in the box.\n",
    "\n",
    "![title](Rules_probabilty_ex.png)\n",
    "\n",
    "A good website is [Rules of probability](https://bolt.mph.ufl.edu/6050-6052/unit-3/module-6/)"
   ]
  },
  {
   "cell_type": "markdown",
   "metadata": {},
   "source": [
    "Indentity of Box chose is random = A\n",
    "\n",
    "$\\Omega$ = {?}"
   ]
  },
  {
   "cell_type": "markdown",
   "metadata": {
    "slideshow": {
     "slide_type": "slide"
    }
   },
   "source": [
    "### Rule 1. \n",
    "\n",
    "For every event (A)\n",
    "\n",
    "P(A) $\\geq$ 0\n",
    "\n",
    "\n",
    "0 $\\leq$ P(A) $\\leq$ 1\n",
    "\n",
    "What is the probability of selecting the red box? the blue box?\n",
    "\n",
    "e.g. The probability of randomly selecting a fruit from the red box is always 1/8\n",
    "\n"
   ]
  },
  {
   "cell_type": "markdown",
   "metadata": {
    "slideshow": {
     "slide_type": "slide"
    }
   },
   "source": [
    "### Rule 2. \n",
    "\n",
    "P($\\Omega$) = 1 The sum of probabilities in the sample space always adds to 1 if the events are mutually exclusive. "
   ]
  },
  {
   "cell_type": "markdown",
   "metadata": {
    "slideshow": {
     "slide_type": "slide"
    }
   },
   "source": [
    "#### e.g. In one coin toss\n",
    "\n",
    "probability of obtaining head = 1/2 \n",
    "probability of tail = 1/2 \n",
    "\n",
    "P($\\Omega$) = 1\n",
    "\n",
    "In the boxes example, the probability of selecting the red box is 4/10 and the probability of selecting a blue box is 6/10\n",
    "\n",
    "P($\\Omega$ - Boxes) = 1"
   ]
  },
  {
   "cell_type": "markdown",
   "metadata": {
    "slideshow": {
     "slide_type": "slide"
    }
   },
   "source": [
    "### Rule 3. Addition rule. \n",
    "\n",
    "![title](addition.png)\n",
    "\n",
    "If A and B are disjoint = P(A $\\bigcap$ B) = 0 (Remember: Two events cannot happen at the same time (e.g. in one experiment we can have only heads or tails but not both), then the probability of at least one occurs (or) is the sum of the individual probabilities. More precisely put,\n",
    "\n",
    "P(A $\\bigcup$ B) = P(A) + P(B).\n",
    "\n",
    "or Generalizing\n",
    "\n",
    "$$ Pr \\Bigg(\\bigcup_{i=1}^{\\infty}A_i\\Bigg) =\\sum_{i=1}^{\\infty} Pr(A_i) $$"
   ]
  },
  {
   "cell_type": "markdown",
   "metadata": {
    "slideshow": {
     "slide_type": "slide"
    }
   },
   "source": [
    "Example\n",
    "\n",
    "Rolling a Die. \n",
    "\n",
    "For each subset A of $\\Omega$ = {1, 2, 3, 4, 5, 6}, let P(A) be the number of elements of A divided by 6. \n",
    "\n",
    "##### For example, \n",
    "P(1) = 1/6. \n",
    "\n",
    "P(1,2) = 1/6 + 1/6 = 2/6.\n",
    "\n",
    "\n",
    "Does it satisfies the first two axioms?. \n",
    "\n",
    "##### Example 2. the probability of selecting an apple or an orange from the red box is:\n",
    "\n",
    "1/4 + 3/4 = 4/4 = 1"
   ]
  },
  {
   "cell_type": "markdown",
   "metadata": {
    "collapsed": true,
    "slideshow": {
     "slide_type": "slide"
    }
   },
   "source": [
    "Exercise:\n",
    "\n",
    "In a pet store, there are 6 puppies, 9 kittens, 4 gerbils and 7 parakeets. If a pet is chosen at random, what is the probability of choosing a puppy or a parakeet?"
   ]
  },
  {
   "cell_type": "code",
   "execution_count": null,
   "metadata": {
    "slideshow": {
     "slide_type": "slide"
    }
   },
   "outputs": [],
   "source": []
  },
  {
   "cell_type": "markdown",
   "metadata": {
    "slideshow": {
     "slide_type": "slide"
    }
   },
   "source": [
    "### If the events are not mutually exclusive (there is some overlap between these events) \n",
    "\n",
    "\n",
    "P(A $\\bigcup$ B) = P(A) + P(B) - P(A and B) \n",
    "\n",
    "P(A and B) = P(A $\\bigcap$ B)\n",
    "\n",
    "The reason we have to subtract off P(A and B) is that otherwise it gets counted twice. For example, if I flip two coins, the chance of getting at least one tail is 1/2 + 1/2 - 1/4. I have to subtract 1/4 because otherwise I am counting heads-heads twice. The problem becomes even clearer if I toss three coins. \n",
    "\n",
    "e.g.\n",
    "\n",
    "Exercise 1: If I roll two dice, what is the chance of rolling at least one 6?"
   ]
  },
  {
   "cell_type": "code",
   "execution_count": null,
   "metadata": {
    "slideshow": {
     "slide_type": "-"
    }
   },
   "outputs": [],
   "source": []
  },
  {
   "cell_type": "markdown",
   "metadata": {
    "slideshow": {
     "slide_type": "slide"
    }
   },
   "source": [
    "#### Other examples of not mutually exclusive events:\n",
    "\n",
    "A student female or chemistry major\n",
    "\n",
    "Blood donor O or male"
   ]
  },
  {
   "cell_type": "markdown",
   "metadata": {
    "slideshow": {
     "slide_type": "slide"
    }
   },
   "source": [
    "### Rule 4. Multiplication Rule\n",
    "\n",
    "#### When events are mutually exclusive then:\n",
    "\n",
    "P(A and B) = P(A) * P(B)\n",
    "\n",
    "example: turn coin three times (3 trials), what is the probability of getting 3 heads\n",
    "\n",
    "each turn has a probability of 1/2 of being heads or tails.\n",
    "\n",
    "1/2 * 1/2 * 1/2 = 1/8\n",
    "\n",
    "##### Exercise: If I roll 100 dice, what is the chance of getting all sixes? What is the chance of getting no sixes?"
   ]
  },
  {
   "cell_type": "code",
   "execution_count": null,
   "metadata": {},
   "outputs": [],
   "source": []
  },
  {
   "cell_type": "markdown",
   "metadata": {
    "slideshow": {
     "slide_type": "slide"
    }
   },
   "source": [
    "#### When two events, A and B, are dependent, the probability of both occurring is:\n",
    "\n",
    "P (A and B) = p(A) * P(B|A) (probability of event B given that event A has already occurred)\n",
    "\n",
    "##### Example:\n",
    "\n",
    "A card is chosen at random from a standard deck of 52 playing cards. Without replacing it, a second card is chosen. What is the probability that the first card chosen is a queen and the second card chosen is a jack?\n",
    "\n",
    "4/52 * 4/51"
   ]
  },
  {
   "cell_type": "markdown",
   "metadata": {
    "slideshow": {
     "slide_type": "slide"
    }
   },
   "source": [
    "From the Multiplication rule we can introduce the concept of conditional probability\n",
    "\n",
    "##### Conditional Probability\n",
    "\n",
    "The conditional probability of an event B in relationship to an event A is the probability that event B occurs given that event A has already occurred.\n",
    "\n",
    "$$P(A|B) = \\frac{P(A and B)}{P(B)}$$"
   ]
  },
  {
   "cell_type": "code",
   "execution_count": null,
   "metadata": {},
   "outputs": [],
   "source": []
  },
  {
   "cell_type": "markdown",
   "metadata": {
    "slideshow": {
     "slide_type": "slide"
    }
   },
   "source": [
    "#### Exercise: A math teacher gave her class two tests. 25% of the class passed both tests and 42% of the class passed the first test. What percent of those who passed the first test also passed the second test?"
   ]
  },
  {
   "cell_type": "code",
   "execution_count": null,
   "metadata": {},
   "outputs": [],
   "source": []
  },
  {
   "cell_type": "markdown",
   "metadata": {
    "slideshow": {
     "slide_type": "slide"
    }
   },
   "source": [
    "Let's return to our boxes example, we can now write the conditional probabilities for each of each type of fruit on each box, which basically the proportion of each fruit on each box:\n",
    "\n",
    "p(F = a|B = r) = 1/4 \n",
    "\n",
    "p(F = o|B = r) = 3/4 \n",
    "\n",
    "p(F = a|B = b) = 3/4 \n",
    "\n",
    "p(F = o|B = b) = 1/4\n",
    "\n",
    "We can now use the sum and product rules of probability to evaluate the overall\n",
    "probability of choosing an apple\n",
    "\n",
    "p(F = a) =    p(F = a|B = r)p(B = r) + p(F = a|B = b)p(B = b)\n",
    "\n",
    "=                   1/4 * 4/10       +   3/4 * 6/10 = 11/20\n",
    "\n",
    "from which it follows, using the sum rule and the complement, that p(F = o) = 1 − 11/20 = 9/20"
   ]
  },
  {
   "cell_type": "code",
   "execution_count": null,
   "metadata": {},
   "outputs": [],
   "source": []
  },
  {
   "cell_type": "markdown",
   "metadata": {
    "slideshow": {
     "slide_type": "slide"
    }
   },
   "source": [
    "Suppose instead we are told that a piece of fruit has been selected and it is an orange, and we would like to know which box it came from. To calculate this, we need to reverse our conditioning by evaluating the probabilities of selecting boxes given the fruit identity.\n",
    "\n",
    "From the product rule: P (A,B) = p(A) * P(B|A) and the symetry property p (A,B) = p(B,A)\n",
    "\n",
    "then we can calculate the relationships between conditional probabilities so that:\n",
    "\n",
    "p(A|B)*p(B) = p(B|A) * P(A)\n",
    "\n",
    "### p(A|B) = p(B|A) * P(A) / p(B)\n",
    "\n",
    "This equation is called the **Bayes Theorem** and is one of the most important equation in bayesian statistics, machine learning and pattern recogniztion. Baye's theorem has applications in all fields, and it is the basis for bayesian inference as the theorem is used to determine the probabilities of event taking into consideration prior knowledge.\n",
    "\n",
    "![title](bayes'rule.png)\n",
    "\n",
    "Going back to our problem then we solve it using the bayes theorem:\n",
    "\n",
    "p(r|o) = p(o|r) * p (r) / p(o)\n",
    "\n",
    "p(r|o) = 3/4 * 4/10 * 20/9 \n",
    "\n",
    "p(r|o) = 2/3\n",
    "\n",
    "From the sum rule, it then follows that p(b|o) = 1 − 2/3 = 1/3.\n"
   ]
  },
  {
   "cell_type": "code",
   "execution_count": null,
   "metadata": {},
   "outputs": [],
   "source": []
  },
  {
   "cell_type": "markdown",
   "metadata": {},
   "source": []
  }
 ],
 "metadata": {
  "celltoolbar": "Slideshow",
  "kernelspec": {
   "display_name": "R",
   "language": "R",
   "name": "ir"
  },
  "language_info": {
   "codemirror_mode": "r",
   "file_extension": ".r",
   "mimetype": "text/x-r-source",
   "name": "R",
   "pygments_lexer": "r",
   "version": "3.6.1"
  }
 },
 "nbformat": 4,
 "nbformat_minor": 2
}
