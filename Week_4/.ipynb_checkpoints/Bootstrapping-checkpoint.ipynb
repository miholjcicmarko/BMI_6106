{
 "cells": [
  {
   "cell_type": "markdown",
   "metadata": {},
   "source": [
    "### Bootstrapping\n",
    "\n",
    "It is a resampling method where the values are sampled with replacement. Normally each sampling trial there is some estimate or parameter to be calculated (e.g. mean, sd, mode, etc)\n"
   ]
  },
  {
   "cell_type": "code",
   "execution_count": null,
   "metadata": {},
   "outputs": [],
   "source": [
    "#let's create a random vector of size 100 that represent weight of certain population\n",
    "\n",
    "#1. what kind of variable is this? \n",
    "#2. Which Distribution should we draw randome values from\n",
    "#3. Generate the random values\n",
    "#4. Sort them\n",
    "#5. Calculate the mean\n",
    "#6. plot histogram\n",
    "#7. do 100 Bootstraps\n",
    "#8. Calculate mean and sd\n",
    "#9. Create a Boxplot showing the spread of the bootstrap samples"
   ]
  },
  {
   "cell_type": "markdown",
   "metadata": {},
   "source": [
    "### Bias\n",
    "\n",
    "Bootstrapping can help us to calculate how biased or deviated our sample is theoretical population based on our estimates (e.g. mean, sd, var)\n",
    "\n",
    "remember that E(x) is the expected estimate from a random variable, this estimator can be the mean or the standard deviation.\n",
    "\n",
    "Another estimator of a random sample is $\\theta \\$[x]\n",
    "where:\n",
    "\n",
    "$b = E(\\theta [X] - \\theta )$\n",
    "\n",
    "where $\\theta$ is the population parameter estimated\n",
    "\n",
    "we want to calculate bias as the difference between the estimate from the sample minus the mean of the bootstrap estimates"
   ]
  },
  {
   "cell_type": "code",
   "execution_count": null,
   "metadata": {},
   "outputs": [],
   "source": [
    "##How much is the mean and variance of our random sample biased \n",
    "##from the mean of means or mean of variances from our 100 bootstraps\n",
    "\n"
   ]
  }
 ],
 "metadata": {
  "kernelspec": {
   "display_name": "R",
   "language": "R",
   "name": "ir"
  },
  "language_info": {
   "codemirror_mode": "r",
   "file_extension": ".r",
   "mimetype": "text/x-r-source",
   "name": "R",
   "pygments_lexer": "r",
   "version": "3.6.2"
  }
 },
 "nbformat": 4,
 "nbformat_minor": 2
}
