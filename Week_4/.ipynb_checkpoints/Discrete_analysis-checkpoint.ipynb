{
 "cells": [
  {
   "cell_type": "markdown",
   "metadata": {},
   "source": [
    "# Analysis of categorical data"
   ]
  },
  {
   "cell_type": "markdown",
   "metadata": {},
   "source": [
    "## Contingency table\n",
    "\n",
    "A contingency table is \"A statistical table that shows the observed frequencies of data elements classified according to two variables, with the rows indicating one variable and the columns indicating the other variable\". (American Heritage Dictionary of the English Language, 2009)\n",
    "\n",
    "Since we have two variables (outcome variable and the 'group'  or 'exposure' variable) and each of these variables have two possible values each (diseased/not diseased and exposure/not exposed), we can construct a 2 x 2 contingency table.  We call it a 2 x 2 table because there are two rows and two columns.  This is a subset of the R x C contingency tables (r rows and c columns). \n",
    "\n",
    "This type of tables are very common in epidimiology where the rows convey the disease category and the columns are the exposure category. The main goal is to compare the frequency of disease between the two treatments (in a 2x2 setting) which normally evaluates exposed and unexposed individuals."
   ]
  },
  {
   "cell_type": "markdown",
   "metadata": {
    "slideshow": {
     "slide_type": "slide"
    }
   },
   "source": [
    "## 2 x 2 CONTINGENCY TABLE\n",
    "$H0: P_{disease|exposed} = P_{disease|unexposed}$.\n",
    "\n",
    "Notation: $X_{ij}$ refers to the cell value in the ith row and jth column, e.g. $X_{11}$ is the cell in the 1st row and 1st column, $X_{12}$ is the cell in the 1st row and 2st column, etc\n",
    "\n",
    "For two-sample binomial variable where p = probability of success\n",
    "\n",
    "|Group| Success | Failure |Total |\n",
    "|--- | --- | --- | --- |\n",
    "|Group 1 | x11 | x12 | n1 = x11 + x12 |\n",
    "|Group 2 | x21 | x22 | n2 = x21 + x22 |\n",
    "|Total | c1 = x11 + x21 | c2 = x12 + x22 | N = n1 + n2 = c1 + c2 |\n",
    "\n",
    "Another way to denote this 2X2 contingency table is using the a,b,c,d notation\n",
    "\n",
    "|-|Case|Control|\n",
    "|---|---|---|\n",
    "|Exposed|a|\tb |\n",
    "|Unexposed|c|d|"
   ]
  },
  {
   "cell_type": "markdown",
   "metadata": {},
   "source": [
    "### Let's define some terms:\n",
    "\n",
    "    p1 = probability of developing disease in exposed (Group 1) individuals\n",
    "    p2 = probability of developing disease in unexposed (Group 2) individuals"
   ]
  },
  {
   "cell_type": "markdown",
   "metadata": {},
   "source": [
    "## Risk Difference\n",
    "\n",
    "We can calculate the absolute difference attributed to having the exposure using the risk difference (another way to name risk difference is attributable risk). In this case we will calculate the difference between the exposed group vs the unexposed group.\n",
    "\n",
    "    RD = p1 - p2\n",
    "    \n",
    "### Point and interval estimation for the Risk Difference\n",
    "\n",
    "To obtain an unbiased point estimate of the risk difference we used the sample proportions $ \\hat{p1} - \\hat{p2} $. to obtain a confident interval estimate we used the equations below, as these are categorical variables where the samples are independent from each other we can use the normal approximation to the binomial distribution.\n",
    "\n",
    "![title](Risk_difference.png)\n",
    "\n",
    "where z is the critical value following the standarized normal distribution, alpha is the confidence probability to obtain a 95% confidence interval for the difference in the proportion."
   ]
  },
  {
   "cell_type": "markdown",
   "metadata": {},
   "source": [
    "## Risk Ratio\n",
    "\n",
    "We can also obtain a point estimate for the risk ratio, which evaluates the strength of the association between the exposed and unexposed groups. The risk ratio of 1 indicates no risk, a risk ratio less than 1 indicates protective risk or low risk, and a risk ratio larger than 1 indicates increase risk.\n",
    "\n",
    "    RR = p1/p2\n",
    "    \n",
    "We can also calculate a confidence interval for the risk ratio. This CI also follows a normal approximation to the binomial distribution, assuming that the groups evaluated are independent. In this case as we are evaluating ratios we need to transform the distribution of the estimation of the risk ratios to the log of the distribution which is a closer approximation to the normal distribution than the distribution of risk ratios.\n",
    "\n",
    "![title](CI_RR.png)\n",
    "\n",
    "\n",
    "## Relative risk is another common way to name risk ratios. \n",
    "### The disadvantage of using relative risk is that the strenght of the relationship relies exclusively on the size of the probability of the denominator (the unexposed group). To avoid this constrain we can use another measure of comparing the proportions between exposed and unexposed groups which is the ODDS RATIO."
   ]
  },
  {
   "cell_type": "markdown",
   "metadata": {},
   "source": [
    "## Odds ratio\n",
    "\n",
    "The odds in favor of the probility of success can be defined as:\n",
    "\n",
    "    OR = p / (1-p)"
   ]
  },
  {
   "cell_type": "markdown",
   "metadata": {},
   "source": [
    "Odds ratio is a very common measure of effect used in many disciplines. As we just defined odds of success can be calucated as $\\frac {p}{(1-p)}$ where p is the probability of succes for any discrete event.  So, if the probability of getting a cold is 0.40 then the odds of getting a cold $= \\frac {0.40}{(1-0.40)}=  \\frac {0.40}{0.60}$  or 2 to 3; if the probability equals 0.25 then the odds are 1 to 3, if the probability is .75 then the odds are 3 to 1, etc."
   ]
  },
  {
   "cell_type": "markdown",
   "metadata": {
    "collapsed": true
   },
   "source": [
    "### Odds ratio of the proportions p1 and p2\n",
    "\n",
    "A common measure of effect in case-control studies is the odds – the odds of exposure among the diseased, and the odds of exposure among the not diseased.  If we take the ratio of these two odds, we have the …. **odds ratio:**\n",
    "\n",
    "$$\\frac {P_{d|e}/(1-P_{d|e})}{P_{d|e} /(1-P_{!d|e})}$$\n",
    "\n",
    "that can also be redefined as\n",
    "\n",
    "$$\\frac {\\hat{p1}\\hat{q2}}{\\hat{p2}\\hat{q1}}$$\n",
    "\n",
    "\n",
    "To calculate the odds ratio: construct a 2x2 contingency table with either cases in the first row and the presence of the risk factor in the first column (or the presence of the risk factor in the first row and cases in the first column).  You will see both scenarios in papers so you must learn it as the odds and not just as a, b, c and d.\n",
    "\n",
    "|-|Case|Control|\n",
    "|---|---|---|\n",
    "|Exposed|a|\tb |\n",
    "|Unexposed|c|d|\n",
    "\n",
    "Let $p_{case|exp}$ = probability of being a case among the exposed.  Then $p_{case|exp} = \\frac {a}{(a+b)}$\n",
    "\t\n",
    "then the odds of being a case among the exposed = $\\frac {a/(a+b)}{1-[a/(a+b)]} = \\frac {a}{b} $\n",
    " \n",
    "Let $p_{case|no-exp}$ = probability of being a case among the non-exposure.  Then $p_{case|no-exp} =\\frac  {c}{(c+d)} $\n",
    "\n",
    "and the odds of being case among the non-exposed = $\\frac {c/(c+d)}{1-[c/(c+d)]} = \\frac {c}{d} $\n",
    "\n",
    "Thus, the odds ratio of $\\frac {(odds \\ of \\ being \\ a  \\ case \\ among\\  the\\ exposed)}{(odds\\ of\\ being\\ a\\ case\\ among\\ the\\ unexposed)} = \\frac {a/b}{c/d} = \\frac {ad}{bc}$           \n",
    "\n",
    "As we have been previously reviewing OR can be used to evaluate the odds in favor of disease for an exposed group divided by the odds in favor of the disease for unexposed subjects, also known as the disease-odds. However, this approach can also be used for any 2x2 study."
   ]
  },
  {
   "cell_type": "markdown",
   "metadata": {},
   "source": [
    "One method (Woolf) for calculating the CI95 for the OR is:\n",
    "\n",
    "$\\large e^{ln⁡(\\hat{OR})±z_{1-∝/2} \\sqrt{(\\frac {1}{a} + \\frac {1}{b}+\\frac {1}{c}+\\frac {1}{d})}}\\large$\n",
    "\n",
    "Now, if the OR = 1 then the odds of disease among the exposed = odds of disease among the non-exposed which is equivalent to saying 'exposure does not appear to play a role in the disease.'  If the OR > 1 then exposed people are more likely to be diseased than those not exposed so it would appear that exposure is a risk.  If the OR < 1 then exposed people are less likely to be diseased than those that are unexposed, therefore the exposure has a protective effect (think medical treatment)."
   ]
  }
 ],
 "metadata": {
  "kernelspec": {
   "display_name": "R",
   "language": "R",
   "name": "ir"
  },
  "language_info": {
   "codemirror_mode": "r",
   "file_extension": ".r",
   "mimetype": "text/x-r-source",
   "name": "R",
   "pygments_lexer": "r",
   "version": "3.6.2"
  }
 },
 "nbformat": 4,
 "nbformat_minor": 2
}
