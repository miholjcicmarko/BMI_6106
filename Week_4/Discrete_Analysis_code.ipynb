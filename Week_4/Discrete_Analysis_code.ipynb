{
 "cells": [
  {
   "cell_type": "markdown",
   "metadata": {},
   "source": [
    "# Analysis of categorical data"
   ]
  },
  {
   "cell_type": "markdown",
   "metadata": {},
   "source": [
    "## Contingency table\n",
    "\n",
    "A contingency table is \"A statistical table that shows the observed frequencies of data elements classified according to two variables, with the rows indicating one variable and the columns indicating the other variable\". (American Heritage Dictionary of the English Language, 2009)\n",
    "\n",
    "Since we have two variables (outcome variable and the 'group'  or 'exposure' variable) and each of these variables have two possible values each (diseased/not diseased and exposure/not exposed), we can construct a 2 x 2 contingency table.  We call it a 2 x 2 table because there are two rows and two columns.  This is a subset of the R x C contingency tables (r rows and c columns). \n",
    "\n",
    "This type of tables are very common in epidimiology where the rows convey the disease category and the columns are the exposure category. The main goal is to compare the frequency of disease between the two treatments (in a 2x2 setting) which normally evaluates exposed and unexposed individuals."
   ]
  },
  {
   "cell_type": "markdown",
   "metadata": {
    "slideshow": {
     "slide_type": "slide"
    }
   },
   "source": [
    "## 2 x 2 CONTINGENCY TABLE\n",
    "$H0: P_{disease|exposed} = P_{disease|unexposed}$.\n",
    "\n",
    "Notation: $X_{ij}$ refers to the cell value in the ith row and jth column, e.g. $X_{11}$ is the cell in the 1st row and 1st column, $X_{12}$ is the cell in the 1st row and 2st column, etc\n",
    "\n",
    "For two-sample binomial variable where p = probability of success\n",
    "\n",
    "|Group| Success | Failure |Total |\n",
    "|--- | --- | --- | --- |\n",
    "|Group 1 | x11 | x12 | n1 = x11 + x12 |\n",
    "|Group 2 | x21 | x22 | n2 = x21 + x22 |\n",
    "|Total | c1 = x11 + x21 | c2 = x12 + x22 | N = n1 + n2 = c1 + c2 |\n",
    "\n",
    "Another way to denote this 2X2 contingency table is using the a,b,c,d notation\n",
    "\n",
    "|-|Case|Control|\n",
    "|---|---|---|\n",
    "|Exposed|a|\tb |\n",
    "|Unexposed|c|d|"
   ]
  },
  {
   "cell_type": "markdown",
   "metadata": {},
   "source": [
    "### Let's define some terms:\n",
    "\n",
    "    p1 = probability of developing disease in exposed (Group 1) individuals\n",
    "    p2 = probability of developing disease in unexposed (Group 2) individuals"
   ]
  },
  {
   "cell_type": "markdown",
   "metadata": {},
   "source": [
    "## Risk Difference\n",
    "\n",
    "We can calculate the absolute difference attributed to having the exposure using the risk difference (another way to name risk difference is attributable risk). In this case we will calculate the difference between the exposed group vs the unexposed group.\n",
    "\n",
    "    RD = p1 - p2"
   ]
  },
  {
   "cell_type": "code",
   "execution_count": 1,
   "metadata": {},
   "outputs": [
    {
     "data": {
      "text/html": [
       "<table>\n",
       "<caption>A data.frame: 6 × 5</caption>\n",
       "<thead>\n",
       "\t<tr><th></th><th scope=col>Age</th><th scope=col>LungCap</th><th scope=col>Height</th><th scope=col>Gender</th><th scope=col>Smoke</th></tr>\n",
       "\t<tr><th></th><th scope=col>&lt;int&gt;</th><th scope=col>&lt;dbl&gt;</th><th scope=col>&lt;dbl&gt;</th><th scope=col>&lt;fct&gt;</th><th scope=col>&lt;fct&gt;</th></tr>\n",
       "</thead>\n",
       "<tbody>\n",
       "\t<tr><th scope=row>1</th><td>9</td><td>3.124</td><td>57.0</td><td>female</td><td>no</td></tr>\n",
       "\t<tr><th scope=row>2</th><td>8</td><td>3.172</td><td>67.5</td><td>female</td><td>no</td></tr>\n",
       "\t<tr><th scope=row>3</th><td>7</td><td>3.160</td><td>54.5</td><td>female</td><td>no</td></tr>\n",
       "\t<tr><th scope=row>4</th><td>9</td><td>2.674</td><td>53.0</td><td>male  </td><td>no</td></tr>\n",
       "\t<tr><th scope=row>5</th><td>9</td><td>3.685</td><td>57.0</td><td>male  </td><td>no</td></tr>\n",
       "\t<tr><th scope=row>6</th><td>8</td><td>5.008</td><td>61.0</td><td>female</td><td>no</td></tr>\n",
       "</tbody>\n",
       "</table>\n"
      ],
      "text/latex": [
       "A data.frame: 6 × 5\n",
       "\\begin{tabular}{r|lllll}\n",
       "  & Age & LungCap & Height & Gender & Smoke\\\\\n",
       "  & <int> & <dbl> & <dbl> & <fct> & <fct>\\\\\n",
       "\\hline\n",
       "\t1 & 9 & 3.124 & 57.0 & female & no\\\\\n",
       "\t2 & 8 & 3.172 & 67.5 & female & no\\\\\n",
       "\t3 & 7 & 3.160 & 54.5 & female & no\\\\\n",
       "\t4 & 9 & 2.674 & 53.0 & male   & no\\\\\n",
       "\t5 & 9 & 3.685 & 57.0 & male   & no\\\\\n",
       "\t6 & 8 & 5.008 & 61.0 & female & no\\\\\n",
       "\\end{tabular}\n"
      ],
      "text/markdown": [
       "\n",
       "A data.frame: 6 × 5\n",
       "\n",
       "| <!--/--> | Age &lt;int&gt; | LungCap &lt;dbl&gt; | Height &lt;dbl&gt; | Gender &lt;fct&gt; | Smoke &lt;fct&gt; |\n",
       "|---|---|---|---|---|---|\n",
       "| 1 | 9 | 3.124 | 57.0 | female | no |\n",
       "| 2 | 8 | 3.172 | 67.5 | female | no |\n",
       "| 3 | 7 | 3.160 | 54.5 | female | no |\n",
       "| 4 | 9 | 2.674 | 53.0 | male   | no |\n",
       "| 5 | 9 | 3.685 | 57.0 | male   | no |\n",
       "| 6 | 8 | 5.008 | 61.0 | female | no |\n",
       "\n"
      ],
      "text/plain": [
       "  Age LungCap Height Gender Smoke\n",
       "1 9   3.124   57.0   female no   \n",
       "2 8   3.172   67.5   female no   \n",
       "3 7   3.160   54.5   female no   \n",
       "4 9   2.674   53.0   male   no   \n",
       "5 9   3.685   57.0   male   no   \n",
       "6 8   5.008   61.0   female no   "
      ]
     },
     "metadata": {},
     "output_type": "display_data"
    }
   ],
   "source": [
    "Lung_DS = read.csv(\"LungCapData2.csv\", header = T)\n",
    "head(Lung_DS)"
   ]
  },
  {
   "cell_type": "code",
   "execution_count": 2,
   "metadata": {},
   "outputs": [
    {
     "data": {
      "text/plain": [
       "        \n",
       "          no yes\n",
       "  female 279  39\n",
       "  male   310  26"
      ]
     },
     "metadata": {},
     "output_type": "display_data"
    }
   ],
   "source": [
    "Tab_Lung = table(Lung_DS$Gender,Lung_DS$Smoke)\n",
    "Tab_Lung"
   ]
  },
  {
   "cell_type": "code",
   "execution_count": 3,
   "metadata": {},
   "outputs": [
    {
     "data": {
      "text/html": [
       "<table>\n",
       "<caption>A matrix: 2 × 2 of type int</caption>\n",
       "<thead>\n",
       "\t<tr><th></th><th scope=col>Yes</th><th scope=col>No</th></tr>\n",
       "</thead>\n",
       "<tbody>\n",
       "\t<tr><th scope=row>female</th><td>39</td><td>279</td></tr>\n",
       "\t<tr><th scope=row>male</th><td>26</td><td>310</td></tr>\n",
       "</tbody>\n",
       "</table>\n"
      ],
      "text/latex": [
       "A matrix: 2 × 2 of type int\n",
       "\\begin{tabular}{r|ll}\n",
       "  & Yes & No\\\\\n",
       "\\hline\n",
       "\tfemale & 39 & 279\\\\\n",
       "\tmale & 26 & 310\\\\\n",
       "\\end{tabular}\n"
      ],
      "text/markdown": [
       "\n",
       "A matrix: 2 × 2 of type int\n",
       "\n",
       "| <!--/--> | Yes | No |\n",
       "|---|---|---|\n",
       "| female | 39 | 279 |\n",
       "| male | 26 | 310 |\n",
       "\n"
      ],
      "text/plain": [
       "       Yes No \n",
       "female 39  279\n",
       "male   26  310"
      ]
     },
     "metadata": {},
     "output_type": "display_data"
    }
   ],
   "source": [
    "Tab_Lung_2 = cbind(Tab_Lung[,2],Tab_Lung[,1])\n",
    "colnames(Tab_Lung_2) = c(\"Yes\",\"No\")\n",
    "Tab_Lung_2"
   ]
  },
  {
   "cell_type": "code",
   "execution_count": null,
   "metadata": {},
   "outputs": [],
   "source": [
    "#let's calcualte p1 and p2\n",
    "\n",
    "#remember that we are evaluating the risk difference between males and females in the exposed vs unexposed groups \n",
    "#therefore the probabilities we need to estimate relate to our groups (males/females)\n",
    "\n",
    "p1 = \n",
    "\n",
    "p2 = \n",
    "\n",
    "p1 - p2 ="
   ]
  },
  {
   "cell_type": "markdown",
   "metadata": {},
   "source": [
    "### Point and interval estimation for the Risk Difference\n",
    "\n",
    "To obtain an unbiased point estimate of the risk difference we used the sample proportions $ \\hat{p1} - \\hat{p2} $. to obtain a confident interval estimate we used the equations below, as these are categorical variables where the samples are independent from each other we can use the normal approximation to the binomial distribution.\n",
    "\n",
    "![title](Risk_difference.png)\n",
    "\n",
    "where z is the critical value following the standarized normal distribution, alpha is the confidence probability to obtain a 95% confidence interval for the difference in the proportion."
   ]
  },
  {
   "cell_type": "code",
   "execution_count": null,
   "metadata": {},
   "outputs": [],
   "source": [
    "##Confidence interval\n",
    "\n",
    "##is n1p1q1 >= 5 same as n2p2q2\n",
    "\n",
    "##solve confidence interval"
   ]
  },
  {
   "cell_type": "markdown",
   "metadata": {},
   "source": [
    "## Risk Ratio\n",
    "\n",
    "We can also obtain a point estimate for the risk ratio, which evaluates the strength of the association between the exposed and unexposed groups. The risk ratio of 1 indicates no risk, a risk ratio less than 1 indicates protective risk or low risk, and a risk ratio larger than 1 indicates increase risk.\n",
    "\n",
    "    RR = p1/p2\n",
    "    \n"
   ]
  },
  {
   "cell_type": "code",
   "execution_count": null,
   "metadata": {},
   "outputs": [],
   "source": [
    "#RR = p1/p2\n",
    "\n",
    "p1/p2 "
   ]
  },
  {
   "cell_type": "markdown",
   "metadata": {},
   "source": [
    "We can also calculate a confidence interval for the risk ratio. This CI also follows a normal approximation to the binomial distribution, assuming that the groups evaluated are independent. In this case as we are evaluating ratios we need to transform the distribution of the estimation of the risk ratios to the log of the distribution which is a closer approximation to the normal distribution than the distribution of risk ratios.\n",
    "\n",
    "![title](CI_RR.png)\n",
    "\n",
    "\n",
    "## Relative risk is another common way to name risk ratios. \n",
    "### The disadvantage of using relative risk is that the strenght of the relationship relies exclusively on the size of the probability of the denominator (the unexposed group). To avoid this constrain we can use another measure of comparing the proportions between exposed and unexposed groups which is the ODDS RATIO."
   ]
  },
  {
   "cell_type": "code",
   "execution_count": null,
   "metadata": {},
   "outputs": [],
   "source": [
    "##Solve CI"
   ]
  },
  {
   "cell_type": "code",
   "execution_count": null,
   "metadata": {},
   "outputs": [],
   "source": []
  },
  {
   "cell_type": "markdown",
   "metadata": {},
   "source": [
    "## Odds ratio\n",
    "\n",
    "The odds in favor of the probility of success can be defined as:\n",
    "\n",
    "    OR = p / (1-p)"
   ]
  },
  {
   "cell_type": "code",
   "execution_count": null,
   "metadata": {},
   "outputs": [],
   "source": [
    "OR = (p1*q2) / (p2*q1)"
   ]
  },
  {
   "cell_type": "markdown",
   "metadata": {},
   "source": [
    "Odds ratio is a very common measure of effect used in many disciplines. As we just defined odds of success can be calucated as $\\frac {p}{(1-p)}$ where p is the probability of succes for any discrete event.  So, if the probability of getting a cold is 0.40 then the odds of getting a cold $= \\frac {0.40}{(1-0.40)}=  \\frac {0.40}{0.60}$  or 2 to 3; if the probability equals 0.25 then the odds are 1 to 3, if the probability is .75 then the odds are 3 to 1, etc."
   ]
  },
  {
   "cell_type": "markdown",
   "metadata": {
    "collapsed": true
   },
   "source": [
    "### Odds ratio of the proportions p1 and p2\n",
    "\n",
    "A common measure of effect in case-control studies is the odds – the odds of exposure among the diseased, and the odds of exposure among the not diseased.  If we take the ratio of these two odds, we have the …. **odds ratio:**\n",
    "\n",
    "$$\\frac {P_{d|e}/(1-P_{d|e})}{P_{d|e} /(1-P_{!d|e})}$$\n",
    "\n",
    "that can also be redefined as\n",
    "\n",
    "$$\\frac {\\hat{p1}\\hat{q2}}{\\hat{p2}\\hat{q1}}$$\n",
    "\n",
    "\n",
    "To calculate the odds ratio: construct a 2x2 contingency table with either cases in the first row and the presence of the risk factor in the first column (or the presence of the risk factor in the first row and cases in the first column).  You will see both scenarios in papers so you must learn it as the odds and not just as a, b, c and d.\n",
    "\n",
    "|-|Case|Control|\n",
    "|---|---|---|\n",
    "|Exposed|a|\tb |\n",
    "|Unexposed|c|d|\n",
    "\n",
    "Let $p_{case|exp}$ = probability of being a case among the exposed.  Then $p_{case|exp} = \\frac {a}{(a+b)}$\n",
    "\t\n",
    "then the odds of being a case among the exposed = $\\frac {a/(a+b)}{1-[a/(a+b)]} = \\frac {a}{b} $\n",
    " \n",
    "Let $p_{case|no-exp}$ = probability of being a case among the non-exposure.  Then $p_{case|no-exp} =\\frac  {c}{(c+d)} $\n",
    "\n",
    "and the odds of being case among the non-exposed = $\\frac {c/(c+d)}{1-[c/(c+d)]} = \\frac {c}{d} $\n",
    "\n",
    "Thus, the odds ratio of $\\frac {(odds \\ of \\ being \\ a  \\ case \\ among\\  the\\ exposed)}{(odds\\ of\\ being\\ a\\ case\\ among\\ the\\ unexposed)} = \\frac {a/b}{c/d} = \\frac {ad}{bc}$           \n",
    "\n",
    "As we have been previously reviewing OR can be used to evaluate the odds in favor of disease for an exposed group divided by the odds in favor of the disease for unexposed subjects, also known as the disease-odds. However, this approach can also be used for any 2x2 study."
   ]
  },
  {
   "cell_type": "markdown",
   "metadata": {},
   "source": [
    "One method (Woolf) for calculating the CI95 for the OR is:\n",
    "\n",
    "$\\large e^{ln⁡(\\hat{OR})±z_{1-∝/2} \\sqrt{(\\frac {1}{a} + \\frac {1}{b}+\\frac {1}{c}+\\frac {1}{d})}}\\large$\n",
    "\n",
    "Now, if the OR = 1 then the odds of disease among the exposed = odds of disease among the non-exposed which is equivalent to saying 'exposure does not appear to play a role in the disease.'  If the OR > 1 then exposed people are more likely to be diseased than those not exposed so it would appear that exposure is a risk.  If the OR < 1 then exposed people are less likely to be diseased than those that are unexposed, therefore the exposure has a protective effect (think medical treatment)."
   ]
  },
  {
   "cell_type": "markdown",
   "metadata": {},
   "source": [
    "### Example:\n",
    "\n",
    "A clinical trial of gamma globulin in the treatment of children with Kawasaki syndrome (a rare but fatal condition) randomized approximately half of the patients to receive gamma globulin.  The other half received the standard treatment of aspirin.  Under the aspirin treatment, approximately one fourth of patients developed coronary abnormalities.  It was thought that gamma globulin would help prevent the development of coronary abnormalities.  Subjects were followed over a 7-week period.\n",
    "\n",
    "H0:  Patients receiving gamma globulin will develop coronary abnormalities at the same or higher rate as those patients receiving the present standard of care which is aspirin. (OR ≥ 1)\n",
    "\n",
    "Ha:  Patients receiving gamma globulin will develop fewer coronary abnormalities then those patients receiving the present standard of care which is aspirin. (OR < 1)\n",
    "\n",
    "\n",
    "The results were:\n",
    "\n",
    "|-|-|Coronary abnormalities|Total|\n",
    "| --- | --- | --- | --- |\n",
    "|-|Yes|No||\n",
    "|Gamma globulin|5|\t78 |83|\n",
    "|Aspirin |21|\t63 |84|\n",
    "|Total|26|141|167|\n",
    "\n",
    "This is a 'case/control' scenario because Kawasaki syndrome is, fortunately, rare.  Thus, we cannot use the relative risk as a measure of effect but will use the odds ratio instead. \n",
    "\n",
    "$$\\hat{OR}  =  \\frac {5*63}{78*21}=0.19$$\n",
    "\n",
    "The CI for the OR: $= exp(ln(0.19) ± 1.96\\sqrt {\\frac{1}{5}+ \\frac {1}{78}+ \\frac {1}{21} + \\frac {1}{63}} = $ \n",
    "\n",
    "exp(-1.66 ± 1.03) = (0.0679, 0.5326).  Since the CI does not contain the null hypothesis (OR = 1), we would reject the null hypothesis and conclude that gamma globulin appears to protect Kawasaki patients from ancillary coronary abnormalities."
   ]
  },
  {
   "cell_type": "code",
   "execution_count": null,
   "metadata": {},
   "outputs": [],
   "source": [
    "#install.packages(\"vcd\")\n",
    "library(vcd)\n",
    "tabl1 = matrix(c(5, 78, 21, 63), ncol = 2, byrow = TRUE)\n",
    "odds_rat = oddsratio(tabl1, log = FALSE)"
   ]
  },
  {
   "cell_type": "code",
   "execution_count": null,
   "metadata": {},
   "outputs": [],
   "source": [
    "summary(odds_rat)\n",
    "confint(odds_rat)"
   ]
  },
  {
   "cell_type": "code",
   "execution_count": null,
   "metadata": {},
   "outputs": [],
   "source": [
    "data(\"CoalMiners\")\n",
    "CoalMiners"
   ]
  },
  {
   "cell_type": "markdown",
   "metadata": {},
   "source": [
    "[z_table](http://www.z-table.com/)"
   ]
  },
  {
   "cell_type": "code",
   "execution_count": null,
   "metadata": {},
   "outputs": [],
   "source": []
  }
 ],
 "metadata": {
  "kernelspec": {
   "display_name": "R",
   "language": "R",
   "name": "ir"
  },
  "language_info": {
   "codemirror_mode": "r",
   "file_extension": ".r",
   "mimetype": "text/x-r-source",
   "name": "R",
   "pygments_lexer": "r",
   "version": "3.6.2"
  }
 },
 "nbformat": 4,
 "nbformat_minor": 2
}
