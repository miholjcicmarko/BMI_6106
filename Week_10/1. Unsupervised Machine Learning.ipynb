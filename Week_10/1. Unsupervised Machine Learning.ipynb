{
 "cells": [
  {
   "cell_type": "markdown",
   "metadata": {
    "slideshow": {
     "slide_type": "slide"
    }
   },
   "source": [
    "## 1. Unsupervised Machine Learning "
   ]
  },
  {
   "cell_type": "markdown",
   "metadata": {
    "slideshow": {
     "slide_type": "slide"
    }
   },
   "source": [
    "Unsupervised Machine learning is a series of techniques where the main goal is to reduce the dimensionality of the data. In unsupervised learning there are not outcome variables (y variable) only input variables (X).\n",
    "\n",
    "Another important goal is to understand the underlying structure of the data which in turns will help to understand the data itself.\n",
    "\n",
    "In here we will focus on Clustering Algorithms as there are widely use in multiple fields in statistics (not only in machine learning approaches), and because there are the starting point on data modeling.\n"
   ]
  },
  {
   "cell_type": "markdown",
   "metadata": {
    "slideshow": {
     "slide_type": "slide"
    }
   },
   "source": [
    "![title](machine-learning-cheet-sheet.png)"
   ]
  },
  {
   "cell_type": "markdown",
   "metadata": {
    "slideshow": {
     "slide_type": "slide"
    }
   },
   "source": [
    "Normally, unsupervised learning uses all of the data, not just a subset (training data) as the ultimate goal is to reduce dimensionality and understand the underlying behavior of the data.\n",
    "\n",
    "[https://machinelearningmastery.com/a-tour-of-machine-learning-algorithms/](https://machinelearningmastery.com/a-tour-of-machine-learning-algorithms/)"
   ]
  },
  {
   "cell_type": "markdown",
   "metadata": {
    "slideshow": {
     "slide_type": "slide"
    }
   },
   "source": [
    "### $A.$ Principal Component Analysis "
   ]
  },
  {
   "cell_type": "markdown",
   "metadata": {},
   "source": [
    "In principal component analysis the main goal is to use algebraic properties of high dimensionality data and reduce it to fewer dimensions but still maintaining the variance signal among the variables.\n",
    "\n",
    "Principal component is one technique from the dimensionality reduction family. PCA has been extensively used due to its great flexibility, and general applicability. \n",
    "\n",
    "Here is a extensive figure of the multiple techniques for dimensionality Reduction."
   ]
  },
  {
   "cell_type": "markdown",
   "metadata": {},
   "source": [
    "![title](MachineLearningAlgorithms.png)"
   ]
  },
  {
   "cell_type": "markdown",
   "metadata": {},
   "source": [
    "In many situations in a study, research or project there are many variables that carry little or not information or association with the purpose of the study. In other cases, there is high redundancy that makes difficult to parse and make sense of the overall structure of the data. There is also variable duplication and variables with error or outliers that make the data difficult to treat. It is generally a good practice to remove these variables to reduce the amount of noise they carry. \n"
   ]
  },
  {
   "cell_type": "markdown",
   "metadata": {},
   "source": [
    "PCA is a technique from a family of dimensionality reduction techniques called *singular value decomposition* (SVD). The basic idea for SVD is to rotate the coordinate axes in order to maximize the underlying variability of the model using a small number of variables."
   ]
  },
  {
   "cell_type": "markdown",
   "metadata": {},
   "source": [
    "The basic steps for a PCA are:\n",
    "\n",
    "1. Generate a covariance matrix with all of the variables present in the model\n",
    "    1a. If variables come from different levels of measurements, standarized all variables.\n",
    "2. Calculate eigenvalues of the covariance matrix\n",
    "3. Using the eigenvector matrix obtain variance explained on each component of the matrix\n",
    "4. Order the variance from highest to lowest (principal components)\n",
    "5. Calculate vector directionalty on each component for all variables.\n",
    "\n",
    "\n"
   ]
  },
  {
   "cell_type": "markdown",
   "metadata": {},
   "source": [
    "1. In PCA and other Factor analysis the source of variation we will be measuring relies on the variance and covariance rather than the mean as we have seen in parametric methods. \n",
    "\n",
    "    There are two main types of variance that we will be using on this analysis \n",
    "    \n",
    "    Common variance: shared variance across a set of items (highly correlated variables would carry high variance)\n",
    "    \n",
    "    Unique Variance: Portions of the variance that are not common between variables"
   ]
  },
  {
   "cell_type": "markdown",
   "metadata": {},
   "source": [
    "2. Eigenvalues and eigenvector are the main variation units that will allow you to measure how much each variable contribute to the overall variation within your data. The idea is to decompose the common variance (in PCA, however other types of factor analysis will use the unique variance as well) into vectors in a multidimentional space.\n",
    "\n",
    "When you have multiple variables you need to decompose the variation of each variable into linear components to be able to compare across variables, to do this you do linear transformation of each variable variation. Eigenvectors and eigenvalues are the resulting vectors from such linear transformation. \n",
    "\n",
    "The number of components to evaluate correspond to the number of variables you have in your analysis, and each the dimmension of the that decomposed vector matrix will be equal to the number of variables to evaluate.\n",
    "\n"
   ]
  },
  {
   "cell_type": "markdown",
   "metadata": {},
   "source": [
    "This explanation is taken from (https://stats.idre.ucla.edu/spss/seminars/efa-spss/)[https://stats.idre.ucla.edu/spss/seminars/efa-spss/]\n",
    "\n",
    "<b>Eigenvalues represent the total amount of variance that can be explained by a given principal component.</b>  They can be positive or negative in theory, but in practice they explain variance which is always positive.\n",
    "\n",
    "If eigenvalues are greater than zero, then it’s a good sign.\n",
    "Since variance cannot be negative, negative eigenvalues imply the model is ill-conditioned.\n",
    "Eigenvalues close to zero imply there is item multicollinearity, since all the variance can be taken up by the first component.\n",
    "\n",
    "Eigenvalues are also the sum of squared component loadings across all variables for each component, which represent the amount of variance in each variables that can be explained by the principal component."
   ]
  },
  {
   "cell_type": "markdown",
   "metadata": {},
   "source": [
    "<b>Eigenvectors represent a weight for each eigenvalue</b>. The eigenvector times the square root of the eigenvalue gives the component loadings which can be interpreted as the correlation of each item with the principal component."
   ]
  },
  {
   "cell_type": "markdown",
   "metadata": {},
   "source": [
    "for a better understanding we will follow an example given by the UC Business Analytics R Programming Guide [http://uc-r.github.io/pca](http://uc-r.github.io/pca) \n",
    "And if we have time we will follow an case example to better understand the practical applications of the unsupervised learning techniques.\n",
    "\n",
    "\n",
    "We will be using the dataset USAarrests that contains four variables that represent the number of arrests per 100,000 residents for Assault, Murder, and Rape in each of the fifty US states in 1973. The data set also contains the percentage of the population living in urban areas, UrbanPop.\n"
   ]
  },
  {
   "cell_type": "code",
   "execution_count": 1,
   "metadata": {},
   "outputs": [
    {
     "name": "stderr",
     "output_type": "stream",
     "text": [
      "── \u001b[1mAttaching packages\u001b[22m ─────────────────────────────────────── tidyverse 1.3.0 ──\n",
      "\n",
      "\u001b[32m✔\u001b[39m \u001b[34mggplot2\u001b[39m 3.3.0     \u001b[32m✔\u001b[39m \u001b[34mpurrr  \u001b[39m 0.3.3\n",
      "\u001b[32m✔\u001b[39m \u001b[34mtibble \u001b[39m 2.1.3     \u001b[32m✔\u001b[39m \u001b[34mdplyr  \u001b[39m 0.8.4\n",
      "\u001b[32m✔\u001b[39m \u001b[34mtidyr  \u001b[39m 1.0.2     \u001b[32m✔\u001b[39m \u001b[34mstringr\u001b[39m 1.4.0\n",
      "\u001b[32m✔\u001b[39m \u001b[34mreadr  \u001b[39m 1.3.1     \u001b[32m✔\u001b[39m \u001b[34mforcats\u001b[39m 0.4.0\n",
      "\n",
      "── \u001b[1mConflicts\u001b[22m ────────────────────────────────────────── tidyverse_conflicts() ──\n",
      "\u001b[31m✖\u001b[39m \u001b[34mdplyr\u001b[39m::\u001b[32mfilter()\u001b[39m masks \u001b[34mstats\u001b[39m::filter()\n",
      "\u001b[31m✖\u001b[39m \u001b[34mdplyr\u001b[39m::\u001b[32mlag()\u001b[39m    masks \u001b[34mstats\u001b[39m::lag()\n",
      "\n",
      "\n",
      "Attaching package: ‘gridExtra’\n",
      "\n",
      "\n",
      "The following object is masked from ‘package:dplyr’:\n",
      "\n",
      "    combine\n",
      "\n",
      "\n"
     ]
    },
    {
     "data": {
      "text/html": [
       "<table>\n",
       "<caption>A data.frame: 10 × 4</caption>\n",
       "<thead>\n",
       "\t<tr><th></th><th scope=col>Murder</th><th scope=col>Assault</th><th scope=col>UrbanPop</th><th scope=col>Rape</th></tr>\n",
       "\t<tr><th></th><th scope=col>&lt;dbl&gt;</th><th scope=col>&lt;int&gt;</th><th scope=col>&lt;int&gt;</th><th scope=col>&lt;dbl&gt;</th></tr>\n",
       "</thead>\n",
       "<tbody>\n",
       "\t<tr><th scope=row>Alabama</th><td>13.2</td><td>236</td><td>58</td><td>21.2</td></tr>\n",
       "\t<tr><th scope=row>Alaska</th><td>10.0</td><td>263</td><td>48</td><td>44.5</td></tr>\n",
       "\t<tr><th scope=row>Arizona</th><td> 8.1</td><td>294</td><td>80</td><td>31.0</td></tr>\n",
       "\t<tr><th scope=row>Arkansas</th><td> 8.8</td><td>190</td><td>50</td><td>19.5</td></tr>\n",
       "\t<tr><th scope=row>California</th><td> 9.0</td><td>276</td><td>91</td><td>40.6</td></tr>\n",
       "\t<tr><th scope=row>Colorado</th><td> 7.9</td><td>204</td><td>78</td><td>38.7</td></tr>\n",
       "\t<tr><th scope=row>Connecticut</th><td> 3.3</td><td>110</td><td>77</td><td>11.1</td></tr>\n",
       "\t<tr><th scope=row>Delaware</th><td> 5.9</td><td>238</td><td>72</td><td>15.8</td></tr>\n",
       "\t<tr><th scope=row>Florida</th><td>15.4</td><td>335</td><td>80</td><td>31.9</td></tr>\n",
       "\t<tr><th scope=row>Georgia</th><td>17.4</td><td>211</td><td>60</td><td>25.8</td></tr>\n",
       "</tbody>\n",
       "</table>\n"
      ],
      "text/latex": [
       "A data.frame: 10 × 4\n",
       "\\begin{tabular}{r|llll}\n",
       "  & Murder & Assault & UrbanPop & Rape\\\\\n",
       "  & <dbl> & <int> & <int> & <dbl>\\\\\n",
       "\\hline\n",
       "\tAlabama & 13.2 & 236 & 58 & 21.2\\\\\n",
       "\tAlaska & 10.0 & 263 & 48 & 44.5\\\\\n",
       "\tArizona &  8.1 & 294 & 80 & 31.0\\\\\n",
       "\tArkansas &  8.8 & 190 & 50 & 19.5\\\\\n",
       "\tCalifornia &  9.0 & 276 & 91 & 40.6\\\\\n",
       "\tColorado &  7.9 & 204 & 78 & 38.7\\\\\n",
       "\tConnecticut &  3.3 & 110 & 77 & 11.1\\\\\n",
       "\tDelaware &  5.9 & 238 & 72 & 15.8\\\\\n",
       "\tFlorida & 15.4 & 335 & 80 & 31.9\\\\\n",
       "\tGeorgia & 17.4 & 211 & 60 & 25.8\\\\\n",
       "\\end{tabular}\n"
      ],
      "text/markdown": [
       "\n",
       "A data.frame: 10 × 4\n",
       "\n",
       "| <!--/--> | Murder &lt;dbl&gt; | Assault &lt;int&gt; | UrbanPop &lt;int&gt; | Rape &lt;dbl&gt; |\n",
       "|---|---|---|---|---|\n",
       "| Alabama | 13.2 | 236 | 58 | 21.2 |\n",
       "| Alaska | 10.0 | 263 | 48 | 44.5 |\n",
       "| Arizona |  8.1 | 294 | 80 | 31.0 |\n",
       "| Arkansas |  8.8 | 190 | 50 | 19.5 |\n",
       "| California |  9.0 | 276 | 91 | 40.6 |\n",
       "| Colorado |  7.9 | 204 | 78 | 38.7 |\n",
       "| Connecticut |  3.3 | 110 | 77 | 11.1 |\n",
       "| Delaware |  5.9 | 238 | 72 | 15.8 |\n",
       "| Florida | 15.4 | 335 | 80 | 31.9 |\n",
       "| Georgia | 17.4 | 211 | 60 | 25.8 |\n",
       "\n"
      ],
      "text/plain": [
       "            Murder Assault UrbanPop Rape\n",
       "Alabama     13.2   236     58       21.2\n",
       "Alaska      10.0   263     48       44.5\n",
       "Arizona      8.1   294     80       31.0\n",
       "Arkansas     8.8   190     50       19.5\n",
       "California   9.0   276     91       40.6\n",
       "Colorado     7.9   204     78       38.7\n",
       "Connecticut  3.3   110     77       11.1\n",
       "Delaware     5.9   238     72       15.8\n",
       "Florida     15.4   335     80       31.9\n",
       "Georgia     17.4   211     60       25.8"
      ]
     },
     "metadata": {},
     "output_type": "display_data"
    }
   ],
   "source": [
    "library(tidyverse)  # data manipulation and visualization\n",
    "library(gridExtra)  # plot arrangement\n",
    "\n",
    "data(\"USArrests\")\n",
    "#glimpse(USArrests)\n",
    "head(USArrests, 10)"
   ]
  },
  {
   "cell_type": "code",
   "execution_count": 2,
   "metadata": {},
   "outputs": [
    {
     "data": {
      "text/html": [
       "<style>\n",
       ".dl-inline {width: auto; margin:0; padding: 0}\n",
       ".dl-inline>dt, .dl-inline>dd {float: none; width: auto; display: inline-block}\n",
       ".dl-inline>dt::after {content: \":\\0020\"; padding-right: .5ex}\n",
       ".dl-inline>dt:not(:first-of-type) {padding-left: .5ex}\n",
       "</style><dl class=dl-inline><dt>Murder</dt><dd>18.9704653061224</dd><dt>Assault</dt><dd>6945.16571428571</dd><dt>UrbanPop</dt><dd>209.518775510204</dd><dt>Rape</dt><dd>87.7291591836735</dd></dl>\n"
      ],
      "text/latex": [
       "\\begin{description*}\n",
       "\\item[Murder] 18.9704653061224\n",
       "\\item[Assault] 6945.16571428571\n",
       "\\item[UrbanPop] 209.518775510204\n",
       "\\item[Rape] 87.7291591836735\n",
       "\\end{description*}\n"
      ],
      "text/markdown": [
       "Murder\n",
       ":   18.9704653061224Assault\n",
       ":   6945.16571428571UrbanPop\n",
       ":   209.518775510204Rape\n",
       ":   87.7291591836735\n",
       "\n"
      ],
      "text/plain": [
       "    Murder    Assault   UrbanPop       Rape \n",
       "  18.97047 6945.16571  209.51878   87.72916 "
      ]
     },
     "metadata": {},
     "output_type": "display_data"
    },
    {
     "data": {
      "text/html": [
       "<table>\n",
       "<caption>A matrix: 6 × 4 of type dbl</caption>\n",
       "<thead>\n",
       "\t<tr><th scope=col>Murder</th><th scope=col>Assault</th><th scope=col>UrbanPop</th><th scope=col>Rape</th></tr>\n",
       "</thead>\n",
       "<tbody>\n",
       "\t<tr><td>1.24256408</td><td>0.7828393</td><td>-0.5209066</td><td>-0.003416473</td></tr>\n",
       "\t<tr><td>0.50786248</td><td>1.1068225</td><td>-1.2117642</td><td> 2.484202941</td></tr>\n",
       "\t<tr><td>0.07163341</td><td>1.4788032</td><td> 0.9989801</td><td> 1.042878388</td></tr>\n",
       "\t<tr><td>0.23234938</td><td>0.2308680</td><td>-1.0735927</td><td>-0.184916602</td></tr>\n",
       "\t<tr><td>0.27826823</td><td>1.2628144</td><td> 1.7589234</td><td> 2.067820292</td></tr>\n",
       "\t<tr><td>0.02571456</td><td>0.3988593</td><td> 0.8608085</td><td> 1.864967207</td></tr>\n",
       "</tbody>\n",
       "</table>\n"
      ],
      "text/latex": [
       "A matrix: 6 × 4 of type dbl\n",
       "\\begin{tabular}{llll}\n",
       " Murder & Assault & UrbanPop & Rape\\\\\n",
       "\\hline\n",
       "\t 1.24256408 & 0.7828393 & -0.5209066 & -0.003416473\\\\\n",
       "\t 0.50786248 & 1.1068225 & -1.2117642 &  2.484202941\\\\\n",
       "\t 0.07163341 & 1.4788032 &  0.9989801 &  1.042878388\\\\\n",
       "\t 0.23234938 & 0.2308680 & -1.0735927 & -0.184916602\\\\\n",
       "\t 0.27826823 & 1.2628144 &  1.7589234 &  2.067820292\\\\\n",
       "\t 0.02571456 & 0.3988593 &  0.8608085 &  1.864967207\\\\\n",
       "\\end{tabular}\n"
      ],
      "text/markdown": [
       "\n",
       "A matrix: 6 × 4 of type dbl\n",
       "\n",
       "| Murder | Assault | UrbanPop | Rape |\n",
       "|---|---|---|---|\n",
       "| 1.24256408 | 0.7828393 | -0.5209066 | -0.003416473 |\n",
       "| 0.50786248 | 1.1068225 | -1.2117642 |  2.484202941 |\n",
       "| 0.07163341 | 1.4788032 |  0.9989801 |  1.042878388 |\n",
       "| 0.23234938 | 0.2308680 | -1.0735927 | -0.184916602 |\n",
       "| 0.27826823 | 1.2628144 |  1.7589234 |  2.067820292 |\n",
       "| 0.02571456 | 0.3988593 |  0.8608085 |  1.864967207 |\n",
       "\n"
      ],
      "text/plain": [
       "     Murder     Assault   UrbanPop   Rape        \n",
       "[1,] 1.24256408 0.7828393 -0.5209066 -0.003416473\n",
       "[2,] 0.50786248 1.1068225 -1.2117642  2.484202941\n",
       "[3,] 0.07163341 1.4788032  0.9989801  1.042878388\n",
       "[4,] 0.23234938 0.2308680 -1.0735927 -0.184916602\n",
       "[5,] 0.27826823 1.2628144  1.7589234  2.067820292\n",
       "[6,] 0.02571456 0.3988593  0.8608085  1.864967207"
      ]
     },
     "metadata": {},
     "output_type": "display_data"
    }
   ],
   "source": [
    "##Lets standardize each variable to avoid inflation from variable with different units of measurement\n",
    "\n",
    "apply(USArrests, 2, var)\n",
    "scaled_df <- apply(USArrests, 2, scale)\n",
    "head(scaled_df)"
   ]
  },
  {
   "cell_type": "code",
   "execution_count": 3,
   "metadata": {},
   "outputs": [],
   "source": [
    "?scale\n",
    "##Remember variable standardization using z_scores"
   ]
  },
  {
   "cell_type": "markdown",
   "metadata": {},
   "source": [
    "As mentioned before the goal of a PCA is to reduce the number of dimensions in the data structure by maximixing the variance on each linear combination of variables and ranking on these combinations from higher variance to lower variance.\n",
    "\n",
    "The first component is the one that include the largest variance across all features. The second principal component, contains the second largest variance and that is uncorrelated with PC1. \n",
    "\n",
    "The elements for each PC are notated as:\n",
    "\n",
    "$Z1 = \\theta_{11}X_1 + \\theta_{21}X_2 + ... + \\theta_{p1}X_p  $\n",
    "\n",
    "where all $\\theta$ are the loadings of the principal components (something similar to coefficients but in an aggregate value across all features)\n",
    "\n",
    "We need to calculate the loadings vector that maximizes the variance. To achieve this we calculate the eigenvector from the largest eigenvalue of the covariance matrix. "
   ]
  },
  {
   "cell_type": "code",
   "execution_count": 4,
   "metadata": {},
   "outputs": [
    {
     "name": "stdout",
     "output_type": "stream",
     "text": [
      "List of 2\n",
      " $ values : num [1:4] 2.48 0.99 0.357 0.173\n",
      " $ vectors: num [1:4, 1:4] -0.536 -0.583 -0.278 -0.543 0.418 ...\n",
      " - attr(*, \"class\")= chr \"eigen\"\n"
     ]
    }
   ],
   "source": [
    "# Calculate eigenvalues & eigenvectors\n",
    "arrests.cov <- cov(scaled_df)\n",
    "arrests.eigen <- eigen(arrests.cov)\n",
    "str(arrests.eigen)"
   ]
  },
  {
   "cell_type": "markdown",
   "metadata": {},
   "source": [
    "The values correspond to the eigenvalues for each component and the vectors the loadings (eigenvectors for each component and for each feature)\n",
    "\n",
    "We can extract the loadings for the first two Principal components (PC1 and PC2). By default R gives the sign of the loading in the negative direction, depending of the type of data we might want to change it to a positive direction.\n",
    "\n"
   ]
  },
  {
   "cell_type": "code",
   "execution_count": 5,
   "metadata": {},
   "outputs": [
    {
     "data": {
      "text/html": [
       "<table>\n",
       "<caption>A matrix: 4 × 2 of type dbl</caption>\n",
       "<tbody>\n",
       "\t<tr><td>-0.5358995</td><td> 0.4181809</td></tr>\n",
       "\t<tr><td>-0.5831836</td><td> 0.1879856</td></tr>\n",
       "\t<tr><td>-0.2781909</td><td>-0.8728062</td></tr>\n",
       "\t<tr><td>-0.5434321</td><td>-0.1673186</td></tr>\n",
       "</tbody>\n",
       "</table>\n"
      ],
      "text/latex": [
       "A matrix: 4 × 2 of type dbl\n",
       "\\begin{tabular}{ll}\n",
       "\t -0.5358995 &  0.4181809\\\\\n",
       "\t -0.5831836 &  0.1879856\\\\\n",
       "\t -0.2781909 & -0.8728062\\\\\n",
       "\t -0.5434321 & -0.1673186\\\\\n",
       "\\end{tabular}\n"
      ],
      "text/markdown": [
       "\n",
       "A matrix: 4 × 2 of type dbl\n",
       "\n",
       "| -0.5358995 |  0.4181809 |\n",
       "| -0.5831836 |  0.1879856 |\n",
       "| -0.2781909 | -0.8728062 |\n",
       "| -0.5434321 | -0.1673186 |\n",
       "\n"
      ],
      "text/plain": [
       "     [,1]       [,2]      \n",
       "[1,] -0.5358995  0.4181809\n",
       "[2,] -0.5831836  0.1879856\n",
       "[3,] -0.2781909 -0.8728062\n",
       "[4,] -0.5434321 -0.1673186"
      ]
     },
     "metadata": {},
     "output_type": "display_data"
    },
    {
     "data": {
      "text/html": [
       "<table>\n",
       "<caption>A matrix: 4 × 2 of type dbl</caption>\n",
       "<thead>\n",
       "\t<tr><th></th><th scope=col>PC1</th><th scope=col>PC2</th></tr>\n",
       "</thead>\n",
       "<tbody>\n",
       "\t<tr><th scope=row>Murder</th><td>0.5358995</td><td>-0.4181809</td></tr>\n",
       "\t<tr><th scope=row>Assault</th><td>0.5831836</td><td>-0.1879856</td></tr>\n",
       "\t<tr><th scope=row>UrbanPop</th><td>0.2781909</td><td> 0.8728062</td></tr>\n",
       "\t<tr><th scope=row>Rape</th><td>0.5434321</td><td> 0.1673186</td></tr>\n",
       "</tbody>\n",
       "</table>\n"
      ],
      "text/latex": [
       "A matrix: 4 × 2 of type dbl\n",
       "\\begin{tabular}{r|ll}\n",
       "  & PC1 & PC2\\\\\n",
       "\\hline\n",
       "\tMurder & 0.5358995 & -0.4181809\\\\\n",
       "\tAssault & 0.5831836 & -0.1879856\\\\\n",
       "\tUrbanPop & 0.2781909 &  0.8728062\\\\\n",
       "\tRape & 0.5434321 &  0.1673186\\\\\n",
       "\\end{tabular}\n"
      ],
      "text/markdown": [
       "\n",
       "A matrix: 4 × 2 of type dbl\n",
       "\n",
       "| <!--/--> | PC1 | PC2 |\n",
       "|---|---|---|\n",
       "| Murder | 0.5358995 | -0.4181809 |\n",
       "| Assault | 0.5831836 | -0.1879856 |\n",
       "| UrbanPop | 0.2781909 |  0.8728062 |\n",
       "| Rape | 0.5434321 |  0.1673186 |\n",
       "\n"
      ],
      "text/plain": [
       "         PC1       PC2       \n",
       "Murder   0.5358995 -0.4181809\n",
       "Assault  0.5831836 -0.1879856\n",
       "UrbanPop 0.2781909  0.8728062\n",
       "Rape     0.5434321  0.1673186"
      ]
     },
     "metadata": {},
     "output_type": "display_data"
    }
   ],
   "source": [
    "(phi <- arrests.eigen$vectors[,1:2])\n",
    "phi <- -phi\n",
    "row.names(phi) <- c(\"Murder\", \"Assault\", \"UrbanPop\", \"Rape\")\n",
    "colnames(phi) <- c(\"PC1\", \"PC2\")\n",
    "phi ##What do these values mean??"
   ]
  },
  {
   "cell_type": "markdown",
   "metadata": {},
   "source": [
    "#### Remember principal components are unrelated across, which means that each component is their own feature (variable space).\n",
    "\n",
    "If we project the n data points x1,x2...xn onto the first eigenvector, the projected values are called the principal component scores for each observation."
   ]
  },
  {
   "cell_type": "code",
   "execution_count": 6,
   "metadata": {},
   "outputs": [
    {
     "data": {
      "text/html": [
       "<table>\n",
       "<caption>A data.frame: 6 × 3</caption>\n",
       "<thead>\n",
       "\t<tr><th></th><th scope=col>State</th><th scope=col>PC1</th><th scope=col>PC2</th></tr>\n",
       "\t<tr><th></th><th scope=col>&lt;fct&gt;</th><th scope=col>&lt;dbl&gt;</th><th scope=col>&lt;dbl&gt;</th></tr>\n",
       "</thead>\n",
       "<tbody>\n",
       "\t<tr><th scope=row>1</th><td>Alabama   </td><td> 0.9756604</td><td>-1.1220012</td></tr>\n",
       "\t<tr><th scope=row>2</th><td>Alaska    </td><td> 1.9305379</td><td>-1.0624269</td></tr>\n",
       "\t<tr><th scope=row>3</th><td>Arizona   </td><td> 1.7454429</td><td> 0.7384595</td></tr>\n",
       "\t<tr><th scope=row>4</th><td>Arkansas  </td><td>-0.1399989</td><td>-1.1085423</td></tr>\n",
       "\t<tr><th scope=row>5</th><td>California</td><td> 2.4986128</td><td> 1.5274267</td></tr>\n",
       "\t<tr><th scope=row>6</th><td>Colorado  </td><td> 1.4993407</td><td> 0.9776297</td></tr>\n",
       "</tbody>\n",
       "</table>\n"
      ],
      "text/latex": [
       "A data.frame: 6 × 3\n",
       "\\begin{tabular}{r|lll}\n",
       "  & State & PC1 & PC2\\\\\n",
       "  & <fct> & <dbl> & <dbl>\\\\\n",
       "\\hline\n",
       "\t1 & Alabama    &  0.9756604 & -1.1220012\\\\\n",
       "\t2 & Alaska     &  1.9305379 & -1.0624269\\\\\n",
       "\t3 & Arizona    &  1.7454429 &  0.7384595\\\\\n",
       "\t4 & Arkansas   & -0.1399989 & -1.1085423\\\\\n",
       "\t5 & California &  2.4986128 &  1.5274267\\\\\n",
       "\t6 & Colorado   &  1.4993407 &  0.9776297\\\\\n",
       "\\end{tabular}\n"
      ],
      "text/markdown": [
       "\n",
       "A data.frame: 6 × 3\n",
       "\n",
       "| <!--/--> | State &lt;fct&gt; | PC1 &lt;dbl&gt; | PC2 &lt;dbl&gt; |\n",
       "|---|---|---|---|\n",
       "| 1 | Alabama    |  0.9756604 | -1.1220012 |\n",
       "| 2 | Alaska     |  1.9305379 | -1.0624269 |\n",
       "| 3 | Arizona    |  1.7454429 |  0.7384595 |\n",
       "| 4 | Arkansas   | -0.1399989 | -1.1085423 |\n",
       "| 5 | California |  2.4986128 |  1.5274267 |\n",
       "| 6 | Colorado   |  1.4993407 |  0.9776297 |\n",
       "\n"
      ],
      "text/plain": [
       "  State      PC1        PC2       \n",
       "1 Alabama     0.9756604 -1.1220012\n",
       "2 Alaska      1.9305379 -1.0624269\n",
       "3 Arizona     1.7454429  0.7384595\n",
       "4 Arkansas   -0.1399989 -1.1085423\n",
       "5 California  2.4986128  1.5274267\n",
       "6 Colorado    1.4993407  0.9776297"
      ]
     },
     "metadata": {},
     "output_type": "display_data"
    }
   ],
   "source": [
    "PC1 <- as.matrix(scaled_df) %*% phi[,1]\n",
    "PC2 <- as.matrix(scaled_df) %*% phi[,2]\n",
    "\n",
    "# Create data frame with Principal Components scores\n",
    "PC <- data.frame(State = row.names(USArrests), PC1, PC2)\n",
    "head(PC)"
   ]
  },
  {
   "cell_type": "markdown",
   "metadata": {},
   "source": [
    "Lets plot now the scores on the first two principal components in order to better analyze the patterns given on each component"
   ]
  },
  {
   "cell_type": "code",
   "execution_count": 7,
   "metadata": {},
   "outputs": [
    {
     "data": {
      "image/png": "[encoded data removed]",
      "text/plain": [
       "plot without title"
      ]
     },
     "metadata": {
      "image/png": {
       "height": 420,
       "width": 420
      },
      "text/plain": {
       "height": 420,
       "width": 420
      }
     },
     "output_type": "display_data"
    }
   ],
   "source": [
    "library(ggplot2)\n",
    "# Plot Principal Components for each State\n",
    "ggplot(PC, aes(PC1, PC2)) + \n",
    "  modelr::geom_ref_line(h = 0) +\n",
    "  modelr::geom_ref_line(v = 0) +\n",
    "  geom_text(aes(label = State), size = 3) +\n",
    "  xlab(\"First Principal Component\") + \n",
    "  ylab(\"Second Principal Component\") + \n",
    "  ggtitle(\"First Two Principal Components of USArrests Data\")"
   ]
  },
  {
   "cell_type": "markdown",
   "metadata": {},
   "source": [
    "### After an initial inspection of the data we need to define how many components we need to extract to account for most of the variation of the data.\n",
    "\n",
    "We can the proportion of the variation from each component by dividing each eigenvalue by the total number of principal components "
   ]
  },
  {
   "cell_type": "code",
   "execution_count": 8,
   "metadata": {},
   "outputs": [
    {
     "data": {
      "text/html": [
       "<style>\n",
       ".list-inline {list-style: none; margin:0; padding: 0}\n",
       ".list-inline>li {display: inline-block}\n",
       ".list-inline>li:not(:last-child)::after {content: \"\\00b7\"; padding: 0 .5ex}\n",
       "</style>\n",
       "<ol class=list-inline><li>0.62</li><li>0.25</li><li>0.09</li><li>0.04</li></ol>\n"
      ],
      "text/latex": [
       "\\begin{enumerate*}\n",
       "\\item 0.62\n",
       "\\item 0.25\n",
       "\\item 0.09\n",
       "\\item 0.04\n",
       "\\end{enumerate*}\n"
      ],
      "text/markdown": [
       "1. 0.62\n",
       "2. 0.25\n",
       "3. 0.09\n",
       "4. 0.04\n",
       "\n",
       "\n"
      ],
      "text/plain": [
       "[1] 0.62 0.25 0.09 0.04"
      ]
     },
     "metadata": {},
     "output_type": "display_data"
    }
   ],
   "source": [
    "PVE <- arrests.eigen$values / sum(arrests.eigen$values)\n",
    "round(PVE, 2)"
   ]
  },
  {
   "cell_type": "code",
   "execution_count": 9,
   "metadata": {},
   "outputs": [
    {
     "ename": "ERROR",
     "evalue": "Error in grid.arrange(PVEplot, cumPVE, ncol = 2): could not find function \"grid.arrange\"\n",
     "output_type": "error",
     "traceback": [
      "Error in grid.arrange(PVEplot, cumPVE, ncol = 2): could not find function \"grid.arrange\"\nTraceback:\n"
     ]
    }
   ],
   "source": [
    "# PVE (aka scree) plot\n",
    "PVEplot <- qplot(c(1:4), PVE) + \n",
    "  geom_line() + \n",
    "\n",
    "  xlab(\"Principal Component\") + \n",
    "  ylab(\"PVE\") +\n",
    "  ggtitle(\"Scree Plot\") +\n",
    "  ylim(0, 1)\n",
    "\n",
    "# Cumulative PVE plot\n",
    "cumPVE <- qplot(c(1:4), cumsum(PVE)) + \n",
    "  geom_line() + \n",
    "  xlab(\"Principal Component\") + \n",
    "  ylab(NULL) + \n",
    "  ggtitle(\"Cumulative Scree Plot\") +\n",
    "  ylim(0,1)\n",
    "\n",
    "grid.arrange(PVEplot, cumPVE, ncol = 2)"
   ]
  },
  {
   "cell_type": "markdown",
   "metadata": {},
   "source": [
    "In R there are many packages that can be used to run PCA that generate very nice visuals and more information than given in here. You can continue the tutorial given in [http://uc-r.github.io/pca](http://uc-r.github.io/pca) that uses the function prcomp from the base package.\n",
    "\n",
    "Other packages that have PCA analysis are (see [http://www.gastonsanchez.com/visually-enforced/how-to/2012/06/17/PCA-in-R/](http://www.gastonsanchez.com/visually-enforced/how-to/2012/06/17/PCA-in-R/) for more details:\n",
    "\n",
    "-  prcomp() (stats)\n",
    "-  princomp() (stats)\n",
    "-  PCA() (FactoMineR)\n",
    "-  dudi.pca() (ade4)\n",
    "-  acp() (amap)\n"
   ]
  }
 ],
 "metadata": {
  "celltoolbar": "Slideshow",
  "kernelspec": {
   "display_name": "R",
   "language": "R",
   "name": "ir"
  },
  "language_info": {
   "codemirror_mode": "r",
   "file_extension": ".r",
   "mimetype": "text/x-r-source",
   "name": "R",
   "pygments_lexer": "r",
   "version": "3.6.2"
  }
 },
 "nbformat": 4,
 "nbformat_minor": 2
}
